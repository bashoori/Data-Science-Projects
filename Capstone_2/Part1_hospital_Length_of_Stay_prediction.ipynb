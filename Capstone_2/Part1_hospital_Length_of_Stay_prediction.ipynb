{
 "cells": [
  {
   "cell_type": "markdown",
   "metadata": {},
   "source": [
    "# Predicting Length-of-Stay at time of Hospital admission"
   ]
  },
  {
   "cell_type": "markdown",
   "metadata": {},
   "source": [
    "Over the past few years, there has been increased interest in data mining and machine learning methods to improve hospital performance, in particular hospitals want to improve their intensive care unit (ICU) statistics by reducing the number of patients dying inside the ICUi, increasingly larger elderly population, combined with economic challenges, lack of expertise, staff and hospital beds, it is clear that the healthcare will have to battle enormous challenges in the years to come.\n",
    "<br><br>In order to face these challenges, hospitals need to allocate the available resources in an efficient manner. For hospitals to optimize resource allocation many different methods have been implemented and explored for these purposes.\n",
    "<br><br>To optimize resource allocation, it is important to predict accurately how long a newly admitted patient will stay in the hospital. The length-of-stay (LOS) prediction provides better services, managing hospital resources and controls their costs. According to Canadian Institute for Health Information, A high cost of a standard hospital stay indicates a relative high cost of treating the average acute inpatient and a low cost of a standard hospital stay indicates the cost of treating the average acute inpatient is relatively loweriii. Then length-of-stay is important healthcare performance metric to explore."
   ]
  },
  {
   "cell_type": "markdown",
   "metadata": {
    "toc": true
   },
   "source": [
    "<h1>Table of Contents<span class=\"tocSkip\"></span></h1>\n",
    "<div class=\"toc\"><ul class=\"toc-item\"><li><span><a href=\"#Project-Overview\" data-toc-modified-id=\"Project-Overview-1\"><span class=\"toc-item-num\">1&nbsp;&nbsp;</span>Project Overview</a></span><ul class=\"toc-item\"><li><span><a href=\"#Problem-Statement\" data-toc-modified-id=\"Problem-Statement-1.1\"><span class=\"toc-item-num\">1.1&nbsp;&nbsp;</span>Problem Statement</a></span></li><li><span><a href=\"#Metrics\" data-toc-modified-id=\"Metrics-1.2\"><span class=\"toc-item-num\">1.2&nbsp;&nbsp;</span>Metrics</a></span></li></ul></li><li><span><a href=\"#Data-Exploration\" data-toc-modified-id=\"Data-Exploration-2\"><span class=\"toc-item-num\">2&nbsp;&nbsp;</span>Data Exploration</a></span><ul class=\"toc-item\"><li><span><a href=\"#ADMISSIONS.csv-Exploration\" data-toc-modified-id=\"ADMISSIONS.csv-Exploration-2.1\"><span class=\"toc-item-num\">2.1&nbsp;&nbsp;</span>ADMISSIONS.csv Exploration</a></span></li><li><span><a href=\"#Length-of-Stay-(Feature-Engineering)\" data-toc-modified-id=\"Length-of-Stay-(Feature-Engineering)-2.2\"><span class=\"toc-item-num\">2.2&nbsp;&nbsp;</span>Length-of-Stay (Feature Engineering)</a></span></li><li><span><a href=\"#Deathtime\" data-toc-modified-id=\"Deathtime-2.3\"><span class=\"toc-item-num\">2.3&nbsp;&nbsp;</span>Deathtime</a></span></li><li><span><a href=\"#Ethnicity\" data-toc-modified-id=\"Ethnicity-2.4\"><span class=\"toc-item-num\">2.4&nbsp;&nbsp;</span>Ethnicity</a></span></li><li><span><a href=\"#Religion\" data-toc-modified-id=\"Religion-2.5\"><span class=\"toc-item-num\">2.5&nbsp;&nbsp;</span>Religion</a></span></li><li><span><a href=\"#Admission-Type\" data-toc-modified-id=\"Admission-Type-2.6\"><span class=\"toc-item-num\">2.6&nbsp;&nbsp;</span>Admission Type</a></span></li><li><span><a href=\"#Insurance\" data-toc-modified-id=\"Insurance-2.7\"><span class=\"toc-item-num\">2.7&nbsp;&nbsp;</span>Insurance</a></span></li><li><span><a href=\"#Marital-status\" data-toc-modified-id=\"Marital-status-2.8\"><span class=\"toc-item-num\">2.8&nbsp;&nbsp;</span>Marital status</a></span></li><li><span><a href=\"#DIAGNOSES_ICD.csv-Exploration\" data-toc-modified-id=\"DIAGNOSES_ICD.csv-Exploration-2.9\"><span class=\"toc-item-num\">2.9&nbsp;&nbsp;</span>DIAGNOSES_ICD.csv Exploration</a></span><ul class=\"toc-item\"><li><span><a href=\"#ICD-9-Code-Feature-Engineering\" data-toc-modified-id=\"ICD-9-Code-Feature-Engineering-2.9.1\"><span class=\"toc-item-num\">2.9.1&nbsp;&nbsp;</span>ICD-9 Code Feature Engineering</a></span></li></ul></li></ul></li><li><span><a href=\"#Patients.csv-Exploration\" data-toc-modified-id=\"Patients.csv-Exploration-3\"><span class=\"toc-item-num\">3&nbsp;&nbsp;</span>Patients.csv Exploration</a></span><ul class=\"toc-item\"><li><span><a href=\"#Age-(Feature-Engineering)\" data-toc-modified-id=\"Age-(Feature-Engineering)-3.1\"><span class=\"toc-item-num\">3.1&nbsp;&nbsp;</span>Age (Feature Engineering)</a></span></li><li><span><a href=\"#Gender\" data-toc-modified-id=\"Gender-3.2\"><span class=\"toc-item-num\">3.2&nbsp;&nbsp;</span>Gender</a></span></li><li><span><a href=\"#ICUSTAYS.csv-Exploration\" data-toc-modified-id=\"ICUSTAYS.csv-Exploration-3.3\"><span class=\"toc-item-num\">3.3&nbsp;&nbsp;</span>ICUSTAYS.csv Exploration</a></span></li><li><span><a href=\"#ICU-(Feature-Engineering)\" data-toc-modified-id=\"ICU-(Feature-Engineering)-3.4\"><span class=\"toc-item-num\">3.4&nbsp;&nbsp;</span>ICU (Feature Engineering)</a></span></li></ul></li><li><span><a href=\"#Data-Preprocessing\" data-toc-modified-id=\"Data-Preprocessing-4\"><span class=\"toc-item-num\">4&nbsp;&nbsp;</span>Data Preprocessing</a></span><ul class=\"toc-item\"><li><span><a href=\"#Correlation-Matrix\" data-toc-modified-id=\"Correlation-Matrix-4.1\"><span class=\"toc-item-num\">4.1&nbsp;&nbsp;</span>Correlation Matrix</a></span></li><li><span><a href=\"#Data-Cleanup-Function\" data-toc-modified-id=\"Data-Cleanup-Function-4.2\"><span class=\"toc-item-num\">4.2&nbsp;&nbsp;</span>Data Cleanup Function</a></span></li></ul></li></ul></div>"
   ]
  },
  {
   "cell_type": "markdown",
   "metadata": {},
   "source": [
    "## Project Overview"
   ]
  },
  {
   "cell_type": "markdown",
   "metadata": {},
   "source": [
    "The goal of this project is creating a model that predicts the length-of-stay for each patient at time of admission and also identify factors are associated with length of hospital stay, based on health records, in order to manage hospital stay more efficiently.<br>The inputs to the prediction model will include features such as patient’s diagnosis category (e.g. heart disease, delivery, injury/poisoning, etc.), age, gender, and race."
   ]
  },
  {
   "cell_type": "markdown",
   "metadata": {},
   "source": [
    "### Problem Statement"
   ]
  },
  {
   "cell_type": "markdown",
   "metadata": {},
   "source": [
    "The goal of this project is to create a model that predicts the length-of-stay for each patient at time of admission."
   ]
  },
  {
   "cell_type": "markdown",
   "metadata": {},
   "source": [
    "### Metrics"
   ]
  },
  {
   "cell_type": "markdown",
   "metadata": {},
   "source": [
    "The expected outcome of this project is to develop a model that will be better at predicting hospital LOS than the industry standards of median and average LOS. The median LOS is simply the median LOS of past admissions to a hospital. Similarly, a second commonly used metric in healthcare is the average, or mean LOS. \n",
    "\n",
    "To measure performance, I’ll compare the prediction model against the median and average LOS using the root-mean-square error (RMSE). The RMSE is a commonly used measure of the differences between values predicted by a model and the values observed, where a lower score implies better accuracy.\n"
   ]
  },
  {
   "cell_type": "code",
   "execution_count": 1,
   "metadata": {},
   "outputs": [],
   "source": [
    "# Imports\n",
    "import pandas as pd\n",
    "import numpy as np\n",
    "import matplotlib.pyplot as plt\n",
    "import seaborn as sns\n",
    "from matplotlib.patches import Rectangle\n",
    "from sklearn.model_selection import train_test_split\n",
    "from sklearn.metrics import r2_score, mean_squared_error\n",
    "from sklearn.preprocessing import MinMaxScaler\n",
    "from sklearn.neighbors import KNeighborsRegressor\n",
    "from sklearn.linear_model import LinearRegression\n",
    "from sklearn.svm import SVR\n",
    "from sklearn.ensemble import RandomForestRegressor\n",
    "from sklearn.tree import DecisionTreeRegressor\n",
    "from scipy.stats import pearsonr\n",
    "from sklearn.ensemble import GradientBoostingRegressor\n",
    "from sklearn.linear_model import SGDRegressor\n",
    "import statsmodels.api as sm\n",
    "from sklearn.model_selection import GridSearchCV\n",
    "import seaborn as sns"
   ]
  },
  {
   "cell_type": "code",
   "execution_count": 2,
   "metadata": {},
   "outputs": [
    {
     "data": {
      "text/plain": [
       "<Figure size 1008x504 with 0 Axes>"
      ]
     },
     "metadata": {},
     "output_type": "display_data"
    }
   ],
   "source": [
    "plt.figure(figsize=(14,7)) # Make it 14x7 inch\n",
    "plt.style.use('seaborn-whitegrid') # nice and clean grid"
   ]
  },
  {
   "cell_type": "markdown",
   "metadata": {},
   "source": [
    "The following csv files were downloaded from the MIMIC-III database."
   ]
  },
  {
   "cell_type": "code",
   "execution_count": 3,
   "metadata": {},
   "outputs": [],
   "source": [
    "# Primary Admissions information\n",
    "df = pd.read_csv('input_data/ADMISSIONS.csv')\n",
    "\n",
    "# Patient specific info such as gender\n",
    "df_pat = pd.read_csv('input_data/PATIENTS.csv')\n",
    "\n",
    "# Diagnosis for each admission to hospital\n",
    "df_diagcode = pd.read_csv('input_data/DIAGNOSES_ICD.csv')\n",
    "\n",
    "# Intensive Care Unit (ICU) for each admission to hospital\n",
    "df_icu = pd.read_csv('input_data/ICUSTAYS.csv')"
   ]
  },
  {
   "cell_type": "markdown",
   "metadata": {},
   "source": [
    "## Data Exploration"
   ]
  },
  {
   "cell_type": "markdown",
   "metadata": {},
   "source": [
    " the dataset should ideally include features such as the patient’s diagnosis category (e.g. heart disease, delivery, injury/poisoning, etc.), age, gender, marital status, and race."
   ]
  },
  {
   "cell_type": "markdown",
   "metadata": {},
   "source": [
    "### ADMISSIONS.csv Exploration"
   ]
  },
  {
   "cell_type": "markdown",
   "metadata": {},
   "source": [
    "From MIMIC: The ADMISSIONS table gives information regarding a patient’s admission to the hospital. Since each unique hospital visit for a patient is assigned a unique HADM_ID, the ADMISSIONS table can be considered as a definition table for HADM_ID. Information available includes timing information for admission and discharge, demographic information, the source of the admission, and so on."
   ]
  },
  {
   "cell_type": "code",
   "execution_count": 4,
   "metadata": {},
   "outputs": [
    {
     "name": "stdout",
     "output_type": "stream",
     "text": [
      "Dataset has 58976 number of unique admission events.\n",
      "Dataset has 46520 number of unique patients.\n"
     ]
    }
   ],
   "source": [
    "print('Dataset has {} number of unique admission events.'.format(df['HADM_ID'].nunique()))\n",
    "print('Dataset has {} number of unique patients.'.format(df['SUBJECT_ID'].nunique()))"
   ]
  },
  {
   "cell_type": "markdown",
   "metadata": {},
   "source": [
    "### Length-of-Stay (Feature Engineering)"
   ]
  },
  {
   "cell_type": "markdown",
   "metadata": {},
   "source": [
    "The first task is to figure out a way to calculate the LOS.LOS is defined as the time between hospital admission and discharge measured in days."
   ]
  },
  {
   "cell_type": "code",
   "execution_count": 5,
   "metadata": {},
   "outputs": [],
   "source": [
    "# Convert admission and discharge times to datatime type\n",
    "df['ADMITTIME'] = pd.to_datetime(df['ADMITTIME'])\n",
    "df['DISCHTIME'] = pd.to_datetime(df['DISCHTIME'])\n",
    "\n",
    "# Convert timedelta type into float 'days', 86400 seconds in a day\n",
    "df['LOS'] = (df['DISCHTIME'] - df['ADMITTIME']).dt.total_seconds()/86400"
   ]
  },
  {
   "cell_type": "code",
   "execution_count": 6,
   "metadata": {},
   "outputs": [
    {
     "data": {
      "text/html": [
       "<div>\n",
       "<style scoped>\n",
       "    .dataframe tbody tr th:only-of-type {\n",
       "        vertical-align: middle;\n",
       "    }\n",
       "\n",
       "    .dataframe tbody tr th {\n",
       "        vertical-align: top;\n",
       "    }\n",
       "\n",
       "    .dataframe thead th {\n",
       "        text-align: right;\n",
       "    }\n",
       "</style>\n",
       "<table border=\"1\" class=\"dataframe\">\n",
       "  <thead>\n",
       "    <tr style=\"text-align: right;\">\n",
       "      <th></th>\n",
       "      <th>ADMITTIME</th>\n",
       "      <th>DISCHTIME</th>\n",
       "      <th>LOS</th>\n",
       "    </tr>\n",
       "  </thead>\n",
       "  <tbody>\n",
       "    <tr>\n",
       "      <th>0</th>\n",
       "      <td>2196-04-09 12:26:00</td>\n",
       "      <td>2196-04-10 15:54:00</td>\n",
       "      <td>1.144444</td>\n",
       "    </tr>\n",
       "    <tr>\n",
       "      <th>1</th>\n",
       "      <td>2153-09-03 07:15:00</td>\n",
       "      <td>2153-09-08 19:10:00</td>\n",
       "      <td>5.496528</td>\n",
       "    </tr>\n",
       "    <tr>\n",
       "      <th>2</th>\n",
       "      <td>2157-10-18 19:34:00</td>\n",
       "      <td>2157-10-25 14:00:00</td>\n",
       "      <td>6.768056</td>\n",
       "    </tr>\n",
       "    <tr>\n",
       "      <th>3</th>\n",
       "      <td>2139-06-06 16:14:00</td>\n",
       "      <td>2139-06-09 12:48:00</td>\n",
       "      <td>2.856944</td>\n",
       "    </tr>\n",
       "    <tr>\n",
       "      <th>4</th>\n",
       "      <td>2160-11-02 02:06:00</td>\n",
       "      <td>2160-11-05 14:55:00</td>\n",
       "      <td>3.534028</td>\n",
       "    </tr>\n",
       "  </tbody>\n",
       "</table>\n",
       "</div>"
      ],
      "text/plain": [
       "            ADMITTIME           DISCHTIME       LOS\n",
       "0 2196-04-09 12:26:00 2196-04-10 15:54:00  1.144444\n",
       "1 2153-09-03 07:15:00 2153-09-08 19:10:00  5.496528\n",
       "2 2157-10-18 19:34:00 2157-10-25 14:00:00  6.768056\n",
       "3 2139-06-06 16:14:00 2139-06-09 12:48:00  2.856944\n",
       "4 2160-11-02 02:06:00 2160-11-05 14:55:00  3.534028"
      ]
     },
     "execution_count": 6,
     "metadata": {},
     "output_type": "execute_result"
    }
   ],
   "source": [
    "# Verify\n",
    "df[['ADMITTIME', 'DISCHTIME', 'LOS']].head()"
   ]
  },
  {
   "cell_type": "code",
   "execution_count": 7,
   "metadata": {},
   "outputs": [
    {
     "data": {
      "text/plain": [
       "count    58976.000000\n",
       "mean        10.133916\n",
       "std         12.456682\n",
       "min         -0.945139\n",
       "25%          3.743750\n",
       "50%          6.467014\n",
       "75%         11.795139\n",
       "max        294.660417\n",
       "Name: LOS, dtype: float64"
      ]
     },
     "execution_count": 7,
     "metadata": {},
     "output_type": "execute_result"
    }
   ],
   "source": [
    "df['LOS'].describe()"
   ]
  },
  {
   "cell_type": "code",
   "execution_count": 8,
   "metadata": {},
   "outputs": [
    {
     "data": {
      "text/html": [
       "<div>\n",
       "<style scoped>\n",
       "    .dataframe tbody tr th:only-of-type {\n",
       "        vertical-align: middle;\n",
       "    }\n",
       "\n",
       "    .dataframe tbody tr th {\n",
       "        vertical-align: top;\n",
       "    }\n",
       "\n",
       "    .dataframe thead th {\n",
       "        text-align: right;\n",
       "    }\n",
       "</style>\n",
       "<table border=\"1\" class=\"dataframe\">\n",
       "  <thead>\n",
       "    <tr style=\"text-align: right;\">\n",
       "      <th></th>\n",
       "      <th>ROW_ID</th>\n",
       "      <th>SUBJECT_ID</th>\n",
       "      <th>HADM_ID</th>\n",
       "      <th>ADMITTIME</th>\n",
       "      <th>DISCHTIME</th>\n",
       "      <th>DEATHTIME</th>\n",
       "      <th>ADMISSION_TYPE</th>\n",
       "      <th>ADMISSION_LOCATION</th>\n",
       "      <th>DISCHARGE_LOCATION</th>\n",
       "      <th>INSURANCE</th>\n",
       "      <th>LANGUAGE</th>\n",
       "      <th>RELIGION</th>\n",
       "      <th>MARITAL_STATUS</th>\n",
       "      <th>ETHNICITY</th>\n",
       "      <th>EDREGTIME</th>\n",
       "      <th>EDOUTTIME</th>\n",
       "      <th>DIAGNOSIS</th>\n",
       "      <th>HOSPITAL_EXPIRE_FLAG</th>\n",
       "      <th>HAS_CHARTEVENTS_DATA</th>\n",
       "      <th>LOS</th>\n",
       "    </tr>\n",
       "  </thead>\n",
       "  <tbody>\n",
       "    <tr>\n",
       "      <th>425</th>\n",
       "      <td>534</td>\n",
       "      <td>417</td>\n",
       "      <td>102633</td>\n",
       "      <td>2177-03-23 16:17:00</td>\n",
       "      <td>2177-03-23 07:20:00</td>\n",
       "      <td>2177-03-23 07:20:00</td>\n",
       "      <td>URGENT</td>\n",
       "      <td>PHYS REFERRAL/NORMAL DELI</td>\n",
       "      <td>DEAD/EXPIRED</td>\n",
       "      <td>Private</td>\n",
       "      <td>NaN</td>\n",
       "      <td>UNOBTAINABLE</td>\n",
       "      <td>MARRIED</td>\n",
       "      <td>WHITE</td>\n",
       "      <td>NaN</td>\n",
       "      <td>NaN</td>\n",
       "      <td>ORGAN DONOR ACCOUNT</td>\n",
       "      <td>1</td>\n",
       "      <td>1</td>\n",
       "      <td>-0.372917</td>\n",
       "    </tr>\n",
       "    <tr>\n",
       "      <th>456</th>\n",
       "      <td>237</td>\n",
       "      <td>181</td>\n",
       "      <td>102631</td>\n",
       "      <td>2153-10-12 09:49:00</td>\n",
       "      <td>2153-10-12 06:29:00</td>\n",
       "      <td>2153-10-12 06:29:00</td>\n",
       "      <td>EMERGENCY</td>\n",
       "      <td>EMERGENCY ROOM ADMIT</td>\n",
       "      <td>DEAD/EXPIRED</td>\n",
       "      <td>Private</td>\n",
       "      <td>NaN</td>\n",
       "      <td>PROTESTANT QUAKER</td>\n",
       "      <td>MARRIED</td>\n",
       "      <td>WHITE</td>\n",
       "      <td>2153-10-12 06:23:00</td>\n",
       "      <td>2153-10-12 07:45:00</td>\n",
       "      <td>DISSECTING ANEURYSIM</td>\n",
       "      <td>1</td>\n",
       "      <td>1</td>\n",
       "      <td>-0.138889</td>\n",
       "    </tr>\n",
       "    <tr>\n",
       "      <th>692</th>\n",
       "      <td>644</td>\n",
       "      <td>516</td>\n",
       "      <td>187482</td>\n",
       "      <td>2197-07-31 20:18:00</td>\n",
       "      <td>2197-07-31 01:10:00</td>\n",
       "      <td>2197-07-31 01:10:00</td>\n",
       "      <td>EMERGENCY</td>\n",
       "      <td>EMERGENCY ROOM ADMIT</td>\n",
       "      <td>DEAD/EXPIRED</td>\n",
       "      <td>Medicare</td>\n",
       "      <td>NaN</td>\n",
       "      <td>JEWISH</td>\n",
       "      <td>WIDOWED</td>\n",
       "      <td>UNKNOWN/NOT SPECIFIED</td>\n",
       "      <td>2197-07-31 11:31:00</td>\n",
       "      <td>2197-07-31 14:35:00</td>\n",
       "      <td>RESPIRATORY DISTRESS</td>\n",
       "      <td>1</td>\n",
       "      <td>0</td>\n",
       "      <td>-0.797222</td>\n",
       "    </tr>\n",
       "    <tr>\n",
       "      <th>1911</th>\n",
       "      <td>1640</td>\n",
       "      <td>1334</td>\n",
       "      <td>138015</td>\n",
       "      <td>2137-09-02 14:43:00</td>\n",
       "      <td>2137-09-02 12:00:00</td>\n",
       "      <td>2137-09-02 12:00:00</td>\n",
       "      <td>NEWBORN</td>\n",
       "      <td>CLINIC REFERRAL/PREMATURE</td>\n",
       "      <td>DEAD/EXPIRED</td>\n",
       "      <td>Private</td>\n",
       "      <td>NaN</td>\n",
       "      <td>PROTESTANT QUAKER</td>\n",
       "      <td>NaN</td>\n",
       "      <td>WHITE</td>\n",
       "      <td>NaN</td>\n",
       "      <td>NaN</td>\n",
       "      <td>NEWBORN</td>\n",
       "      <td>1</td>\n",
       "      <td>1</td>\n",
       "      <td>-0.113194</td>\n",
       "    </tr>\n",
       "    <tr>\n",
       "      <th>1970</th>\n",
       "      <td>1699</td>\n",
       "      <td>1381</td>\n",
       "      <td>181430</td>\n",
       "      <td>2189-01-02 14:25:00</td>\n",
       "      <td>2189-01-02 12:00:00</td>\n",
       "      <td>2189-01-02 12:00:00</td>\n",
       "      <td>EMERGENCY</td>\n",
       "      <td>EMERGENCY ROOM ADMIT</td>\n",
       "      <td>DEAD/EXPIRED</td>\n",
       "      <td>Medicare</td>\n",
       "      <td>NaN</td>\n",
       "      <td>UNOBTAINABLE</td>\n",
       "      <td>MARRIED</td>\n",
       "      <td>WHITE</td>\n",
       "      <td>2189-01-02 10:31:00</td>\n",
       "      <td>2189-01-02 15:56:00</td>\n",
       "      <td>STROKE;TELEMETRY</td>\n",
       "      <td>1</td>\n",
       "      <td>1</td>\n",
       "      <td>-0.100694</td>\n",
       "    </tr>\n",
       "    <tr>\n",
       "      <th>...</th>\n",
       "      <td>...</td>\n",
       "      <td>...</td>\n",
       "      <td>...</td>\n",
       "      <td>...</td>\n",
       "      <td>...</td>\n",
       "      <td>...</td>\n",
       "      <td>...</td>\n",
       "      <td>...</td>\n",
       "      <td>...</td>\n",
       "      <td>...</td>\n",
       "      <td>...</td>\n",
       "      <td>...</td>\n",
       "      <td>...</td>\n",
       "      <td>...</td>\n",
       "      <td>...</td>\n",
       "      <td>...</td>\n",
       "      <td>...</td>\n",
       "      <td>...</td>\n",
       "      <td>...</td>\n",
       "      <td>...</td>\n",
       "    </tr>\n",
       "    <tr>\n",
       "      <th>57233</th>\n",
       "      <td>57980</td>\n",
       "      <td>96810</td>\n",
       "      <td>165589</td>\n",
       "      <td>2103-09-25 20:38:00</td>\n",
       "      <td>2103-09-25 12:00:00</td>\n",
       "      <td>2103-09-25 12:00:00</td>\n",
       "      <td>EMERGENCY</td>\n",
       "      <td>EMERGENCY ROOM ADMIT</td>\n",
       "      <td>DEAD/EXPIRED</td>\n",
       "      <td>Medicaid</td>\n",
       "      <td>RUSS</td>\n",
       "      <td>UNOBTAINABLE</td>\n",
       "      <td>WIDOWED</td>\n",
       "      <td>WHITE</td>\n",
       "      <td>2103-09-25 19:27:00</td>\n",
       "      <td>2103-09-25 21:37:00</td>\n",
       "      <td>CARDIAC ARREST</td>\n",
       "      <td>1</td>\n",
       "      <td>1</td>\n",
       "      <td>-0.359722</td>\n",
       "    </tr>\n",
       "    <tr>\n",
       "      <th>57559</th>\n",
       "      <td>58635</td>\n",
       "      <td>98943</td>\n",
       "      <td>193747</td>\n",
       "      <td>2164-11-14 20:03:00</td>\n",
       "      <td>2164-11-14 12:00:00</td>\n",
       "      <td>2164-11-14 12:00:00</td>\n",
       "      <td>EMERGENCY</td>\n",
       "      <td>EMERGENCY ROOM ADMIT</td>\n",
       "      <td>DEAD/EXPIRED</td>\n",
       "      <td>Medicare</td>\n",
       "      <td>ENGL</td>\n",
       "      <td>UNOBTAINABLE</td>\n",
       "      <td>MARRIED</td>\n",
       "      <td>WHITE</td>\n",
       "      <td>2164-11-14 18:24:00</td>\n",
       "      <td>2164-11-14 20:54:00</td>\n",
       "      <td>INTRACRANIAL HEMORRHAGE</td>\n",
       "      <td>1</td>\n",
       "      <td>1</td>\n",
       "      <td>-0.335417</td>\n",
       "    </tr>\n",
       "    <tr>\n",
       "      <th>57902</th>\n",
       "      <td>58720</td>\n",
       "      <td>99207</td>\n",
       "      <td>191004</td>\n",
       "      <td>2143-07-06 19:59:00</td>\n",
       "      <td>2143-07-06 12:00:00</td>\n",
       "      <td>2143-07-06 12:00:00</td>\n",
       "      <td>EMERGENCY</td>\n",
       "      <td>EMERGENCY ROOM ADMIT</td>\n",
       "      <td>DEAD/EXPIRED</td>\n",
       "      <td>Medicaid</td>\n",
       "      <td>ENGL</td>\n",
       "      <td>CATHOLIC</td>\n",
       "      <td>DIVORCED</td>\n",
       "      <td>WHITE</td>\n",
       "      <td>2143-07-06 19:30:00</td>\n",
       "      <td>2143-07-06 20:05:00</td>\n",
       "      <td>GSW L. CHEST  WALL &amp; ABDOMEN</td>\n",
       "      <td>1</td>\n",
       "      <td>1</td>\n",
       "      <td>-0.332639</td>\n",
       "    </tr>\n",
       "    <tr>\n",
       "      <th>58346</th>\n",
       "      <td>55950</td>\n",
       "      <td>90642</td>\n",
       "      <td>101946</td>\n",
       "      <td>2122-04-24 14:36:00</td>\n",
       "      <td>2122-04-24 12:00:00</td>\n",
       "      <td>2122-04-24 12:00:00</td>\n",
       "      <td>EMERGENCY</td>\n",
       "      <td>TRANSFER FROM HOSP/EXTRAM</td>\n",
       "      <td>DEAD/EXPIRED</td>\n",
       "      <td>Private</td>\n",
       "      <td>NaN</td>\n",
       "      <td>CATHOLIC</td>\n",
       "      <td>MARRIED</td>\n",
       "      <td>UNABLE TO OBTAIN</td>\n",
       "      <td>NaN</td>\n",
       "      <td>NaN</td>\n",
       "      <td>ST-SEGMENT ELEVATION MYOCARDIAL INFARCTION\\CATH</td>\n",
       "      <td>1</td>\n",
       "      <td>1</td>\n",
       "      <td>-0.108333</td>\n",
       "    </tr>\n",
       "    <tr>\n",
       "      <th>58884</th>\n",
       "      <td>57477</td>\n",
       "      <td>95367</td>\n",
       "      <td>139266</td>\n",
       "      <td>2135-04-03 14:16:00</td>\n",
       "      <td>2135-04-03 12:00:00</td>\n",
       "      <td>2135-04-03 12:00:00</td>\n",
       "      <td>EMERGENCY</td>\n",
       "      <td>EMERGENCY ROOM ADMIT</td>\n",
       "      <td>DEAD/EXPIRED</td>\n",
       "      <td>Medicare</td>\n",
       "      <td>ENGL</td>\n",
       "      <td>CATHOLIC</td>\n",
       "      <td>MARRIED</td>\n",
       "      <td>WHITE</td>\n",
       "      <td>2135-04-03 12:23:00</td>\n",
       "      <td>2135-04-03 15:41:00</td>\n",
       "      <td>CHEST PAIN</td>\n",
       "      <td>1</td>\n",
       "      <td>1</td>\n",
       "      <td>-0.094444</td>\n",
       "    </tr>\n",
       "  </tbody>\n",
       "</table>\n",
       "<p>98 rows × 20 columns</p>\n",
       "</div>"
      ],
      "text/plain": [
       "       ROW_ID  SUBJECT_ID  HADM_ID           ADMITTIME           DISCHTIME  \\\n",
       "425       534         417   102633 2177-03-23 16:17:00 2177-03-23 07:20:00   \n",
       "456       237         181   102631 2153-10-12 09:49:00 2153-10-12 06:29:00   \n",
       "692       644         516   187482 2197-07-31 20:18:00 2197-07-31 01:10:00   \n",
       "1911     1640        1334   138015 2137-09-02 14:43:00 2137-09-02 12:00:00   \n",
       "1970     1699        1381   181430 2189-01-02 14:25:00 2189-01-02 12:00:00   \n",
       "...       ...         ...      ...                 ...                 ...   \n",
       "57233   57980       96810   165589 2103-09-25 20:38:00 2103-09-25 12:00:00   \n",
       "57559   58635       98943   193747 2164-11-14 20:03:00 2164-11-14 12:00:00   \n",
       "57902   58720       99207   191004 2143-07-06 19:59:00 2143-07-06 12:00:00   \n",
       "58346   55950       90642   101946 2122-04-24 14:36:00 2122-04-24 12:00:00   \n",
       "58884   57477       95367   139266 2135-04-03 14:16:00 2135-04-03 12:00:00   \n",
       "\n",
       "                 DEATHTIME ADMISSION_TYPE         ADMISSION_LOCATION  \\\n",
       "425    2177-03-23 07:20:00         URGENT  PHYS REFERRAL/NORMAL DELI   \n",
       "456    2153-10-12 06:29:00      EMERGENCY       EMERGENCY ROOM ADMIT   \n",
       "692    2197-07-31 01:10:00      EMERGENCY       EMERGENCY ROOM ADMIT   \n",
       "1911   2137-09-02 12:00:00        NEWBORN  CLINIC REFERRAL/PREMATURE   \n",
       "1970   2189-01-02 12:00:00      EMERGENCY       EMERGENCY ROOM ADMIT   \n",
       "...                    ...            ...                        ...   \n",
       "57233  2103-09-25 12:00:00      EMERGENCY       EMERGENCY ROOM ADMIT   \n",
       "57559  2164-11-14 12:00:00      EMERGENCY       EMERGENCY ROOM ADMIT   \n",
       "57902  2143-07-06 12:00:00      EMERGENCY       EMERGENCY ROOM ADMIT   \n",
       "58346  2122-04-24 12:00:00      EMERGENCY  TRANSFER FROM HOSP/EXTRAM   \n",
       "58884  2135-04-03 12:00:00      EMERGENCY       EMERGENCY ROOM ADMIT   \n",
       "\n",
       "      DISCHARGE_LOCATION INSURANCE LANGUAGE           RELIGION MARITAL_STATUS  \\\n",
       "425         DEAD/EXPIRED   Private      NaN       UNOBTAINABLE        MARRIED   \n",
       "456         DEAD/EXPIRED   Private      NaN  PROTESTANT QUAKER        MARRIED   \n",
       "692         DEAD/EXPIRED  Medicare      NaN             JEWISH        WIDOWED   \n",
       "1911        DEAD/EXPIRED   Private      NaN  PROTESTANT QUAKER            NaN   \n",
       "1970        DEAD/EXPIRED  Medicare      NaN       UNOBTAINABLE        MARRIED   \n",
       "...                  ...       ...      ...                ...            ...   \n",
       "57233       DEAD/EXPIRED  Medicaid     RUSS       UNOBTAINABLE        WIDOWED   \n",
       "57559       DEAD/EXPIRED  Medicare     ENGL       UNOBTAINABLE        MARRIED   \n",
       "57902       DEAD/EXPIRED  Medicaid     ENGL           CATHOLIC       DIVORCED   \n",
       "58346       DEAD/EXPIRED   Private      NaN           CATHOLIC        MARRIED   \n",
       "58884       DEAD/EXPIRED  Medicare     ENGL           CATHOLIC        MARRIED   \n",
       "\n",
       "                   ETHNICITY            EDREGTIME            EDOUTTIME  \\\n",
       "425                    WHITE                  NaN                  NaN   \n",
       "456                    WHITE  2153-10-12 06:23:00  2153-10-12 07:45:00   \n",
       "692    UNKNOWN/NOT SPECIFIED  2197-07-31 11:31:00  2197-07-31 14:35:00   \n",
       "1911                   WHITE                  NaN                  NaN   \n",
       "1970                   WHITE  2189-01-02 10:31:00  2189-01-02 15:56:00   \n",
       "...                      ...                  ...                  ...   \n",
       "57233                  WHITE  2103-09-25 19:27:00  2103-09-25 21:37:00   \n",
       "57559                  WHITE  2164-11-14 18:24:00  2164-11-14 20:54:00   \n",
       "57902                  WHITE  2143-07-06 19:30:00  2143-07-06 20:05:00   \n",
       "58346       UNABLE TO OBTAIN                  NaN                  NaN   \n",
       "58884                  WHITE  2135-04-03 12:23:00  2135-04-03 15:41:00   \n",
       "\n",
       "                                             DIAGNOSIS  HOSPITAL_EXPIRE_FLAG  \\\n",
       "425                                ORGAN DONOR ACCOUNT                     1   \n",
       "456                               DISSECTING ANEURYSIM                     1   \n",
       "692                               RESPIRATORY DISTRESS                     1   \n",
       "1911                                           NEWBORN                     1   \n",
       "1970                                  STROKE;TELEMETRY                     1   \n",
       "...                                                ...                   ...   \n",
       "57233                                   CARDIAC ARREST                     1   \n",
       "57559                          INTRACRANIAL HEMORRHAGE                     1   \n",
       "57902                     GSW L. CHEST  WALL & ABDOMEN                     1   \n",
       "58346  ST-SEGMENT ELEVATION MYOCARDIAL INFARCTION\\CATH                     1   \n",
       "58884                                       CHEST PAIN                     1   \n",
       "\n",
       "       HAS_CHARTEVENTS_DATA       LOS  \n",
       "425                       1 -0.372917  \n",
       "456                       1 -0.138889  \n",
       "692                       0 -0.797222  \n",
       "1911                      1 -0.113194  \n",
       "1970                      1 -0.100694  \n",
       "...                     ...       ...  \n",
       "57233                     1 -0.359722  \n",
       "57559                     1 -0.335417  \n",
       "57902                     1 -0.332639  \n",
       "58346                     1 -0.108333  \n",
       "58884                     1 -0.094444  \n",
       "\n",
       "[98 rows x 20 columns]"
      ]
     },
     "execution_count": 8,
     "metadata": {},
     "output_type": "execute_result"
    }
   ],
   "source": [
    "# Look at what is happening with negative LOS values\n",
    "df[df['LOS'] < 0]"
   ]
  },
  {
   "cell_type": "code",
   "execution_count": 9,
   "metadata": {},
   "outputs": [
    {
     "data": {
      "text/plain": [
       "count    58878.000000\n",
       "mean        10.151266\n",
       "std         12.459774\n",
       "min          0.001389\n",
       "25%          3.755556\n",
       "50%          6.489583\n",
       "75%         11.805556\n",
       "max        294.660417\n",
       "Name: LOS, dtype: float64"
      ]
     },
     "execution_count": 9,
     "metadata": {},
     "output_type": "execute_result"
    }
   ],
   "source": [
    "# Drop rows with negative LOS, usually related to a time of death before admission\n",
    "df['LOS'][df['LOS'] > 0].describe()"
   ]
  },
  {
   "cell_type": "code",
   "execution_count": 10,
   "metadata": {},
   "outputs": [],
   "source": [
    "# Drop LOS < 0 \n",
    "df = df[df['LOS'] > 0]"
   ]
  },
  {
   "cell_type": "code",
   "execution_count": 11,
   "metadata": {},
   "outputs": [
    {
     "data": {
      "text/plain": [
       "5.281250     30\n",
       "5.302083     25\n",
       "4.197917     23\n",
       "4.322917     23\n",
       "4.270833     21\n",
       "             ..\n",
       "15.529167     1\n",
       "14.449306     1\n",
       "9.189583      1\n",
       "14.756944     1\n",
       "19.776389     1\n",
       "Name: LOS, Length: 26211, dtype: int64"
      ]
     },
     "execution_count": 11,
     "metadata": {},
     "output_type": "execute_result"
    }
   ],
   "source": [
    "df['LOS'].value_counts()"
   ]
  },
  {
   "cell_type": "code",
   "execution_count": 12,
   "metadata": {},
   "outputs": [],
   "source": [
    "# Re-usable plotting function\n",
    "def plot_with_legend(data,bins,xlim,xlabel,ylabel,title):  \n",
    "\n",
    "    N, bins, patches = plt.hist(data, bins, ec=\"k\")\n",
    "\n",
    "    cmap = plt.get_cmap('jet')\n",
    "    low = cmap(0.5)\n",
    "    medium =cmap(0.25)\n",
    "    high = cmap(0.8)\n",
    "    plt.xlim(0, xlim)\n",
    "\n",
    "    for i in range(0,10):\n",
    "        patches[i].set_facecolor(low)\n",
    "    for i in range(10,20):\n",
    "        patches[i].set_facecolor(medium)\n",
    "    for i in range(20,30):\n",
    "        patches[i].set_facecolor(high)\n",
    "\n",
    "    #create legend\n",
    "    handles = [Rectangle((0,0),1,1,color=c,ec=\"k\") for c in [low,medium, high]]\n",
    "    labels= [\"1-10 days\",\"10-20 days\", \"20-30 days\"]\n",
    "    plt.legend(handles, labels)\n",
    "\n",
    "    plt.xlabel(xlabel, fontsize=14)  \n",
    "    plt.ylabel(ylabel, fontsize=14)\n",
    "    plt.title(title,fontsize=16)\n",
    "    plt.xticks(fontsize=14)  \n",
    "    plt.yticks(fontsize=14)\n",
    "    plt.tick_params(top=False, right=False) \n",
    "\n",
    "    plt.gca().spines[\"top\"].set_visible(False)  \n",
    "    plt.gca().spines[\"right\"].set_visible(False)\n"
   ]
  },
  {
   "cell_type": "code",
   "execution_count": 13,
   "metadata": {},
   "outputs": [
    {
     "data": {
      "image/png": "[encoded data removed]",
      "text/plain": [
       "<Figure size 432x288 with 1 Axes>"
      ]
     },
     "metadata": {},
     "output_type": "display_data"
    }
   ],
   "source": [
    "# Plot LOS Distribution\n",
    "plot_with_legend(df['LOS'],200,50,'Length-of-Stay (days)','Count','Distribution of LOS(days) for all hospital admissions \\n incl. deceased')"
   ]
  },
  {
   "cell_type": "code",
   "execution_count": 14,
   "metadata": {},
   "outputs": [],
   "source": [
    "# Pre-emptively drop some columns that I don't need anymore\n",
    "df.drop(columns=['DISCHTIME', 'ROW_ID', \n",
    "                'EDREGTIME', 'EDOUTTIME', 'HOSPITAL_EXPIRE_FLAG',\n",
    "                'HAS_CHARTEVENTS_DATA'], inplace=True)"
   ]
  },
  {
   "cell_type": "markdown",
   "metadata": {},
   "source": [
    "### Deathtime"
   ]
  },
  {
   "cell_type": "markdown",
   "metadata": {},
   "source": [
    "Patients who died at the hospital will later be dropped from the DataFrame . In other words, LOS would be shorter for this group."
   ]
  },
  {
   "cell_type": "code",
   "execution_count": 15,
   "metadata": {},
   "outputs": [],
   "source": [
    "# Mark admissions where patients died in boolean column\n",
    "df['DECEASED'] = df['DEATHTIME'].notnull().map({True:1, False:0})"
   ]
  },
  {
   "cell_type": "code",
   "execution_count": 16,
   "metadata": {},
   "outputs": [
    {
     "name": "stdout",
     "output_type": "stream",
     "text": [
      "5774 of 46445 patients died in the hospital\n"
     ]
    }
   ],
   "source": [
    "print(\"{} of {} patients died in the hospital\".format(df['DECEASED'].sum(), \n",
    "                                                     df['SUBJECT_ID'].nunique()))"
   ]
  },
  {
   "cell_type": "code",
   "execution_count": 17,
   "metadata": {},
   "outputs": [
    {
     "data": {
      "text/plain": [
       "count    53104.000000\n",
       "mean        10.138174\n",
       "std         12.284461\n",
       "min          0.014583\n",
       "25%          3.866667\n",
       "50%          6.565972\n",
       "75%         11.711632\n",
       "max        294.660417\n",
       "Name: LOS, dtype: float64"
      ]
     },
     "execution_count": 17,
     "metadata": {},
     "output_type": "execute_result"
    }
   ],
   "source": [
    "# Look at statistics less admissions resulting in death\n",
    "df['LOS'].loc[df['DECEASED'] == 0].describe()"
   ]
  },
  {
   "cell_type": "code",
   "execution_count": 18,
   "metadata": {},
   "outputs": [
    {
     "name": "stdout",
     "output_type": "stream",
     "text": [
      "actual_mean_los:  10.138173704219758\n",
      "actual_median_los:  6.565972222222222\n"
     ]
    }
   ],
   "source": [
    "# Hospital LOS metrics for later comparison\n",
    "actual_mean_los = df['LOS'].loc[df['DECEASED'] == 0].mean() \n",
    "actual_median_los = df['LOS'].loc[df['DECEASED'] == 0].median() \n",
    "\n",
    "print('actual_mean_los: ',actual_mean_los)\n",
    "print('actual_median_los: ',actual_median_los)"
   ]
  },
  {
   "cell_type": "code",
   "execution_count": 19,
   "metadata": {},
   "outputs": [
    {
     "data": {
      "image/png": "[encoded data removed]",
      "text/plain": [
       "<Figure size 432x288 with 1 Axes>"
      ]
     },
     "metadata": {},
     "output_type": "display_data"
    }
   ],
   "source": [
    "plot_with_legend(df['LOS'].loc[df['DECEASED'] == 0],200,50,'Length-of-Stay (days)','Count','Distribution of LOS for hospital admissions')"
   ]
  },
  {
   "cell_type": "markdown",
   "metadata": {},
   "source": [
    "### Ethnicity"
   ]
  },
  {
   "cell_type": "markdown",
   "metadata": {},
   "source": [
    "Given the large amount of categories in the 'ETHNICITY' series, my aim was to reduce the column to a few categories. Interestly, asians have the lowest median LOS."
   ]
  },
  {
   "cell_type": "code",
   "execution_count": 20,
   "metadata": {},
   "outputs": [
    {
     "data": {
      "text/plain": [
       "WHITE                                                       40939\n",
       "BLACK/AFRICAN AMERICAN                                       5434\n",
       "UNKNOWN/NOT SPECIFIED                                        4502\n",
       "HISPANIC OR LATINO                                           1693\n",
       "ASIAN                                                        1508\n",
       "OTHER                                                        1507\n",
       "UNABLE TO OBTAIN                                              809\n",
       "PATIENT DECLINED TO ANSWER                                    559\n",
       "ASIAN - CHINESE                                               277\n",
       "HISPANIC/LATINO - PUERTO RICAN                                232\n",
       "BLACK/CAPE VERDEAN                                            200\n",
       "WHITE - RUSSIAN                                               164\n",
       "MULTI RACE ETHNICITY                                          130\n",
       "BLACK/HAITIAN                                                 101\n",
       "ASIAN - ASIAN INDIAN                                           85\n",
       "WHITE - OTHER EUROPEAN                                         81\n",
       "HISPANIC/LATINO - DOMINICAN                                    78\n",
       "PORTUGUESE                                                     61\n",
       "WHITE - BRAZILIAN                                              59\n",
       "ASIAN - VIETNAMESE                                             53\n",
       "AMERICAN INDIAN/ALASKA NATIVE                                  51\n",
       "BLACK/AFRICAN                                                  44\n",
       "MIDDLE EASTERN                                                 43\n",
       "HISPANIC/LATINO - GUATEMALAN                                   40\n",
       "ASIAN - FILIPINO                                               25\n",
       "WHITE - EASTERN EUROPEAN                                       25\n",
       "HISPANIC/LATINO - CUBAN                                        24\n",
       "HISPANIC/LATINO - SALVADORAN                                   19\n",
       "NATIVE HAWAIIAN OR OTHER PACIFIC ISLANDER                      18\n",
       "ASIAN - OTHER                                                  17\n",
       "ASIAN - CAMBODIAN                                              17\n",
       "HISPANIC/LATINO - CENTRAL AMERICAN (OTHER)                     13\n",
       "ASIAN - KOREAN                                                 13\n",
       "HISPANIC/LATINO - MEXICAN                                      13\n",
       "HISPANIC/LATINO - COLOMBIAN                                     9\n",
       "CARIBBEAN ISLAND                                                9\n",
       "SOUTH AMERICAN                                                  8\n",
       "ASIAN - JAPANESE                                                7\n",
       "HISPANIC/LATINO - HONDURAN                                      4\n",
       "ASIAN - THAI                                                    4\n",
       "AMERICAN INDIAN/ALASKA NATIVE FEDERALLY RECOGNIZED TRIBE        3\n",
       "Name: ETHNICITY, dtype: int64"
      ]
     },
     "execution_count": 20,
     "metadata": {},
     "output_type": "execute_result"
    }
   ],
   "source": [
    "df['ETHNICITY'].value_counts()"
   ]
  },
  {
   "cell_type": "code",
   "execution_count": 21,
   "metadata": {},
   "outputs": [
    {
     "name": "stderr",
     "output_type": "stream",
     "text": [
      "C:\\Users\\Bita\\anaconda3\\lib\\site-packages\\pandas\\core\\indexing.py:670: SettingWithCopyWarning: \n",
      "A value is trying to be set on a copy of a slice from a DataFrame\n",
      "\n",
      "See the caveats in the documentation: https://pandas.pydata.org/pandas-docs/stable/user_guide/indexing.html#returning-a-view-versus-a-copy\n",
      "  iloc._setitem_with_indexer(indexer, value)\n"
     ]
    },
    {
     "data": {
      "text/plain": [
       "WHITE                     41268\n",
       "OTHER/UNKNOWN              7700\n",
       "BLACK/AFRICAN AMERICAN     5779\n",
       "HISPANIC/LATINO            2125\n",
       "ASIAN                      2006\n",
       "Name: ETHNICITY, dtype: int64"
      ]
     },
     "execution_count": 21,
     "metadata": {},
     "output_type": "execute_result"
    }
   ],
   "source": [
    "# Compress the number of ethnicity categories\n",
    "df['ETHNICITY'].replace(regex=r'^ASIAN\\D*', value='ASIAN', inplace=True)\n",
    "df['ETHNICITY'].replace(regex=r'^WHITE\\D*', value='WHITE', inplace=True)\n",
    "df['ETHNICITY'].replace(regex=r'^HISPANIC\\D*', value='HISPANIC/LATINO', inplace=True)\n",
    "df['ETHNICITY'].replace(regex=r'^BLACK\\D*', value='BLACK/AFRICAN AMERICAN', inplace=True)\n",
    "df['ETHNICITY'].replace(['UNABLE TO OBTAIN', 'OTHER', 'PATIENT DECLINED TO ANSWER', \n",
    "                         'UNKNOWN/NOT SPECIFIED'], value='OTHER/UNKNOWN', inplace=True)\n",
    "df['ETHNICITY'].loc[~df['ETHNICITY'].isin(df['ETHNICITY'].value_counts().nlargest(5).index.tolist())] = 'OTHER/UNKNOWN'\n",
    "df['ETHNICITY'].value_counts()"
   ]
  },
  {
   "cell_type": "code",
   "execution_count": 22,
   "metadata": {},
   "outputs": [],
   "source": [
    "# Re-usable plotting function\n",
    "def plot_los_groupby(variable, size=(7,4)):\n",
    "    ''' \n",
    "    Plot Median LOS by df categorical series name \n",
    "    '''\n",
    "    results = df[[variable, 'LOS']].groupby(variable).median().reset_index()\n",
    "    values = list(results['LOS'].values)\n",
    "    labels = list(results[variable].values)\n",
    "    box_colors = ['darkkhaki', 'royalblue']\n",
    "\n",
    "    fig, ax = plt.subplots(figsize=size)\n",
    "    ind = range(len(results))\n",
    "    ax.barh(ind, values, align='center', height=0.6, color = '#55a868', alpha=0.8)\n",
    "    ax.set_yticks(ind)\n",
    "    ax.set_yticklabels(labels)\n",
    "    ax.set_xlabel('Median Length of Stay (days)')\n",
    "    ax.tick_params(left=False, top=False, right=False) \n",
    "    ax.set_title('Comparison of {} labels'.format(variable))\n",
    "    \n",
    "    plt.tight_layout()\n",
    "    plt.show();\n",
    "    \n",
    "# Re-usable boxplot function\n",
    "def boxplot_los_groupby(variable, los_range=(-1, 30), size=(8,4)):\n",
    "    ''' \n",
    "    Boxplot of LOS by df categorical series name \n",
    "    '''\n",
    "    box_colors = ['darkkhaki', 'royalblue']\n",
    "    results = df[[variable, 'LOS']].groupby(variable).median().reset_index()\n",
    "\n",
    "    categories = results[variable].values.tolist()\n",
    "\n",
    "    hist_data = []\n",
    "    for cat in categories:\n",
    "        hist_data.append(df['LOS'].loc[df[variable]==cat].values)\n",
    "\n",
    "    fig, ax = plt.subplots(figsize=size)\n",
    "    ax.boxplot(hist_data, 0, '', vert=False)\n",
    "    ax.set_xlim(los_range)\n",
    "    ax.set_yticklabels(categories)\n",
    "    ax.set_xlabel('Length of Stay (days)')\n",
    "    ax.tick_params(left=False, right=False) \n",
    "    ax.set_title('Comparison of {} categories'.format(variable))\n",
    "    plt.tight_layout()\n",
    "    plt.show();\n"
   ]
  },
  {
   "cell_type": "code",
   "execution_count": 23,
   "metadata": {},
   "outputs": [
    {
     "data": {
      "image/png": "[encoded data removed]",
      "text/plain": [
       "<Figure size 576x288 with 1 Axes>"
      ]
     },
     "metadata": {},
     "output_type": "display_data"
    }
   ],
   "source": [
    "boxplot_los_groupby('ETHNICITY', los_range=(-1, 30))"
   ]
  },
  {
   "cell_type": "markdown",
   "metadata": {},
   "source": [
    "### Religion "
   ]
  },
  {
   "cell_type": "markdown",
   "metadata": {},
   "source": [
    "I thought it was interesting that this was tracked in MIMIC. BUDDHIST, HINDU, and MUSLIM trend with lower LOS medians, but are a very small proportion of the dataset."
   ]
  },
  {
   "cell_type": "code",
   "execution_count": 24,
   "metadata": {},
   "outputs": [
    {
     "data": {
      "text/plain": [
       "CATHOLIC                  20580\n",
       "NOT SPECIFIED             11738\n",
       "UNOBTAINABLE               8242\n",
       "PROTESTANT QUAKER          7121\n",
       "JEWISH                     5307\n",
       "OTHER                      2695\n",
       "EPISCOPALIAN                771\n",
       "GREEK ORTHODOX              459\n",
       "CHRISTIAN SCIENTIST         429\n",
       "BUDDHIST                    267\n",
       "MUSLIM                      225\n",
       "JEHOVAH'S WITNESS           139\n",
       "UNITARIAN-UNIVERSALIST      124\n",
       "HINDU                       113\n",
       "ROMANIAN EAST. ORTH          83\n",
       "7TH DAY ADVENTIST            81\n",
       "BAPTIST                      28\n",
       "HEBREW                       16\n",
       "METHODIST                     7\n",
       "LUTHERAN                      1\n",
       "Name: RELIGION, dtype: int64"
      ]
     },
     "execution_count": 24,
     "metadata": {},
     "output_type": "execute_result"
    }
   ],
   "source": [
    "df['RELIGION'].value_counts()"
   ]
  },
  {
   "cell_type": "code",
   "execution_count": 25,
   "metadata": {},
   "outputs": [
    {
     "data": {
      "image/png": "[encoded data removed]",
      "text/plain": [
       "<Figure size 504x504 with 1 Axes>"
      ]
     },
     "metadata": {},
     "output_type": "display_data"
    }
   ],
   "source": [
    "boxplot_los_groupby('RELIGION', los_range=(-5, 30), size=(7, 7))"
   ]
  },
  {
   "cell_type": "code",
   "execution_count": 26,
   "metadata": {},
   "outputs": [
    {
     "name": "stdout",
     "output_type": "stream",
     "text": [
      "RELIGIOUS        38898\n",
      "NOT SPECIFIED    11738\n",
      "UNOBTAINABLE      8242\n",
      "Name: RELIGION, dtype: int64\n",
      "0.6606542341791501\n",
      "0.1993613913516084\n",
      "0.13998437446924147\n"
     ]
    },
    {
     "name": "stderr",
     "output_type": "stream",
     "text": [
      "C:\\Users\\Bita\\anaconda3\\lib\\site-packages\\pandas\\core\\indexing.py:670: SettingWithCopyWarning: \n",
      "A value is trying to be set on a copy of a slice from a DataFrame\n",
      "\n",
      "See the caveats in the documentation: https://pandas.pydata.org/pandas-docs/stable/user_guide/indexing.html#returning-a-view-versus-a-copy\n",
      "  iloc._setitem_with_indexer(indexer, value)\n"
     ]
    }
   ],
   "source": [
    "# Reduce categories to terms of religious or not\n",
    "# I tested with and without category reduction, with little change in R2 score\n",
    "df['RELIGION'].loc[~df['RELIGION'].isin(['NOT SPECIFIED', 'UNOBTAINABLE'])] = 'RELIGIOUS'\n",
    "\n",
    "print(df['RELIGION'].value_counts())\n",
    "print(df['RELIGION'].value_counts()[0]/len(df['RELIGION']))\n",
    "print(df['RELIGION'].value_counts()[1]/len(df['RELIGION']))\n",
    "print(df['RELIGION'].value_counts()[2]/len(df['RELIGION']))"
   ]
  },
  {
   "cell_type": "code",
   "execution_count": 27,
   "metadata": {},
   "outputs": [
    {
     "data": {
      "image/png": "[encoded data removed]",
      "text/plain": [
       "<Figure size 360x288 with 1 Axes>"
      ]
     },
     "metadata": {},
     "output_type": "display_data"
    }
   ],
   "source": [
    "# Look at median LOS for groups\n",
    "plot_los_groupby('RELIGION', size=(5,4))"
   ]
  },
  {
   "cell_type": "markdown",
   "metadata": {},
   "source": [
    "###  Admission Type"
   ]
  },
  {
   "cell_type": "markdown",
   "metadata": {},
   "source": [
    "Newborns have the lowest median LOS followed by elective admissions. This is expected since these are often somewhat planned for and with the risks being understood."
   ]
  },
  {
   "cell_type": "code",
   "execution_count": 28,
   "metadata": {},
   "outputs": [
    {
     "data": {
      "text/plain": [
       "EMERGENCY    41989\n",
       "NEWBORN       7854\n",
       "ELECTIVE      7702\n",
       "URGENT        1333\n",
       "Name: ADMISSION_TYPE, dtype: int64"
      ]
     },
     "execution_count": 28,
     "metadata": {},
     "output_type": "execute_result"
    }
   ],
   "source": [
    "df['ADMISSION_TYPE'].value_counts()"
   ]
  },
  {
   "cell_type": "code",
   "execution_count": 29,
   "metadata": {},
   "outputs": [
    {
     "data": {
      "image/png": "[encoded data removed]",
      "text/plain": [
       "<Figure size 504x288 with 1 Axes>"
      ]
     },
     "metadata": {},
     "output_type": "display_data"
    }
   ],
   "source": [
    "boxplot_los_groupby('ADMISSION_TYPE', los_range=(-5, 35), size=(7, 4))"
   ]
  },
  {
   "cell_type": "markdown",
   "metadata": {},
   "source": [
    "###  Insurance"
   ]
  },
  {
   "cell_type": "markdown",
   "metadata": {},
   "source": [
    "If a patient is 'Self-Pay', typically means they can't or didn't pay. Self-pay patients have the lowest LOS."
   ]
  },
  {
   "cell_type": "code",
   "execution_count": 30,
   "metadata": {},
   "outputs": [
    {
     "data": {
      "text/plain": [
       "Medicare      28174\n",
       "Private       22542\n",
       "Medicaid       5778\n",
       "Government     1781\n",
       "Self Pay        603\n",
       "Name: INSURANCE, dtype: int64"
      ]
     },
     "execution_count": 30,
     "metadata": {},
     "output_type": "execute_result"
    }
   ],
   "source": [
    "df['INSURANCE'].value_counts()"
   ]
  },
  {
   "cell_type": "code",
   "execution_count": 31,
   "metadata": {},
   "outputs": [
    {
     "data": {
      "image/png": "[encoded data removed]",
      "text/plain": [
       "<Figure size 504x288 with 1 Axes>"
      ]
     },
     "metadata": {},
     "output_type": "display_data"
    }
   ],
   "source": [
    "boxplot_los_groupby('INSURANCE', los_range=(-5, 30), size=(7, 4))"
   ]
  },
  {
   "cell_type": "markdown",
   "metadata": {},
   "source": [
    "###  Marital status"
   ]
  },
  {
   "cell_type": "code",
   "execution_count": 32,
   "metadata": {},
   "outputs": [
    {
     "data": {
      "text/plain": [
       "MARRIED              24199\n",
       "SINGLE               13238\n",
       "NaN                  10097\n",
       "WIDOWED               7204\n",
       "DIVORCED              3211\n",
       "SEPARATED              571\n",
       "UNKNOWN (DEFAULT)      343\n",
       "LIFE PARTNER            15\n",
       "Name: MARITAL_STATUS, dtype: int64"
      ]
     },
     "execution_count": 32,
     "metadata": {},
     "output_type": "execute_result"
    }
   ],
   "source": [
    "df['MARITAL_STATUS'].value_counts(dropna=False)"
   ]
  },
  {
   "cell_type": "code",
   "execution_count": 33,
   "metadata": {},
   "outputs": [
    {
     "data": {
      "text/plain": [
       "MARRIED              24199\n",
       "SINGLE               13238\n",
       "UNKNOWN (DEFAULT)    10440\n",
       "WIDOWED               7204\n",
       "DIVORCED              3211\n",
       "SEPARATED              571\n",
       "LIFE PARTNER            15\n",
       "Name: MARITAL_STATUS, dtype: int64"
      ]
     },
     "execution_count": 33,
     "metadata": {},
     "output_type": "execute_result"
    }
   ],
   "source": [
    "# Fix NaNs and file under 'UNKNOWN'\n",
    "df['MARITAL_STATUS'] = df['MARITAL_STATUS'].fillna('UNKNOWN (DEFAULT)')\n",
    "df['MARITAL_STATUS'].value_counts(dropna=False)"
   ]
  },
  {
   "cell_type": "code",
   "execution_count": 34,
   "metadata": {},
   "outputs": [
    {
     "data": {
      "image/png": "[encoded data removed]",
      "text/plain": [
       "<Figure size 504x288 with 1 Axes>"
      ]
     },
     "metadata": {},
     "output_type": "display_data"
    }
   ],
   "source": [
    "plot_los_groupby('MARITAL_STATUS')"
   ]
  },
  {
   "cell_type": "code",
   "execution_count": 35,
   "metadata": {},
   "outputs": [
    {
     "data": {
      "image/png": "[encoded data removed]",
      "text/plain": [
       "<Figure size 576x288 with 1 Axes>"
      ]
     },
     "metadata": {},
     "output_type": "display_data"
    }
   ],
   "source": [
    "boxplot_los_groupby('MARITAL_STATUS')"
   ]
  },
  {
   "cell_type": "markdown",
   "metadata": {},
   "source": [
    "### DIAGNOSES_ICD.csv Exploration"
   ]
  },
  {
   "cell_type": "markdown",
   "metadata": {},
   "source": [
    "This section explore the ICUSTAYS.csv table of the MIMIC-III dataset."
   ]
  },
  {
   "cell_type": "markdown",
   "metadata": {},
   "source": [
    "####  ICD-9 Code Feature Engineering"
   ]
  },
  {
   "cell_type": "markdown",
   "metadata": {},
   "source": [
    "From Wiki: International Classification of Diseases, Clinical Modification (ICD-9-CM) is an adaption created by the U.S. National Center for Health Statistics (NCHS) and used in assigning diagnostic and procedure codes associated with inpatient, outpatient, and physician office utilization in the United States."
   ]
  },
  {
   "cell_type": "code",
   "execution_count": 36,
   "metadata": {},
   "outputs": [
    {
     "name": "stdout",
     "output_type": "stream",
     "text": [
      "<class 'pandas.core.frame.DataFrame'>\n",
      "RangeIndex: 651047 entries, 0 to 651046\n",
      "Data columns (total 5 columns):\n",
      " #   Column      Non-Null Count   Dtype  \n",
      "---  ------      --------------   -----  \n",
      " 0   ROW_ID      651047 non-null  int64  \n",
      " 1   SUBJECT_ID  651047 non-null  int64  \n",
      " 2   HADM_ID     651047 non-null  int64  \n",
      " 3   SEQ_NUM     651000 non-null  float64\n",
      " 4   ICD9_CODE   651000 non-null  object \n",
      "dtypes: float64(1), int64(3), object(1)\n",
      "memory usage: 24.8+ MB\n"
     ]
    }
   ],
   "source": [
    "df_diagcode.info()"
   ]
  },
  {
   "cell_type": "code",
   "execution_count": 37,
   "metadata": {},
   "outputs": [
    {
     "name": "stdout",
     "output_type": "stream",
     "text": [
      "There are 6984 unique ICD9 codes in this dataset.\n"
     ]
    }
   ],
   "source": [
    "print('There are {} unique ICD9 codes in this dataset.'.format(df_diagcode['ICD9_CODE'].value_counts().count()))"
   ]
  },
  {
   "cell_type": "markdown",
   "metadata": {},
   "source": [
    "Because it's not feasible to have 6984 unique values to use as features for predicting LOS, I need to reduce the diagnosis into more general categories. After researching the ICD9 approach, I discovery that they arranged into super categories as the following (source):\n",
    "\n",
    "    001–139: infectious and parasitic diseases\n",
    "    140–239: neoplasms\n",
    "    240–279: endocrine, nutritional and metabolic diseases, and immunity disorders\n",
    "    280–289: diseases of the blood and blood-forming organs\n",
    "    290–319: mental disorders\n",
    "    320–389: diseases of the nervous system and sense organs\n",
    "    390–459: diseases of the circulatory system\n",
    "    460–519: diseases of the respiratory system\n",
    "    520–579: diseases of the digestive system\n",
    "    580–629: diseases of the genitourinary system\n",
    "    630–679: complications of pregnancy, childbirth, and the puerperium\n",
    "    680–709: diseases of the skin and subcutaneous tissue\n",
    "    710–739: diseases of the musculoskeletal system and connective tissue\n",
    "    740–759: congenital anomalies\n",
    "    760–779: certain conditions originating in the perinatal period\n",
    "    780–799: symptoms, signs, and ill-defined conditions\n",
    "    800–999: injury and poisoning\n",
    "    E and V codes: external causes of injury and supplemental classification, using 999 as placeholder even though it overlaps with complications of medical care"
   ]
  },
  {
   "cell_type": "markdown",
   "metadata": {},
   "source": [
    "Now the task is to re-code the in terms of these category groups."
   ]
  },
  {
   "cell_type": "code",
   "execution_count": 38,
   "metadata": {},
   "outputs": [],
   "source": [
    "# Filter out E and V codes since processing will be done on the numeric first 3 values\n",
    "df_diagcode['recode'] = df_diagcode['ICD9_CODE']\n",
    "df_diagcode['recode'] = df_diagcode['recode'][~df_diagcode['recode'].str.contains(\"[a-zA-Z]\").fillna(False)]\n",
    "df_diagcode['recode'].fillna(value='999', inplace=True)"
   ]
  },
  {
   "cell_type": "code",
   "execution_count": 39,
   "metadata": {},
   "outputs": [],
   "source": [
    "# https://stackoverflow.com/questions/46168450/replace-specific-range-of-values-in-data-frame-pandas\n",
    "df_diagcode['recode'] = df_diagcode['recode'].str.slice(start=0, stop=3, step=1)\n",
    "df_diagcode['recode'] = df_diagcode['recode'].astype(int)"
   ]
  },
  {
   "cell_type": "code",
   "execution_count": 40,
   "metadata": {},
   "outputs": [],
   "source": [
    "# ICD-9 Main Category ranges\n",
    "icd9_ranges = [(1, 140), (140, 240), (240, 280), (280, 290), (290, 320), (320, 390), \n",
    "               (390, 460), (460, 520), (520, 580), (580, 630), (630, 680), (680, 710),\n",
    "               (710, 740), (740, 760), (760, 780), (780, 800), (800, 1000), (1000, 2000)]\n",
    "\n",
    "# Associated category names\n",
    "diag_dict = {0: 'infectious', 1: 'neoplasms', 2: 'endocrine', 3: 'blood',\n",
    "             4: 'mental', 5: 'nervous', 6: 'circulatory', 7: 'respiratory',\n",
    "             8: 'digestive', 9: 'genitourinary', 10: 'pregnancy', 11: 'skin', \n",
    "             12: 'muscular', 13: 'congenital', 14: 'prenatal', 15: 'misc',\n",
    "             16: 'injury', 17: 'misc'}\n",
    "\n",
    "# Re-code in terms of integer\n",
    "for num, cat_range in enumerate(icd9_ranges):\n",
    "    df_diagcode['recode'] = np.where(df_diagcode['recode'].between(cat_range[0],cat_range[1]), \n",
    "            num, df_diagcode['recode'])\n",
    "    \n",
    "# Convert integer to category name using diag_dict\n",
    "df_diagcode['recode'] = df_diagcode['recode']\n",
    "df_diagcode['cat'] = df_diagcode['recode'].replace(diag_dict)"
   ]
  },
  {
   "cell_type": "code",
   "execution_count": 41,
   "metadata": {},
   "outputs": [
    {
     "data": {
      "text/html": [
       "<div>\n",
       "<style scoped>\n",
       "    .dataframe tbody tr th:only-of-type {\n",
       "        vertical-align: middle;\n",
       "    }\n",
       "\n",
       "    .dataframe tbody tr th {\n",
       "        vertical-align: top;\n",
       "    }\n",
       "\n",
       "    .dataframe thead th {\n",
       "        text-align: right;\n",
       "    }\n",
       "</style>\n",
       "<table border=\"1\" class=\"dataframe\">\n",
       "  <thead>\n",
       "    <tr style=\"text-align: right;\">\n",
       "      <th></th>\n",
       "      <th>ROW_ID</th>\n",
       "      <th>SUBJECT_ID</th>\n",
       "      <th>HADM_ID</th>\n",
       "      <th>SEQ_NUM</th>\n",
       "      <th>ICD9_CODE</th>\n",
       "      <th>recode</th>\n",
       "      <th>cat</th>\n",
       "    </tr>\n",
       "  </thead>\n",
       "  <tbody>\n",
       "    <tr>\n",
       "      <th>0</th>\n",
       "      <td>1297</td>\n",
       "      <td>109</td>\n",
       "      <td>172335</td>\n",
       "      <td>1.0</td>\n",
       "      <td>40301</td>\n",
       "      <td>6</td>\n",
       "      <td>circulatory</td>\n",
       "    </tr>\n",
       "    <tr>\n",
       "      <th>1</th>\n",
       "      <td>1298</td>\n",
       "      <td>109</td>\n",
       "      <td>172335</td>\n",
       "      <td>2.0</td>\n",
       "      <td>486</td>\n",
       "      <td>7</td>\n",
       "      <td>respiratory</td>\n",
       "    </tr>\n",
       "    <tr>\n",
       "      <th>2</th>\n",
       "      <td>1299</td>\n",
       "      <td>109</td>\n",
       "      <td>172335</td>\n",
       "      <td>3.0</td>\n",
       "      <td>58281</td>\n",
       "      <td>9</td>\n",
       "      <td>genitourinary</td>\n",
       "    </tr>\n",
       "    <tr>\n",
       "      <th>3</th>\n",
       "      <td>1300</td>\n",
       "      <td>109</td>\n",
       "      <td>172335</td>\n",
       "      <td>4.0</td>\n",
       "      <td>5855</td>\n",
       "      <td>9</td>\n",
       "      <td>genitourinary</td>\n",
       "    </tr>\n",
       "    <tr>\n",
       "      <th>4</th>\n",
       "      <td>1301</td>\n",
       "      <td>109</td>\n",
       "      <td>172335</td>\n",
       "      <td>5.0</td>\n",
       "      <td>4254</td>\n",
       "      <td>6</td>\n",
       "      <td>circulatory</td>\n",
       "    </tr>\n",
       "  </tbody>\n",
       "</table>\n",
       "</div>"
      ],
      "text/plain": [
       "   ROW_ID  SUBJECT_ID  HADM_ID  SEQ_NUM ICD9_CODE  recode            cat\n",
       "0    1297         109   172335      1.0     40301       6    circulatory\n",
       "1    1298         109   172335      2.0       486       7    respiratory\n",
       "2    1299         109   172335      3.0     58281       9  genitourinary\n",
       "3    1300         109   172335      4.0      5855       9  genitourinary\n",
       "4    1301         109   172335      5.0      4254       6    circulatory"
      ]
     },
     "execution_count": 41,
     "metadata": {},
     "output_type": "execute_result"
    }
   ],
   "source": [
    "# Verify\n",
    "df_diagcode.head()"
   ]
  },
  {
   "cell_type": "markdown",
   "metadata": {},
   "source": [
    "For each admission, there could be (and usually is) more than one diagnosis. Often, there are more than 1 diagnoses for 1 category. Therefore, I need to create a dummy matrix that highlights all the diagnoses for each admission. This should not be done on the SUBJECT_ID since each patient could have different diagnoses for each admission."
   ]
  },
  {
   "cell_type": "code",
   "execution_count": 42,
   "metadata": {},
   "outputs": [
    {
     "data": {
      "text/html": [
       "<div>\n",
       "<style scoped>\n",
       "    .dataframe tbody tr th:only-of-type {\n",
       "        vertical-align: middle;\n",
       "    }\n",
       "\n",
       "    .dataframe tbody tr th {\n",
       "        vertical-align: top;\n",
       "    }\n",
       "\n",
       "    .dataframe thead th {\n",
       "        text-align: right;\n",
       "    }\n",
       "</style>\n",
       "<table border=\"1\" class=\"dataframe\">\n",
       "  <thead>\n",
       "    <tr style=\"text-align: right;\">\n",
       "      <th></th>\n",
       "      <th>HADM_ID</th>\n",
       "      <th>cat</th>\n",
       "    </tr>\n",
       "  </thead>\n",
       "  <tbody>\n",
       "    <tr>\n",
       "      <th>0</th>\n",
       "      <td>100001</td>\n",
       "      <td>[endocrine, nervous, genitourinary, digestive,...</td>\n",
       "    </tr>\n",
       "    <tr>\n",
       "      <th>1</th>\n",
       "      <td>100003</td>\n",
       "      <td>[digestive, blood, infectious, digestive, circ...</td>\n",
       "    </tr>\n",
       "    <tr>\n",
       "      <th>2</th>\n",
       "      <td>100006</td>\n",
       "      <td>[respiratory, respiratory, respiratory, neopla...</td>\n",
       "    </tr>\n",
       "    <tr>\n",
       "      <th>3</th>\n",
       "      <td>100007</td>\n",
       "      <td>[digestive, digestive, injury, respiratory, ci...</td>\n",
       "    </tr>\n",
       "    <tr>\n",
       "      <th>4</th>\n",
       "      <td>100009</td>\n",
       "      <td>[circulatory, injury, circulatory, endocrine, ...</td>\n",
       "    </tr>\n",
       "  </tbody>\n",
       "</table>\n",
       "</div>"
      ],
      "text/plain": [
       "   HADM_ID                                                cat\n",
       "0   100001  [endocrine, nervous, genitourinary, digestive,...\n",
       "1   100003  [digestive, blood, infectious, digestive, circ...\n",
       "2   100006  [respiratory, respiratory, respiratory, neopla...\n",
       "3   100007  [digestive, digestive, injury, respiratory, ci...\n",
       "4   100009  [circulatory, injury, circulatory, endocrine, ..."
      ]
     },
     "execution_count": 42,
     "metadata": {},
     "output_type": "execute_result"
    }
   ],
   "source": [
    "# Create list of diagnoses for each admission\n",
    "hadm_list = df_diagcode.groupby('HADM_ID')['cat'].apply(list).reset_index()\n",
    "hadm_list.head()"
   ]
  },
  {
   "cell_type": "code",
   "execution_count": 43,
   "metadata": {},
   "outputs": [
    {
     "data": {
      "text/html": [
       "<div>\n",
       "<style scoped>\n",
       "    .dataframe tbody tr th:only-of-type {\n",
       "        vertical-align: middle;\n",
       "    }\n",
       "\n",
       "    .dataframe tbody tr th {\n",
       "        vertical-align: top;\n",
       "    }\n",
       "\n",
       "    .dataframe thead th {\n",
       "        text-align: right;\n",
       "    }\n",
       "</style>\n",
       "<table border=\"1\" class=\"dataframe\">\n",
       "  <thead>\n",
       "    <tr style=\"text-align: right;\">\n",
       "      <th></th>\n",
       "      <th>blood</th>\n",
       "      <th>circulatory</th>\n",
       "      <th>congenital</th>\n",
       "      <th>digestive</th>\n",
       "      <th>endocrine</th>\n",
       "      <th>genitourinary</th>\n",
       "      <th>infectious</th>\n",
       "      <th>injury</th>\n",
       "      <th>mental</th>\n",
       "      <th>misc</th>\n",
       "      <th>muscular</th>\n",
       "      <th>neoplasms</th>\n",
       "      <th>nervous</th>\n",
       "      <th>pregnancy</th>\n",
       "      <th>prenatal</th>\n",
       "      <th>respiratory</th>\n",
       "      <th>skin</th>\n",
       "    </tr>\n",
       "  </thead>\n",
       "  <tbody>\n",
       "    <tr>\n",
       "      <th>0</th>\n",
       "      <td>0</td>\n",
       "      <td>2</td>\n",
       "      <td>0</td>\n",
       "      <td>2</td>\n",
       "      <td>5</td>\n",
       "      <td>2</td>\n",
       "      <td>0</td>\n",
       "      <td>2</td>\n",
       "      <td>0</td>\n",
       "      <td>0</td>\n",
       "      <td>0</td>\n",
       "      <td>0</td>\n",
       "      <td>2</td>\n",
       "      <td>0</td>\n",
       "      <td>0</td>\n",
       "      <td>0</td>\n",
       "      <td>1</td>\n",
       "    </tr>\n",
       "    <tr>\n",
       "      <th>1</th>\n",
       "      <td>1</td>\n",
       "      <td>2</td>\n",
       "      <td>0</td>\n",
       "      <td>4</td>\n",
       "      <td>0</td>\n",
       "      <td>0</td>\n",
       "      <td>1</td>\n",
       "      <td>0</td>\n",
       "      <td>0</td>\n",
       "      <td>1</td>\n",
       "      <td>0</td>\n",
       "      <td>0</td>\n",
       "      <td>0</td>\n",
       "      <td>0</td>\n",
       "      <td>0</td>\n",
       "      <td>0</td>\n",
       "      <td>0</td>\n",
       "    </tr>\n",
       "    <tr>\n",
       "      <th>2</th>\n",
       "      <td>0</td>\n",
       "      <td>0</td>\n",
       "      <td>0</td>\n",
       "      <td>0</td>\n",
       "      <td>1</td>\n",
       "      <td>0</td>\n",
       "      <td>0</td>\n",
       "      <td>2</td>\n",
       "      <td>1</td>\n",
       "      <td>1</td>\n",
       "      <td>0</td>\n",
       "      <td>1</td>\n",
       "      <td>0</td>\n",
       "      <td>0</td>\n",
       "      <td>0</td>\n",
       "      <td>3</td>\n",
       "      <td>0</td>\n",
       "    </tr>\n",
       "    <tr>\n",
       "      <th>3</th>\n",
       "      <td>0</td>\n",
       "      <td>1</td>\n",
       "      <td>0</td>\n",
       "      <td>2</td>\n",
       "      <td>0</td>\n",
       "      <td>0</td>\n",
       "      <td>0</td>\n",
       "      <td>1</td>\n",
       "      <td>0</td>\n",
       "      <td>0</td>\n",
       "      <td>0</td>\n",
       "      <td>0</td>\n",
       "      <td>0</td>\n",
       "      <td>0</td>\n",
       "      <td>0</td>\n",
       "      <td>1</td>\n",
       "      <td>0</td>\n",
       "    </tr>\n",
       "    <tr>\n",
       "      <th>4</th>\n",
       "      <td>1</td>\n",
       "      <td>7</td>\n",
       "      <td>0</td>\n",
       "      <td>0</td>\n",
       "      <td>3</td>\n",
       "      <td>0</td>\n",
       "      <td>0</td>\n",
       "      <td>7</td>\n",
       "      <td>0</td>\n",
       "      <td>0</td>\n",
       "      <td>0</td>\n",
       "      <td>0</td>\n",
       "      <td>0</td>\n",
       "      <td>0</td>\n",
       "      <td>0</td>\n",
       "      <td>0</td>\n",
       "      <td>0</td>\n",
       "    </tr>\n",
       "  </tbody>\n",
       "</table>\n",
       "</div>"
      ],
      "text/plain": [
       "   blood  circulatory  congenital  digestive  endocrine  genitourinary  \\\n",
       "0      0            2           0          2          5              2   \n",
       "1      1            2           0          4          0              0   \n",
       "2      0            0           0          0          1              0   \n",
       "3      0            1           0          2          0              0   \n",
       "4      1            7           0          0          3              0   \n",
       "\n",
       "   infectious  injury  mental  misc  muscular  neoplasms  nervous  pregnancy  \\\n",
       "0           0       2       0     0         0          0        2          0   \n",
       "1           1       0       0     1         0          0        0          0   \n",
       "2           0       2       1     1         0          1        0          0   \n",
       "3           0       1       0     0         0          0        0          0   \n",
       "4           0       7       0     0         0          0        0          0   \n",
       "\n",
       "   prenatal  respiratory  skin  \n",
       "0         0            0     1  \n",
       "1         0            0     0  \n",
       "2         0            3     0  \n",
       "3         0            1     0  \n",
       "4         0            0     0  "
      ]
     },
     "execution_count": 43,
     "metadata": {},
     "output_type": "execute_result"
    }
   ],
   "source": [
    "# Convert diagnoses list into hospital admission-item matrix\n",
    "hadm_item = pd.get_dummies(hadm_list['cat'].apply(pd.Series).stack()).sum(level=0)\n",
    "hadm_item.head()"
   ]
  },
  {
   "cell_type": "code",
   "execution_count": 44,
   "metadata": {},
   "outputs": [
    {
     "data": {
      "text/html": [
       "<div>\n",
       "<style scoped>\n",
       "    .dataframe tbody tr th:only-of-type {\n",
       "        vertical-align: middle;\n",
       "    }\n",
       "\n",
       "    .dataframe tbody tr th {\n",
       "        vertical-align: top;\n",
       "    }\n",
       "\n",
       "    .dataframe thead th {\n",
       "        text-align: right;\n",
       "    }\n",
       "</style>\n",
       "<table border=\"1\" class=\"dataframe\">\n",
       "  <thead>\n",
       "    <tr style=\"text-align: right;\">\n",
       "      <th></th>\n",
       "      <th>blood</th>\n",
       "      <th>circulatory</th>\n",
       "      <th>congenital</th>\n",
       "      <th>digestive</th>\n",
       "      <th>endocrine</th>\n",
       "      <th>genitourinary</th>\n",
       "      <th>infectious</th>\n",
       "      <th>injury</th>\n",
       "      <th>mental</th>\n",
       "      <th>misc</th>\n",
       "      <th>muscular</th>\n",
       "      <th>neoplasms</th>\n",
       "      <th>nervous</th>\n",
       "      <th>pregnancy</th>\n",
       "      <th>prenatal</th>\n",
       "      <th>respiratory</th>\n",
       "      <th>skin</th>\n",
       "      <th>HADM_ID</th>\n",
       "    </tr>\n",
       "  </thead>\n",
       "  <tbody>\n",
       "    <tr>\n",
       "      <th>0</th>\n",
       "      <td>0</td>\n",
       "      <td>2</td>\n",
       "      <td>0</td>\n",
       "      <td>2</td>\n",
       "      <td>5</td>\n",
       "      <td>2</td>\n",
       "      <td>0</td>\n",
       "      <td>2</td>\n",
       "      <td>0</td>\n",
       "      <td>0</td>\n",
       "      <td>0</td>\n",
       "      <td>0</td>\n",
       "      <td>2</td>\n",
       "      <td>0</td>\n",
       "      <td>0</td>\n",
       "      <td>0</td>\n",
       "      <td>1</td>\n",
       "      <td>100001</td>\n",
       "    </tr>\n",
       "    <tr>\n",
       "      <th>1</th>\n",
       "      <td>1</td>\n",
       "      <td>2</td>\n",
       "      <td>0</td>\n",
       "      <td>4</td>\n",
       "      <td>0</td>\n",
       "      <td>0</td>\n",
       "      <td>1</td>\n",
       "      <td>0</td>\n",
       "      <td>0</td>\n",
       "      <td>1</td>\n",
       "      <td>0</td>\n",
       "      <td>0</td>\n",
       "      <td>0</td>\n",
       "      <td>0</td>\n",
       "      <td>0</td>\n",
       "      <td>0</td>\n",
       "      <td>0</td>\n",
       "      <td>100003</td>\n",
       "    </tr>\n",
       "    <tr>\n",
       "      <th>2</th>\n",
       "      <td>0</td>\n",
       "      <td>0</td>\n",
       "      <td>0</td>\n",
       "      <td>0</td>\n",
       "      <td>1</td>\n",
       "      <td>0</td>\n",
       "      <td>0</td>\n",
       "      <td>2</td>\n",
       "      <td>1</td>\n",
       "      <td>1</td>\n",
       "      <td>0</td>\n",
       "      <td>1</td>\n",
       "      <td>0</td>\n",
       "      <td>0</td>\n",
       "      <td>0</td>\n",
       "      <td>3</td>\n",
       "      <td>0</td>\n",
       "      <td>100006</td>\n",
       "    </tr>\n",
       "    <tr>\n",
       "      <th>3</th>\n",
       "      <td>0</td>\n",
       "      <td>1</td>\n",
       "      <td>0</td>\n",
       "      <td>2</td>\n",
       "      <td>0</td>\n",
       "      <td>0</td>\n",
       "      <td>0</td>\n",
       "      <td>1</td>\n",
       "      <td>0</td>\n",
       "      <td>0</td>\n",
       "      <td>0</td>\n",
       "      <td>0</td>\n",
       "      <td>0</td>\n",
       "      <td>0</td>\n",
       "      <td>0</td>\n",
       "      <td>1</td>\n",
       "      <td>0</td>\n",
       "      <td>100007</td>\n",
       "    </tr>\n",
       "    <tr>\n",
       "      <th>4</th>\n",
       "      <td>1</td>\n",
       "      <td>7</td>\n",
       "      <td>0</td>\n",
       "      <td>0</td>\n",
       "      <td>3</td>\n",
       "      <td>0</td>\n",
       "      <td>0</td>\n",
       "      <td>7</td>\n",
       "      <td>0</td>\n",
       "      <td>0</td>\n",
       "      <td>0</td>\n",
       "      <td>0</td>\n",
       "      <td>0</td>\n",
       "      <td>0</td>\n",
       "      <td>0</td>\n",
       "      <td>0</td>\n",
       "      <td>0</td>\n",
       "      <td>100009</td>\n",
       "    </tr>\n",
       "  </tbody>\n",
       "</table>\n",
       "</div>"
      ],
      "text/plain": [
       "   blood  circulatory  congenital  digestive  endocrine  genitourinary  \\\n",
       "0      0            2           0          2          5              2   \n",
       "1      1            2           0          4          0              0   \n",
       "2      0            0           0          0          1              0   \n",
       "3      0            1           0          2          0              0   \n",
       "4      1            7           0          0          3              0   \n",
       "\n",
       "   infectious  injury  mental  misc  muscular  neoplasms  nervous  pregnancy  \\\n",
       "0           0       2       0     0         0          0        2          0   \n",
       "1           1       0       0     1         0          0        0          0   \n",
       "2           0       2       1     1         0          1        0          0   \n",
       "3           0       1       0     0         0          0        0          0   \n",
       "4           0       7       0     0         0          0        0          0   \n",
       "\n",
       "   prenatal  respiratory  skin  HADM_ID  \n",
       "0         0            0     1   100001  \n",
       "1         0            0     0   100003  \n",
       "2         0            3     0   100006  \n",
       "3         0            1     0   100007  \n",
       "4         0            0     0   100009  "
      ]
     },
     "execution_count": 44,
     "metadata": {},
     "output_type": "execute_result"
    }
   ],
   "source": [
    "# Join back with HADM_ID, will merge with main admissions DF later\n",
    "hadm_item = hadm_item.join(hadm_list['HADM_ID'], how=\"outer\")\n",
    "hadm_item.head()"
   ]
  },
  {
   "cell_type": "code",
   "execution_count": 45,
   "metadata": {},
   "outputs": [],
   "source": [
    "# Merge with main admissions df\n",
    "df = df.merge(hadm_item, how='inner', on='HADM_ID')"
   ]
  },
  {
   "cell_type": "code",
   "execution_count": 46,
   "metadata": {},
   "outputs": [
    {
     "data": {
      "text/html": [
       "<div>\n",
       "<style scoped>\n",
       "    .dataframe tbody tr th:only-of-type {\n",
       "        vertical-align: middle;\n",
       "    }\n",
       "\n",
       "    .dataframe tbody tr th {\n",
       "        vertical-align: top;\n",
       "    }\n",
       "\n",
       "    .dataframe thead th {\n",
       "        text-align: right;\n",
       "    }\n",
       "</style>\n",
       "<table border=\"1\" class=\"dataframe\">\n",
       "  <thead>\n",
       "    <tr style=\"text-align: right;\">\n",
       "      <th></th>\n",
       "      <th>SUBJECT_ID</th>\n",
       "      <th>HADM_ID</th>\n",
       "      <th>ADMITTIME</th>\n",
       "      <th>DEATHTIME</th>\n",
       "      <th>ADMISSION_TYPE</th>\n",
       "      <th>ADMISSION_LOCATION</th>\n",
       "      <th>DISCHARGE_LOCATION</th>\n",
       "      <th>INSURANCE</th>\n",
       "      <th>LANGUAGE</th>\n",
       "      <th>RELIGION</th>\n",
       "      <th>...</th>\n",
       "      <th>injury</th>\n",
       "      <th>mental</th>\n",
       "      <th>misc</th>\n",
       "      <th>muscular</th>\n",
       "      <th>neoplasms</th>\n",
       "      <th>nervous</th>\n",
       "      <th>pregnancy</th>\n",
       "      <th>prenatal</th>\n",
       "      <th>respiratory</th>\n",
       "      <th>skin</th>\n",
       "    </tr>\n",
       "  </thead>\n",
       "  <tbody>\n",
       "    <tr>\n",
       "      <th>0</th>\n",
       "      <td>22</td>\n",
       "      <td>165315</td>\n",
       "      <td>2196-04-09 12:26:00</td>\n",
       "      <td>NaN</td>\n",
       "      <td>EMERGENCY</td>\n",
       "      <td>EMERGENCY ROOM ADMIT</td>\n",
       "      <td>DISC-TRAN CANCER/CHLDRN H</td>\n",
       "      <td>Private</td>\n",
       "      <td>NaN</td>\n",
       "      <td>UNOBTAINABLE</td>\n",
       "      <td>...</td>\n",
       "      <td>4</td>\n",
       "      <td>1</td>\n",
       "      <td>0</td>\n",
       "      <td>0</td>\n",
       "      <td>0</td>\n",
       "      <td>1</td>\n",
       "      <td>0</td>\n",
       "      <td>0</td>\n",
       "      <td>0</td>\n",
       "      <td>0</td>\n",
       "    </tr>\n",
       "    <tr>\n",
       "      <th>1</th>\n",
       "      <td>23</td>\n",
       "      <td>152223</td>\n",
       "      <td>2153-09-03 07:15:00</td>\n",
       "      <td>NaN</td>\n",
       "      <td>ELECTIVE</td>\n",
       "      <td>PHYS REFERRAL/NORMAL DELI</td>\n",
       "      <td>HOME HEALTH CARE</td>\n",
       "      <td>Medicare</td>\n",
       "      <td>NaN</td>\n",
       "      <td>RELIGIOUS</td>\n",
       "      <td>...</td>\n",
       "      <td>1</td>\n",
       "      <td>0</td>\n",
       "      <td>0</td>\n",
       "      <td>0</td>\n",
       "      <td>0</td>\n",
       "      <td>1</td>\n",
       "      <td>0</td>\n",
       "      <td>0</td>\n",
       "      <td>0</td>\n",
       "      <td>0</td>\n",
       "    </tr>\n",
       "    <tr>\n",
       "      <th>2</th>\n",
       "      <td>23</td>\n",
       "      <td>124321</td>\n",
       "      <td>2157-10-18 19:34:00</td>\n",
       "      <td>NaN</td>\n",
       "      <td>EMERGENCY</td>\n",
       "      <td>TRANSFER FROM HOSP/EXTRAM</td>\n",
       "      <td>HOME HEALTH CARE</td>\n",
       "      <td>Medicare</td>\n",
       "      <td>ENGL</td>\n",
       "      <td>RELIGIOUS</td>\n",
       "      <td>...</td>\n",
       "      <td>3</td>\n",
       "      <td>0</td>\n",
       "      <td>0</td>\n",
       "      <td>0</td>\n",
       "      <td>1</td>\n",
       "      <td>1</td>\n",
       "      <td>0</td>\n",
       "      <td>1</td>\n",
       "      <td>0</td>\n",
       "      <td>0</td>\n",
       "    </tr>\n",
       "    <tr>\n",
       "      <th>3</th>\n",
       "      <td>24</td>\n",
       "      <td>161859</td>\n",
       "      <td>2139-06-06 16:14:00</td>\n",
       "      <td>NaN</td>\n",
       "      <td>EMERGENCY</td>\n",
       "      <td>TRANSFER FROM HOSP/EXTRAM</td>\n",
       "      <td>HOME</td>\n",
       "      <td>Private</td>\n",
       "      <td>NaN</td>\n",
       "      <td>RELIGIOUS</td>\n",
       "      <td>...</td>\n",
       "      <td>0</td>\n",
       "      <td>0</td>\n",
       "      <td>0</td>\n",
       "      <td>0</td>\n",
       "      <td>0</td>\n",
       "      <td>0</td>\n",
       "      <td>0</td>\n",
       "      <td>0</td>\n",
       "      <td>0</td>\n",
       "      <td>0</td>\n",
       "    </tr>\n",
       "    <tr>\n",
       "      <th>4</th>\n",
       "      <td>25</td>\n",
       "      <td>129635</td>\n",
       "      <td>2160-11-02 02:06:00</td>\n",
       "      <td>NaN</td>\n",
       "      <td>EMERGENCY</td>\n",
       "      <td>EMERGENCY ROOM ADMIT</td>\n",
       "      <td>HOME</td>\n",
       "      <td>Private</td>\n",
       "      <td>NaN</td>\n",
       "      <td>UNOBTAINABLE</td>\n",
       "      <td>...</td>\n",
       "      <td>0</td>\n",
       "      <td>0</td>\n",
       "      <td>0</td>\n",
       "      <td>0</td>\n",
       "      <td>0</td>\n",
       "      <td>0</td>\n",
       "      <td>0</td>\n",
       "      <td>0</td>\n",
       "      <td>0</td>\n",
       "      <td>0</td>\n",
       "    </tr>\n",
       "  </tbody>\n",
       "</table>\n",
       "<p>5 rows × 32 columns</p>\n",
       "</div>"
      ],
      "text/plain": [
       "   SUBJECT_ID  HADM_ID           ADMITTIME DEATHTIME ADMISSION_TYPE  \\\n",
       "0          22   165315 2196-04-09 12:26:00       NaN      EMERGENCY   \n",
       "1          23   152223 2153-09-03 07:15:00       NaN       ELECTIVE   \n",
       "2          23   124321 2157-10-18 19:34:00       NaN      EMERGENCY   \n",
       "3          24   161859 2139-06-06 16:14:00       NaN      EMERGENCY   \n",
       "4          25   129635 2160-11-02 02:06:00       NaN      EMERGENCY   \n",
       "\n",
       "          ADMISSION_LOCATION         DISCHARGE_LOCATION INSURANCE LANGUAGE  \\\n",
       "0       EMERGENCY ROOM ADMIT  DISC-TRAN CANCER/CHLDRN H   Private      NaN   \n",
       "1  PHYS REFERRAL/NORMAL DELI           HOME HEALTH CARE  Medicare      NaN   \n",
       "2  TRANSFER FROM HOSP/EXTRAM           HOME HEALTH CARE  Medicare     ENGL   \n",
       "3  TRANSFER FROM HOSP/EXTRAM                       HOME   Private      NaN   \n",
       "4       EMERGENCY ROOM ADMIT                       HOME   Private      NaN   \n",
       "\n",
       "       RELIGION  ... injury mental misc  muscular  neoplasms  nervous  \\\n",
       "0  UNOBTAINABLE  ...      4      1    0         0          0        1   \n",
       "1     RELIGIOUS  ...      1      0    0         0          0        1   \n",
       "2     RELIGIOUS  ...      3      0    0         0          1        1   \n",
       "3     RELIGIOUS  ...      0      0    0         0          0        0   \n",
       "4  UNOBTAINABLE  ...      0      0    0         0          0        0   \n",
       "\n",
       "   pregnancy  prenatal  respiratory  skin  \n",
       "0          0         0            0     0  \n",
       "1          0         0            0     0  \n",
       "2          0         1            0     0  \n",
       "3          0         0            0     0  \n",
       "4          0         0            0     0  \n",
       "\n",
       "[5 rows x 32 columns]"
      ]
     },
     "execution_count": 46,
     "metadata": {},
     "output_type": "execute_result"
    }
   ],
   "source": [
    "# Verify Merge\n",
    "df.head()"
   ]
  },
  {
   "cell_type": "code",
   "execution_count": 47,
   "metadata": {},
   "outputs": [
    {
     "data": {
      "image/png": "[encoded data removed]",
      "text/plain": [
       "<Figure size 504x360 with 1 Axes>"
      ]
     },
     "metadata": {},
     "output_type": "display_data"
    }
   ],
   "source": [
    "# Look at the median LOS by diagnosis category\n",
    "diag_cat_list = ['skin', 'infectious',  'misc', 'genitourinary', 'neoplasms', 'blood', 'respiratory', \n",
    "                  'congenital','nervous', 'muscular', 'digestive', 'mental', 'endocrine', 'injury',\n",
    "                 'circulatory', 'prenatal',  'pregnancy']\n",
    "\n",
    "results = []\n",
    "for variable in diag_cat_list:\n",
    "    results.append(df[[variable, 'LOS']].groupby(variable).median().reset_index().values[1][1])\n",
    "\n",
    "sns.set(style=\"whitegrid\")\n",
    "#sns.set_style(\"ticks\")\n",
    "fig, ax = plt.subplots(figsize=(7,5))\n",
    "ind = range(len(results))\n",
    "ax.barh(ind, results, align='edge', color = '#55a868', alpha=0.8)\n",
    "ax.set_yticks(ind)\n",
    "ax.set_yticklabels(diag_cat_list)\n",
    "ax.set_xlabel('Median Length of Stay (days)')\n",
    "ax.tick_params(left=False, right=False, top=False) \n",
    "ax.set_title('Comparison of Diagnoses'.format(variable))\n",
    "plt.show();"
   ]
  },
  {
   "cell_type": "code",
   "execution_count": null,
   "metadata": {},
   "outputs": [],
   "source": []
  },
  {
   "cell_type": "markdown",
   "metadata": {},
   "source": [
    "## Patients.csv Exploration"
   ]
  },
  {
   "cell_type": "markdown",
   "metadata": {},
   "source": [
    "The PATIENTS table provides age and gender information. To protect identity, a patient’s age is given by the difference between their 'DOB' date of birth and the date of their first admission. Therefore, subsequent admissions for the same patient need to be ignored in the calculation. The only things that need to be done with this table are to extract the DOB and gender information and merge them with the admissions dataframe"
   ]
  },
  {
   "cell_type": "code",
   "execution_count": 48,
   "metadata": {},
   "outputs": [
    {
     "data": {
      "text/html": [
       "<div>\n",
       "<style scoped>\n",
       "    .dataframe tbody tr th:only-of-type {\n",
       "        vertical-align: middle;\n",
       "    }\n",
       "\n",
       "    .dataframe tbody tr th {\n",
       "        vertical-align: top;\n",
       "    }\n",
       "\n",
       "    .dataframe thead th {\n",
       "        text-align: right;\n",
       "    }\n",
       "</style>\n",
       "<table border=\"1\" class=\"dataframe\">\n",
       "  <thead>\n",
       "    <tr style=\"text-align: right;\">\n",
       "      <th></th>\n",
       "      <th>ROW_ID</th>\n",
       "      <th>SUBJECT_ID</th>\n",
       "      <th>GENDER</th>\n",
       "      <th>DOB</th>\n",
       "      <th>DOD</th>\n",
       "      <th>DOD_HOSP</th>\n",
       "      <th>DOD_SSN</th>\n",
       "      <th>EXPIRE_FLAG</th>\n",
       "    </tr>\n",
       "  </thead>\n",
       "  <tbody>\n",
       "    <tr>\n",
       "      <th>0</th>\n",
       "      <td>234</td>\n",
       "      <td>249</td>\n",
       "      <td>F</td>\n",
       "      <td>2075-03-13 00:00:00</td>\n",
       "      <td>NaN</td>\n",
       "      <td>NaN</td>\n",
       "      <td>NaN</td>\n",
       "      <td>0</td>\n",
       "    </tr>\n",
       "    <tr>\n",
       "      <th>1</th>\n",
       "      <td>235</td>\n",
       "      <td>250</td>\n",
       "      <td>F</td>\n",
       "      <td>2164-12-27 00:00:00</td>\n",
       "      <td>2188-11-22 00:00:00</td>\n",
       "      <td>2188-11-22 00:00:00</td>\n",
       "      <td>NaN</td>\n",
       "      <td>1</td>\n",
       "    </tr>\n",
       "    <tr>\n",
       "      <th>2</th>\n",
       "      <td>236</td>\n",
       "      <td>251</td>\n",
       "      <td>M</td>\n",
       "      <td>2090-03-15 00:00:00</td>\n",
       "      <td>NaN</td>\n",
       "      <td>NaN</td>\n",
       "      <td>NaN</td>\n",
       "      <td>0</td>\n",
       "    </tr>\n",
       "    <tr>\n",
       "      <th>3</th>\n",
       "      <td>237</td>\n",
       "      <td>252</td>\n",
       "      <td>M</td>\n",
       "      <td>2078-03-06 00:00:00</td>\n",
       "      <td>NaN</td>\n",
       "      <td>NaN</td>\n",
       "      <td>NaN</td>\n",
       "      <td>0</td>\n",
       "    </tr>\n",
       "    <tr>\n",
       "      <th>4</th>\n",
       "      <td>238</td>\n",
       "      <td>253</td>\n",
       "      <td>F</td>\n",
       "      <td>2089-11-26 00:00:00</td>\n",
       "      <td>NaN</td>\n",
       "      <td>NaN</td>\n",
       "      <td>NaN</td>\n",
       "      <td>0</td>\n",
       "    </tr>\n",
       "  </tbody>\n",
       "</table>\n",
       "</div>"
      ],
      "text/plain": [
       "   ROW_ID  SUBJECT_ID GENDER                  DOB                  DOD  \\\n",
       "0     234         249      F  2075-03-13 00:00:00                  NaN   \n",
       "1     235         250      F  2164-12-27 00:00:00  2188-11-22 00:00:00   \n",
       "2     236         251      M  2090-03-15 00:00:00                  NaN   \n",
       "3     237         252      M  2078-03-06 00:00:00                  NaN   \n",
       "4     238         253      F  2089-11-26 00:00:00                  NaN   \n",
       "\n",
       "              DOD_HOSP DOD_SSN  EXPIRE_FLAG  \n",
       "0                  NaN     NaN            0  \n",
       "1  2188-11-22 00:00:00     NaN            1  \n",
       "2                  NaN     NaN            0  \n",
       "3                  NaN     NaN            0  \n",
       "4                  NaN     NaN            0  "
      ]
     },
     "execution_count": 48,
     "metadata": {},
     "output_type": "execute_result"
    }
   ],
   "source": [
    "df_pat.head()"
   ]
  },
  {
   "cell_type": "code",
   "execution_count": 49,
   "metadata": {},
   "outputs": [
    {
     "data": {
      "text/html": [
       "<div>\n",
       "<style scoped>\n",
       "    .dataframe tbody tr th:only-of-type {\n",
       "        vertical-align: middle;\n",
       "    }\n",
       "\n",
       "    .dataframe tbody tr th {\n",
       "        vertical-align: top;\n",
       "    }\n",
       "\n",
       "    .dataframe thead th {\n",
       "        text-align: right;\n",
       "    }\n",
       "</style>\n",
       "<table border=\"1\" class=\"dataframe\">\n",
       "  <thead>\n",
       "    <tr style=\"text-align: right;\">\n",
       "      <th></th>\n",
       "      <th>SUBJECT_ID</th>\n",
       "      <th>HADM_ID</th>\n",
       "      <th>ADMITTIME</th>\n",
       "      <th>DEATHTIME</th>\n",
       "      <th>ADMISSION_TYPE</th>\n",
       "      <th>ADMISSION_LOCATION</th>\n",
       "      <th>DISCHARGE_LOCATION</th>\n",
       "      <th>INSURANCE</th>\n",
       "      <th>LANGUAGE</th>\n",
       "      <th>RELIGION</th>\n",
       "      <th>...</th>\n",
       "      <th>injury</th>\n",
       "      <th>mental</th>\n",
       "      <th>misc</th>\n",
       "      <th>muscular</th>\n",
       "      <th>neoplasms</th>\n",
       "      <th>nervous</th>\n",
       "      <th>pregnancy</th>\n",
       "      <th>prenatal</th>\n",
       "      <th>respiratory</th>\n",
       "      <th>skin</th>\n",
       "    </tr>\n",
       "  </thead>\n",
       "  <tbody>\n",
       "    <tr>\n",
       "      <th>0</th>\n",
       "      <td>22</td>\n",
       "      <td>165315</td>\n",
       "      <td>2196-04-09 12:26:00</td>\n",
       "      <td>NaN</td>\n",
       "      <td>EMERGENCY</td>\n",
       "      <td>EMERGENCY ROOM ADMIT</td>\n",
       "      <td>DISC-TRAN CANCER/CHLDRN H</td>\n",
       "      <td>Private</td>\n",
       "      <td>NaN</td>\n",
       "      <td>UNOBTAINABLE</td>\n",
       "      <td>...</td>\n",
       "      <td>4</td>\n",
       "      <td>1</td>\n",
       "      <td>0</td>\n",
       "      <td>0</td>\n",
       "      <td>0</td>\n",
       "      <td>1</td>\n",
       "      <td>0</td>\n",
       "      <td>0</td>\n",
       "      <td>0</td>\n",
       "      <td>0</td>\n",
       "    </tr>\n",
       "    <tr>\n",
       "      <th>1</th>\n",
       "      <td>23</td>\n",
       "      <td>152223</td>\n",
       "      <td>2153-09-03 07:15:00</td>\n",
       "      <td>NaN</td>\n",
       "      <td>ELECTIVE</td>\n",
       "      <td>PHYS REFERRAL/NORMAL DELI</td>\n",
       "      <td>HOME HEALTH CARE</td>\n",
       "      <td>Medicare</td>\n",
       "      <td>NaN</td>\n",
       "      <td>RELIGIOUS</td>\n",
       "      <td>...</td>\n",
       "      <td>1</td>\n",
       "      <td>0</td>\n",
       "      <td>0</td>\n",
       "      <td>0</td>\n",
       "      <td>0</td>\n",
       "      <td>1</td>\n",
       "      <td>0</td>\n",
       "      <td>0</td>\n",
       "      <td>0</td>\n",
       "      <td>0</td>\n",
       "    </tr>\n",
       "    <tr>\n",
       "      <th>2</th>\n",
       "      <td>23</td>\n",
       "      <td>124321</td>\n",
       "      <td>2157-10-18 19:34:00</td>\n",
       "      <td>NaN</td>\n",
       "      <td>EMERGENCY</td>\n",
       "      <td>TRANSFER FROM HOSP/EXTRAM</td>\n",
       "      <td>HOME HEALTH CARE</td>\n",
       "      <td>Medicare</td>\n",
       "      <td>ENGL</td>\n",
       "      <td>RELIGIOUS</td>\n",
       "      <td>...</td>\n",
       "      <td>3</td>\n",
       "      <td>0</td>\n",
       "      <td>0</td>\n",
       "      <td>0</td>\n",
       "      <td>1</td>\n",
       "      <td>1</td>\n",
       "      <td>0</td>\n",
       "      <td>1</td>\n",
       "      <td>0</td>\n",
       "      <td>0</td>\n",
       "    </tr>\n",
       "    <tr>\n",
       "      <th>3</th>\n",
       "      <td>24</td>\n",
       "      <td>161859</td>\n",
       "      <td>2139-06-06 16:14:00</td>\n",
       "      <td>NaN</td>\n",
       "      <td>EMERGENCY</td>\n",
       "      <td>TRANSFER FROM HOSP/EXTRAM</td>\n",
       "      <td>HOME</td>\n",
       "      <td>Private</td>\n",
       "      <td>NaN</td>\n",
       "      <td>RELIGIOUS</td>\n",
       "      <td>...</td>\n",
       "      <td>0</td>\n",
       "      <td>0</td>\n",
       "      <td>0</td>\n",
       "      <td>0</td>\n",
       "      <td>0</td>\n",
       "      <td>0</td>\n",
       "      <td>0</td>\n",
       "      <td>0</td>\n",
       "      <td>0</td>\n",
       "      <td>0</td>\n",
       "    </tr>\n",
       "    <tr>\n",
       "      <th>4</th>\n",
       "      <td>25</td>\n",
       "      <td>129635</td>\n",
       "      <td>2160-11-02 02:06:00</td>\n",
       "      <td>NaN</td>\n",
       "      <td>EMERGENCY</td>\n",
       "      <td>EMERGENCY ROOM ADMIT</td>\n",
       "      <td>HOME</td>\n",
       "      <td>Private</td>\n",
       "      <td>NaN</td>\n",
       "      <td>UNOBTAINABLE</td>\n",
       "      <td>...</td>\n",
       "      <td>0</td>\n",
       "      <td>0</td>\n",
       "      <td>0</td>\n",
       "      <td>0</td>\n",
       "      <td>0</td>\n",
       "      <td>0</td>\n",
       "      <td>0</td>\n",
       "      <td>0</td>\n",
       "      <td>0</td>\n",
       "      <td>0</td>\n",
       "    </tr>\n",
       "  </tbody>\n",
       "</table>\n",
       "<p>5 rows × 32 columns</p>\n",
       "</div>"
      ],
      "text/plain": [
       "   SUBJECT_ID  HADM_ID           ADMITTIME DEATHTIME ADMISSION_TYPE  \\\n",
       "0          22   165315 2196-04-09 12:26:00       NaN      EMERGENCY   \n",
       "1          23   152223 2153-09-03 07:15:00       NaN       ELECTIVE   \n",
       "2          23   124321 2157-10-18 19:34:00       NaN      EMERGENCY   \n",
       "3          24   161859 2139-06-06 16:14:00       NaN      EMERGENCY   \n",
       "4          25   129635 2160-11-02 02:06:00       NaN      EMERGENCY   \n",
       "\n",
       "          ADMISSION_LOCATION         DISCHARGE_LOCATION INSURANCE LANGUAGE  \\\n",
       "0       EMERGENCY ROOM ADMIT  DISC-TRAN CANCER/CHLDRN H   Private      NaN   \n",
       "1  PHYS REFERRAL/NORMAL DELI           HOME HEALTH CARE  Medicare      NaN   \n",
       "2  TRANSFER FROM HOSP/EXTRAM           HOME HEALTH CARE  Medicare     ENGL   \n",
       "3  TRANSFER FROM HOSP/EXTRAM                       HOME   Private      NaN   \n",
       "4       EMERGENCY ROOM ADMIT                       HOME   Private      NaN   \n",
       "\n",
       "       RELIGION  ... injury mental misc  muscular  neoplasms  nervous  \\\n",
       "0  UNOBTAINABLE  ...      4      1    0         0          0        1   \n",
       "1     RELIGIOUS  ...      1      0    0         0          0        1   \n",
       "2     RELIGIOUS  ...      3      0    0         0          1        1   \n",
       "3     RELIGIOUS  ...      0      0    0         0          0        0   \n",
       "4  UNOBTAINABLE  ...      0      0    0         0          0        0   \n",
       "\n",
       "   pregnancy  prenatal  respiratory  skin  \n",
       "0          0         0            0     0  \n",
       "1          0         0            0     0  \n",
       "2          0         1            0     0  \n",
       "3          0         0            0     0  \n",
       "4          0         0            0     0  \n",
       "\n",
       "[5 rows x 32 columns]"
      ]
     },
     "execution_count": 49,
     "metadata": {},
     "output_type": "execute_result"
    }
   ],
   "source": [
    "df.head()"
   ]
  },
  {
   "cell_type": "code",
   "execution_count": 50,
   "metadata": {},
   "outputs": [
    {
     "data": {
      "text/plain": [
       "M    26121\n",
       "F    20399\n",
       "Name: GENDER, dtype: int64"
      ]
     },
     "execution_count": 50,
     "metadata": {},
     "output_type": "execute_result"
    }
   ],
   "source": [
    "df_pat['GENDER'].value_counts()"
   ]
  },
  {
   "cell_type": "code",
   "execution_count": 51,
   "metadata": {},
   "outputs": [],
   "source": [
    "# Convert to datetime type\n",
    "df_pat['DOB'] = pd.to_datetime(df_pat['DOB'])"
   ]
  },
  {
   "cell_type": "code",
   "execution_count": 52,
   "metadata": {},
   "outputs": [
    {
     "data": {
      "text/html": [
       "<div>\n",
       "<style scoped>\n",
       "    .dataframe tbody tr th:only-of-type {\n",
       "        vertical-align: middle;\n",
       "    }\n",
       "\n",
       "    .dataframe tbody tr th {\n",
       "        vertical-align: top;\n",
       "    }\n",
       "\n",
       "    .dataframe thead th {\n",
       "        text-align: right;\n",
       "    }\n",
       "</style>\n",
       "<table border=\"1\" class=\"dataframe\">\n",
       "  <thead>\n",
       "    <tr style=\"text-align: right;\">\n",
       "      <th></th>\n",
       "      <th>SUBJECT_ID</th>\n",
       "      <th>DOB</th>\n",
       "      <th>GENDER</th>\n",
       "    </tr>\n",
       "  </thead>\n",
       "  <tbody>\n",
       "    <tr>\n",
       "      <th>0</th>\n",
       "      <td>249</td>\n",
       "      <td>2075-03-13</td>\n",
       "      <td>F</td>\n",
       "    </tr>\n",
       "    <tr>\n",
       "      <th>1</th>\n",
       "      <td>250</td>\n",
       "      <td>2164-12-27</td>\n",
       "      <td>F</td>\n",
       "    </tr>\n",
       "    <tr>\n",
       "      <th>2</th>\n",
       "      <td>251</td>\n",
       "      <td>2090-03-15</td>\n",
       "      <td>M</td>\n",
       "    </tr>\n",
       "    <tr>\n",
       "      <th>3</th>\n",
       "      <td>252</td>\n",
       "      <td>2078-03-06</td>\n",
       "      <td>M</td>\n",
       "    </tr>\n",
       "    <tr>\n",
       "      <th>4</th>\n",
       "      <td>253</td>\n",
       "      <td>2089-11-26</td>\n",
       "      <td>F</td>\n",
       "    </tr>\n",
       "  </tbody>\n",
       "</table>\n",
       "</div>"
      ],
      "text/plain": [
       "   SUBJECT_ID        DOB GENDER\n",
       "0         249 2075-03-13      F\n",
       "1         250 2164-12-27      F\n",
       "2         251 2090-03-15      M\n",
       "3         252 2078-03-06      M\n",
       "4         253 2089-11-26      F"
      ]
     },
     "execution_count": 52,
     "metadata": {},
     "output_type": "execute_result"
    }
   ],
   "source": [
    "df_pat = df_pat[['SUBJECT_ID', 'DOB', 'GENDER']]\n",
    "df_pat.head()"
   ]
  },
  {
   "cell_type": "code",
   "execution_count": 53,
   "metadata": {},
   "outputs": [],
   "source": [
    "df = df.merge(df_pat, how='inner', on='SUBJECT_ID')"
   ]
  },
  {
   "cell_type": "markdown",
   "metadata": {},
   "source": [
    "###  Age (Feature Engineering)"
   ]
  },
  {
   "cell_type": "markdown",
   "metadata": {},
   "source": [
    "Now that the admissions dataFrame has DOB information, age can be calculated."
   ]
  },
  {
   "cell_type": "code",
   "execution_count": 54,
   "metadata": {},
   "outputs": [
    {
     "data": {
      "text/html": [
       "<div>\n",
       "<style scoped>\n",
       "    .dataframe tbody tr th:only-of-type {\n",
       "        vertical-align: middle;\n",
       "    }\n",
       "\n",
       "    .dataframe tbody tr th {\n",
       "        vertical-align: top;\n",
       "    }\n",
       "\n",
       "    .dataframe thead th {\n",
       "        text-align: right;\n",
       "    }\n",
       "</style>\n",
       "<table border=\"1\" class=\"dataframe\">\n",
       "  <thead>\n",
       "    <tr style=\"text-align: right;\">\n",
       "      <th></th>\n",
       "      <th>SUBJECT_ID</th>\n",
       "      <th>ADMIT_MIN</th>\n",
       "    </tr>\n",
       "  </thead>\n",
       "  <tbody>\n",
       "    <tr>\n",
       "      <th>0</th>\n",
       "      <td>2</td>\n",
       "      <td>2138-07-17 19:04:00</td>\n",
       "    </tr>\n",
       "    <tr>\n",
       "      <th>1</th>\n",
       "      <td>3</td>\n",
       "      <td>2101-10-20 19:08:00</td>\n",
       "    </tr>\n",
       "    <tr>\n",
       "      <th>2</th>\n",
       "      <td>4</td>\n",
       "      <td>2191-03-16 00:28:00</td>\n",
       "    </tr>\n",
       "    <tr>\n",
       "      <th>3</th>\n",
       "      <td>5</td>\n",
       "      <td>2103-02-02 04:31:00</td>\n",
       "    </tr>\n",
       "    <tr>\n",
       "      <th>4</th>\n",
       "      <td>6</td>\n",
       "      <td>2175-05-30 07:15:00</td>\n",
       "    </tr>\n",
       "  </tbody>\n",
       "</table>\n",
       "</div>"
      ],
      "text/plain": [
       "   SUBJECT_ID           ADMIT_MIN\n",
       "0           2 2138-07-17 19:04:00\n",
       "1           3 2101-10-20 19:08:00\n",
       "2           4 2191-03-16 00:28:00\n",
       "3           5 2103-02-02 04:31:00\n",
       "4           6 2175-05-30 07:15:00"
      ]
     },
     "execution_count": 54,
     "metadata": {},
     "output_type": "execute_result"
    }
   ],
   "source": [
    "# Find the first admission time for each patient\n",
    "df_age_min = df[['SUBJECT_ID', 'ADMITTIME']].groupby('SUBJECT_ID').min().reset_index()\n",
    "df_age_min.columns = ['SUBJECT_ID', 'ADMIT_MIN']\n",
    "df_age_min.head()"
   ]
  },
  {
   "cell_type": "code",
   "execution_count": 55,
   "metadata": {},
   "outputs": [],
   "source": [
    "df = df.merge(df_age_min, how='outer', on='SUBJECT_ID')"
   ]
  },
  {
   "cell_type": "code",
   "execution_count": 56,
   "metadata": {},
   "outputs": [
    {
     "data": {
      "text/html": [
       "<div>\n",
       "<style scoped>\n",
       "    .dataframe tbody tr th:only-of-type {\n",
       "        vertical-align: middle;\n",
       "    }\n",
       "\n",
       "    .dataframe tbody tr th {\n",
       "        vertical-align: top;\n",
       "    }\n",
       "\n",
       "    .dataframe thead th {\n",
       "        text-align: right;\n",
       "    }\n",
       "</style>\n",
       "<table border=\"1\" class=\"dataframe\">\n",
       "  <thead>\n",
       "    <tr style=\"text-align: right;\">\n",
       "      <th></th>\n",
       "      <th>SUBJECT_ID</th>\n",
       "      <th>HADM_ID</th>\n",
       "      <th>ADMITTIME</th>\n",
       "      <th>DEATHTIME</th>\n",
       "      <th>ADMISSION_TYPE</th>\n",
       "      <th>ADMISSION_LOCATION</th>\n",
       "      <th>DISCHARGE_LOCATION</th>\n",
       "      <th>INSURANCE</th>\n",
       "      <th>LANGUAGE</th>\n",
       "      <th>RELIGION</th>\n",
       "      <th>...</th>\n",
       "      <th>muscular</th>\n",
       "      <th>neoplasms</th>\n",
       "      <th>nervous</th>\n",
       "      <th>pregnancy</th>\n",
       "      <th>prenatal</th>\n",
       "      <th>respiratory</th>\n",
       "      <th>skin</th>\n",
       "      <th>DOB</th>\n",
       "      <th>GENDER</th>\n",
       "      <th>ADMIT_MIN</th>\n",
       "    </tr>\n",
       "  </thead>\n",
       "  <tbody>\n",
       "    <tr>\n",
       "      <th>0</th>\n",
       "      <td>22</td>\n",
       "      <td>165315</td>\n",
       "      <td>2196-04-09 12:26:00</td>\n",
       "      <td>NaN</td>\n",
       "      <td>EMERGENCY</td>\n",
       "      <td>EMERGENCY ROOM ADMIT</td>\n",
       "      <td>DISC-TRAN CANCER/CHLDRN H</td>\n",
       "      <td>Private</td>\n",
       "      <td>NaN</td>\n",
       "      <td>UNOBTAINABLE</td>\n",
       "      <td>...</td>\n",
       "      <td>0</td>\n",
       "      <td>0</td>\n",
       "      <td>1</td>\n",
       "      <td>0</td>\n",
       "      <td>0</td>\n",
       "      <td>0</td>\n",
       "      <td>0</td>\n",
       "      <td>2131-05-07</td>\n",
       "      <td>F</td>\n",
       "      <td>2196-04-09 12:26:00</td>\n",
       "    </tr>\n",
       "    <tr>\n",
       "      <th>1</th>\n",
       "      <td>23</td>\n",
       "      <td>152223</td>\n",
       "      <td>2153-09-03 07:15:00</td>\n",
       "      <td>NaN</td>\n",
       "      <td>ELECTIVE</td>\n",
       "      <td>PHYS REFERRAL/NORMAL DELI</td>\n",
       "      <td>HOME HEALTH CARE</td>\n",
       "      <td>Medicare</td>\n",
       "      <td>NaN</td>\n",
       "      <td>RELIGIOUS</td>\n",
       "      <td>...</td>\n",
       "      <td>0</td>\n",
       "      <td>0</td>\n",
       "      <td>1</td>\n",
       "      <td>0</td>\n",
       "      <td>0</td>\n",
       "      <td>0</td>\n",
       "      <td>0</td>\n",
       "      <td>2082-07-17</td>\n",
       "      <td>M</td>\n",
       "      <td>2153-09-03 07:15:00</td>\n",
       "    </tr>\n",
       "    <tr>\n",
       "      <th>2</th>\n",
       "      <td>23</td>\n",
       "      <td>124321</td>\n",
       "      <td>2157-10-18 19:34:00</td>\n",
       "      <td>NaN</td>\n",
       "      <td>EMERGENCY</td>\n",
       "      <td>TRANSFER FROM HOSP/EXTRAM</td>\n",
       "      <td>HOME HEALTH CARE</td>\n",
       "      <td>Medicare</td>\n",
       "      <td>ENGL</td>\n",
       "      <td>RELIGIOUS</td>\n",
       "      <td>...</td>\n",
       "      <td>0</td>\n",
       "      <td>1</td>\n",
       "      <td>1</td>\n",
       "      <td>0</td>\n",
       "      <td>1</td>\n",
       "      <td>0</td>\n",
       "      <td>0</td>\n",
       "      <td>2082-07-17</td>\n",
       "      <td>M</td>\n",
       "      <td>2153-09-03 07:15:00</td>\n",
       "    </tr>\n",
       "    <tr>\n",
       "      <th>3</th>\n",
       "      <td>24</td>\n",
       "      <td>161859</td>\n",
       "      <td>2139-06-06 16:14:00</td>\n",
       "      <td>NaN</td>\n",
       "      <td>EMERGENCY</td>\n",
       "      <td>TRANSFER FROM HOSP/EXTRAM</td>\n",
       "      <td>HOME</td>\n",
       "      <td>Private</td>\n",
       "      <td>NaN</td>\n",
       "      <td>RELIGIOUS</td>\n",
       "      <td>...</td>\n",
       "      <td>0</td>\n",
       "      <td>0</td>\n",
       "      <td>0</td>\n",
       "      <td>0</td>\n",
       "      <td>0</td>\n",
       "      <td>0</td>\n",
       "      <td>0</td>\n",
       "      <td>2100-05-31</td>\n",
       "      <td>M</td>\n",
       "      <td>2139-06-06 16:14:00</td>\n",
       "    </tr>\n",
       "    <tr>\n",
       "      <th>4</th>\n",
       "      <td>25</td>\n",
       "      <td>129635</td>\n",
       "      <td>2160-11-02 02:06:00</td>\n",
       "      <td>NaN</td>\n",
       "      <td>EMERGENCY</td>\n",
       "      <td>EMERGENCY ROOM ADMIT</td>\n",
       "      <td>HOME</td>\n",
       "      <td>Private</td>\n",
       "      <td>NaN</td>\n",
       "      <td>UNOBTAINABLE</td>\n",
       "      <td>...</td>\n",
       "      <td>0</td>\n",
       "      <td>0</td>\n",
       "      <td>0</td>\n",
       "      <td>0</td>\n",
       "      <td>0</td>\n",
       "      <td>0</td>\n",
       "      <td>0</td>\n",
       "      <td>2101-11-21</td>\n",
       "      <td>M</td>\n",
       "      <td>2160-11-02 02:06:00</td>\n",
       "    </tr>\n",
       "  </tbody>\n",
       "</table>\n",
       "<p>5 rows × 35 columns</p>\n",
       "</div>"
      ],
      "text/plain": [
       "   SUBJECT_ID  HADM_ID           ADMITTIME DEATHTIME ADMISSION_TYPE  \\\n",
       "0          22   165315 2196-04-09 12:26:00       NaN      EMERGENCY   \n",
       "1          23   152223 2153-09-03 07:15:00       NaN       ELECTIVE   \n",
       "2          23   124321 2157-10-18 19:34:00       NaN      EMERGENCY   \n",
       "3          24   161859 2139-06-06 16:14:00       NaN      EMERGENCY   \n",
       "4          25   129635 2160-11-02 02:06:00       NaN      EMERGENCY   \n",
       "\n",
       "          ADMISSION_LOCATION         DISCHARGE_LOCATION INSURANCE LANGUAGE  \\\n",
       "0       EMERGENCY ROOM ADMIT  DISC-TRAN CANCER/CHLDRN H   Private      NaN   \n",
       "1  PHYS REFERRAL/NORMAL DELI           HOME HEALTH CARE  Medicare      NaN   \n",
       "2  TRANSFER FROM HOSP/EXTRAM           HOME HEALTH CARE  Medicare     ENGL   \n",
       "3  TRANSFER FROM HOSP/EXTRAM                       HOME   Private      NaN   \n",
       "4       EMERGENCY ROOM ADMIT                       HOME   Private      NaN   \n",
       "\n",
       "       RELIGION  ... muscular neoplasms nervous  pregnancy  prenatal  \\\n",
       "0  UNOBTAINABLE  ...        0         0       1          0         0   \n",
       "1     RELIGIOUS  ...        0         0       1          0         0   \n",
       "2     RELIGIOUS  ...        0         1       1          0         1   \n",
       "3     RELIGIOUS  ...        0         0       0          0         0   \n",
       "4  UNOBTAINABLE  ...        0         0       0          0         0   \n",
       "\n",
       "   respiratory  skin        DOB  GENDER           ADMIT_MIN  \n",
       "0            0     0 2131-05-07       F 2196-04-09 12:26:00  \n",
       "1            0     0 2082-07-17       M 2153-09-03 07:15:00  \n",
       "2            0     0 2082-07-17       M 2153-09-03 07:15:00  \n",
       "3            0     0 2100-05-31       M 2139-06-06 16:14:00  \n",
       "4            0     0 2101-11-21       M 2160-11-02 02:06:00  \n",
       "\n",
       "[5 rows x 35 columns]"
      ]
     },
     "execution_count": 56,
     "metadata": {},
     "output_type": "execute_result"
    }
   ],
   "source": [
    "# Verify merge\n",
    "df.head()"
   ]
  },
  {
   "cell_type": "code",
   "execution_count": 57,
   "metadata": {},
   "outputs": [
    {
     "data": {
      "text/plain": [
       "311       2\n",
       "309       5\n",
       "310       7\n",
       "15        8\n",
       "16       11\n",
       "       ... \n",
       "69     1112\n",
       "78     1115\n",
       "77     1126\n",
       "300    2170\n",
       "0      8080\n",
       "Name: age, Length: 89, dtype: int64"
      ]
     },
     "execution_count": 57,
     "metadata": {},
     "output_type": "execute_result"
    }
   ],
   "source": [
    "#Age is decode by finding the difference in admission date and date of birth\n",
    "df['age'] = df['ADMITTIME'].dt.year-df['DOB'].dt.year\n",
    "df['age'].value_counts().sort_values()"
   ]
  },
  {
   "cell_type": "code",
   "execution_count": 58,
   "metadata": {},
   "outputs": [
    {
     "data": {
      "text/plain": [
       "15        8\n",
       "16       11\n",
       "1        21\n",
       "17       51\n",
       "18       95\n",
       "       ... \n",
       "69     1112\n",
       "78     1115\n",
       "77     1126\n",
       "100    2610\n",
       "0      8080\n",
       "Name: age, Length: 78, dtype: int64"
      ]
     },
     "execution_count": 58,
     "metadata": {},
     "output_type": "execute_result"
    }
   ],
   "source": [
    "df['age'] = np.where(df['age'] > 100, 100, df['age'])\n",
    "df['age'].value_counts().sort_values()"
   ]
  },
  {
   "cell_type": "code",
   "execution_count": 59,
   "metadata": {},
   "outputs": [
    {
     "data": {
      "image/png": "[encoded data removed]",
      "text/plain": [
       "<Figure size 432x288 with 1 Axes>"
      ]
     },
     "metadata": {},
     "output_type": "display_data"
    }
   ],
   "source": [
    "#Note that no ‘middle’ patients show up - this reflects the fact that MIMIC-III does not contain data from pediatric patients.\n",
    "plt.hist(df['age'], bins=20, color='#c44e52')\n",
    "plt.ylabel('Count')\n",
    "plt.xlabel('Age (years)')\n",
    "plt.title('Distribution of Age in MIMIC-III')\n",
    "plt.tick_params(left=False, bottom=False, top=False, right=False) \n",
    "plt.show();"
   ]
  },
  {
   "cell_type": "code",
   "execution_count": 60,
   "metadata": {},
   "outputs": [
    {
     "data": {
      "text/plain": [
       "(1.0, 50.0)"
      ]
     },
     "execution_count": 60,
     "metadata": {},
     "output_type": "execute_result"
    },
    {
     "data": {
      "image/png": "[encoded data removed]",
      "text/plain": [
       "<Figure size 432x288 with 1 Axes>"
      ]
     },
     "metadata": {},
     "output_type": "display_data"
    }
   ],
   "source": [
    "plt.scatter(df['age'], df['LOS'], alpha=0.005)\n",
    "#plt.yscale('sqrt')\n",
    "plt.ylabel('LOS (days)')\n",
    "plt.xlabel('Age (years)')\n",
    "plt.title('Age versus Length-of-stay')\n",
    "plt.ylim(1, 50)"
   ]
  },
  {
   "cell_type": "code",
   "execution_count": 61,
   "metadata": {},
   "outputs": [
    {
     "data": {
      "text/plain": [
       "senior          34708\n",
       "middle_adult    12087\n",
       "newborn          8101\n",
       "young_adult      3982\n",
       "Name: age, dtype: int64"
      ]
     },
     "execution_count": 61,
     "metadata": {},
     "output_type": "execute_result"
    }
   ],
   "source": [
    "#https://en.wikipedia.org/wiki/List_of_ICD-9_codes\n",
    "age_ranges = [(0, 13), (13, 36), (36, 56), (56, 100)]\n",
    "for num, cat_range in enumerate(age_ranges):\n",
    "    df['age'] = np.where(df['age'].between(cat_range[0],cat_range[1]), \n",
    "            num, df['age'])\n",
    "    \n",
    "age_dict = {0: 'newborn', 1: 'young_adult', 2: 'middle_adult', 3: 'senior'}\n",
    "df['age'] = df['age'].replace(age_dict)\n",
    "df.age.value_counts()"
   ]
  },
  {
   "cell_type": "markdown",
   "metadata": {},
   "source": [
    "### Gender"
   ]
  },
  {
   "cell_type": "code",
   "execution_count": 62,
   "metadata": {},
   "outputs": [
    {
     "data": {
      "image/png": "[encoded data removed]",
      "text/plain": [
       "<Figure size 576x288 with 1 Axes>"
      ]
     },
     "metadata": {},
     "output_type": "display_data"
    }
   ],
   "source": [
    "boxplot_los_groupby('GENDER', los_range=(0, 30))\n",
    "df['GENDER'].replace({'M': 0, 'F':1}, inplace=True)"
   ]
  },
  {
   "cell_type": "markdown",
   "metadata": {},
   "source": [
    "###  ICUSTAYS.csv Exploration"
   ]
  },
  {
   "cell_type": "code",
   "execution_count": 63,
   "metadata": {},
   "outputs": [
    {
     "name": "stdout",
     "output_type": "stream",
     "text": [
      "<class 'pandas.core.frame.DataFrame'>\n",
      "RangeIndex: 61532 entries, 0 to 61531\n",
      "Data columns (total 12 columns):\n",
      " #   Column          Non-Null Count  Dtype  \n",
      "---  ------          --------------  -----  \n",
      " 0   ROW_ID          61532 non-null  int64  \n",
      " 1   SUBJECT_ID      61532 non-null  int64  \n",
      " 2   HADM_ID         61532 non-null  int64  \n",
      " 3   ICUSTAY_ID      61532 non-null  int64  \n",
      " 4   DBSOURCE        61532 non-null  object \n",
      " 5   FIRST_CAREUNIT  61532 non-null  object \n",
      " 6   LAST_CAREUNIT   61532 non-null  object \n",
      " 7   FIRST_WARDID    61532 non-null  int64  \n",
      " 8   LAST_WARDID     61532 non-null  int64  \n",
      " 9   INTIME          61532 non-null  object \n",
      " 10  OUTTIME         61522 non-null  object \n",
      " 11  LOS             61522 non-null  float64\n",
      "dtypes: float64(1), int64(6), object(5)\n",
      "memory usage: 5.6+ MB\n"
     ]
    }
   ],
   "source": [
    "# Intensive Care Unit (ICU) for each admission to hospital\n",
    "df_icu.info()"
   ]
  },
  {
   "cell_type": "code",
   "execution_count": 64,
   "metadata": {},
   "outputs": [
    {
     "data": {
      "text/plain": [
       "57786"
      ]
     },
     "execution_count": 64,
     "metadata": {},
     "output_type": "execute_result"
    }
   ],
   "source": [
    "df_icu['HADM_ID'].nunique()"
   ]
  },
  {
   "cell_type": "code",
   "execution_count": 65,
   "metadata": {},
   "outputs": [
    {
     "data": {
      "text/html": [
       "<div>\n",
       "<style scoped>\n",
       "    .dataframe tbody tr th:only-of-type {\n",
       "        vertical-align: middle;\n",
       "    }\n",
       "\n",
       "    .dataframe tbody tr th {\n",
       "        vertical-align: top;\n",
       "    }\n",
       "\n",
       "    .dataframe thead th {\n",
       "        text-align: right;\n",
       "    }\n",
       "</style>\n",
       "<table border=\"1\" class=\"dataframe\">\n",
       "  <thead>\n",
       "    <tr style=\"text-align: right;\">\n",
       "      <th></th>\n",
       "      <th>ROW_ID</th>\n",
       "      <th>SUBJECT_ID</th>\n",
       "      <th>HADM_ID</th>\n",
       "      <th>ICUSTAY_ID</th>\n",
       "      <th>FIRST_WARDID</th>\n",
       "      <th>LAST_WARDID</th>\n",
       "      <th>LOS</th>\n",
       "    </tr>\n",
       "    <tr>\n",
       "      <th>FIRST_CAREUNIT</th>\n",
       "      <th></th>\n",
       "      <th></th>\n",
       "      <th></th>\n",
       "      <th></th>\n",
       "      <th></th>\n",
       "      <th></th>\n",
       "      <th></th>\n",
       "    </tr>\n",
       "  </thead>\n",
       "  <tbody>\n",
       "    <tr>\n",
       "      <th>CCU</th>\n",
       "      <td>29091.5</td>\n",
       "      <td>22964.5</td>\n",
       "      <td>150074.5</td>\n",
       "      <td>249373.5</td>\n",
       "      <td>7.0</td>\n",
       "      <td>7.0</td>\n",
       "      <td>2.19775</td>\n",
       "    </tr>\n",
       "    <tr>\n",
       "      <th>CSRU</th>\n",
       "      <td>31002.5</td>\n",
       "      <td>24488.0</td>\n",
       "      <td>150225.0</td>\n",
       "      <td>250492.0</td>\n",
       "      <td>14.0</td>\n",
       "      <td>14.0</td>\n",
       "      <td>2.15290</td>\n",
       "    </tr>\n",
       "    <tr>\n",
       "      <th>MICU</th>\n",
       "      <td>33612.5</td>\n",
       "      <td>26489.5</td>\n",
       "      <td>150368.0</td>\n",
       "      <td>250524.0</td>\n",
       "      <td>50.0</td>\n",
       "      <td>50.0</td>\n",
       "      <td>2.09550</td>\n",
       "    </tr>\n",
       "    <tr>\n",
       "      <th>NICU</th>\n",
       "      <td>19581.5</td>\n",
       "      <td>15456.5</td>\n",
       "      <td>149206.5</td>\n",
       "      <td>249308.0</td>\n",
       "      <td>56.0</td>\n",
       "      <td>56.0</td>\n",
       "      <td>0.80250</td>\n",
       "    </tr>\n",
       "    <tr>\n",
       "      <th>SICU</th>\n",
       "      <td>38089.0</td>\n",
       "      <td>30084.0</td>\n",
       "      <td>149744.0</td>\n",
       "      <td>248649.0</td>\n",
       "      <td>33.0</td>\n",
       "      <td>33.0</td>\n",
       "      <td>2.25220</td>\n",
       "    </tr>\n",
       "    <tr>\n",
       "      <th>TSICU</th>\n",
       "      <td>36382.0</td>\n",
       "      <td>28716.0</td>\n",
       "      <td>148915.0</td>\n",
       "      <td>250685.0</td>\n",
       "      <td>14.0</td>\n",
       "      <td>14.0</td>\n",
       "      <td>2.11150</td>\n",
       "    </tr>\n",
       "  </tbody>\n",
       "</table>\n",
       "</div>"
      ],
      "text/plain": [
       "                 ROW_ID  SUBJECT_ID   HADM_ID  ICUSTAY_ID  FIRST_WARDID  \\\n",
       "FIRST_CAREUNIT                                                            \n",
       "CCU             29091.5     22964.5  150074.5    249373.5           7.0   \n",
       "CSRU            31002.5     24488.0  150225.0    250492.0          14.0   \n",
       "MICU            33612.5     26489.5  150368.0    250524.0          50.0   \n",
       "NICU            19581.5     15456.5  149206.5    249308.0          56.0   \n",
       "SICU            38089.0     30084.0  149744.0    248649.0          33.0   \n",
       "TSICU           36382.0     28716.0  148915.0    250685.0          14.0   \n",
       "\n",
       "                LAST_WARDID      LOS  \n",
       "FIRST_CAREUNIT                        \n",
       "CCU                     7.0  2.19775  \n",
       "CSRU                   14.0  2.15290  \n",
       "MICU                   50.0  2.09550  \n",
       "NICU                   56.0  0.80250  \n",
       "SICU                   33.0  2.25220  \n",
       "TSICU                  14.0  2.11150  "
      ]
     },
     "execution_count": 65,
     "metadata": {},
     "output_type": "execute_result"
    }
   ],
   "source": [
    "df_icu.groupby('FIRST_CAREUNIT').median()"
   ]
  },
  {
   "cell_type": "markdown",
   "metadata": {},
   "source": [
    "### ICU (Feature Engineering)"
   ]
  },
  {
   "cell_type": "code",
   "execution_count": 66,
   "metadata": {},
   "outputs": [],
   "source": [
    "# Based on above statistics, reduce to just ICU and NICU groups\n",
    "df_icu['FIRST_CAREUNIT'].replace({'CCU': 'ICU', 'CSRU': 'ICU', 'MICU': 'ICU',\n",
    "                                  'SICU': 'ICU', 'TSICU': 'ICU'}, inplace=True)"
   ]
  },
  {
   "cell_type": "code",
   "execution_count": 67,
   "metadata": {},
   "outputs": [
    {
     "data": {
      "text/html": [
       "<div>\n",
       "<style scoped>\n",
       "    .dataframe tbody tr th:only-of-type {\n",
       "        vertical-align: middle;\n",
       "    }\n",
       "\n",
       "    .dataframe tbody tr th {\n",
       "        vertical-align: top;\n",
       "    }\n",
       "\n",
       "    .dataframe thead th {\n",
       "        text-align: right;\n",
       "    }\n",
       "</style>\n",
       "<table border=\"1\" class=\"dataframe\">\n",
       "  <thead>\n",
       "    <tr style=\"text-align: right;\">\n",
       "      <th></th>\n",
       "      <th>HADM_ID</th>\n",
       "      <th>cat</th>\n",
       "    </tr>\n",
       "  </thead>\n",
       "  <tbody>\n",
       "    <tr>\n",
       "      <th>0</th>\n",
       "      <td>100001</td>\n",
       "      <td>[ICU]</td>\n",
       "    </tr>\n",
       "    <tr>\n",
       "      <th>1</th>\n",
       "      <td>100003</td>\n",
       "      <td>[ICU]</td>\n",
       "    </tr>\n",
       "    <tr>\n",
       "      <th>2</th>\n",
       "      <td>100006</td>\n",
       "      <td>[ICU]</td>\n",
       "    </tr>\n",
       "    <tr>\n",
       "      <th>3</th>\n",
       "      <td>100007</td>\n",
       "      <td>[ICU]</td>\n",
       "    </tr>\n",
       "    <tr>\n",
       "      <th>4</th>\n",
       "      <td>100009</td>\n",
       "      <td>[ICU]</td>\n",
       "    </tr>\n",
       "  </tbody>\n",
       "</table>\n",
       "</div>"
      ],
      "text/plain": [
       "   HADM_ID    cat\n",
       "0   100001  [ICU]\n",
       "1   100003  [ICU]\n",
       "2   100006  [ICU]\n",
       "3   100007  [ICU]\n",
       "4   100009  [ICU]"
      ]
     },
     "execution_count": 67,
     "metadata": {},
     "output_type": "execute_result"
    }
   ],
   "source": [
    "df_icu['cat'] = df_icu['FIRST_CAREUNIT']\n",
    "icu_list = df_icu.groupby('HADM_ID')['cat'].apply(list).reset_index()\n",
    "icu_list.head()"
   ]
  },
  {
   "cell_type": "code",
   "execution_count": 68,
   "metadata": {},
   "outputs": [
    {
     "data": {
      "text/plain": [
       "ICU     53432\n",
       "NICU     8100\n",
       "Name: FIRST_CAREUNIT, dtype: int64"
      ]
     },
     "execution_count": 68,
     "metadata": {},
     "output_type": "execute_result"
    }
   ],
   "source": [
    "df_icu['FIRST_CAREUNIT'].value_counts()"
   ]
  },
  {
   "cell_type": "code",
   "execution_count": 69,
   "metadata": {},
   "outputs": [
    {
     "data": {
      "text/html": [
       "<div>\n",
       "<style scoped>\n",
       "    .dataframe tbody tr th:only-of-type {\n",
       "        vertical-align: middle;\n",
       "    }\n",
       "\n",
       "    .dataframe tbody tr th {\n",
       "        vertical-align: top;\n",
       "    }\n",
       "\n",
       "    .dataframe thead th {\n",
       "        text-align: right;\n",
       "    }\n",
       "</style>\n",
       "<table border=\"1\" class=\"dataframe\">\n",
       "  <thead>\n",
       "    <tr style=\"text-align: right;\">\n",
       "      <th></th>\n",
       "      <th>ICU</th>\n",
       "      <th>NICU</th>\n",
       "      <th>HADM_ID</th>\n",
       "    </tr>\n",
       "  </thead>\n",
       "  <tbody>\n",
       "    <tr>\n",
       "      <th>0</th>\n",
       "      <td>1</td>\n",
       "      <td>0</td>\n",
       "      <td>100001</td>\n",
       "    </tr>\n",
       "    <tr>\n",
       "      <th>1</th>\n",
       "      <td>1</td>\n",
       "      <td>0</td>\n",
       "      <td>100003</td>\n",
       "    </tr>\n",
       "    <tr>\n",
       "      <th>2</th>\n",
       "      <td>1</td>\n",
       "      <td>0</td>\n",
       "      <td>100006</td>\n",
       "    </tr>\n",
       "    <tr>\n",
       "      <th>3</th>\n",
       "      <td>1</td>\n",
       "      <td>0</td>\n",
       "      <td>100007</td>\n",
       "    </tr>\n",
       "    <tr>\n",
       "      <th>4</th>\n",
       "      <td>1</td>\n",
       "      <td>0</td>\n",
       "      <td>100009</td>\n",
       "    </tr>\n",
       "  </tbody>\n",
       "</table>\n",
       "</div>"
      ],
      "text/plain": [
       "   ICU  NICU  HADM_ID\n",
       "0    1     0   100001\n",
       "1    1     0   100003\n",
       "2    1     0   100006\n",
       "3    1     0   100007\n",
       "4    1     0   100009"
      ]
     },
     "execution_count": 69,
     "metadata": {},
     "output_type": "execute_result"
    }
   ],
   "source": [
    "# Create admission-ICU matrix\n",
    "icu_item = pd.get_dummies(icu_list['cat'].apply(pd.Series).stack()).sum(level=0)\n",
    "icu_item[icu_item >= 1] = 1\n",
    "icu_item = icu_item.join(icu_list['HADM_ID'], how=\"outer\")\n",
    "icu_item.head()"
   ]
  },
  {
   "cell_type": "code",
   "execution_count": 70,
   "metadata": {},
   "outputs": [
    {
     "name": "stdout",
     "output_type": "stream",
     "text": [
      "Number of admissions to ICU 49794.\n",
      "Number of admissions to NICU 7992.\n"
     ]
    }
   ],
   "source": [
    "print(\"Number of admissions to ICU {}.\".format(icu_item.ICU.sum()))\n",
    "print(\"Number of admissions to NICU {}.\".format(icu_item.NICU.sum()))"
   ]
  },
  {
   "cell_type": "code",
   "execution_count": 71,
   "metadata": {},
   "outputs": [],
   "source": [
    "# Merge ICU data with main dataFrame\n",
    "df = df.merge(icu_item, how='outer', on='HADM_ID')"
   ]
  },
  {
   "cell_type": "code",
   "execution_count": 72,
   "metadata": {},
   "outputs": [],
   "source": [
    "# Replace NaNs with 0\n",
    "df['ICU'].fillna(value=0, inplace=True)\n",
    "df['NICU'].fillna(value=0, inplace=True)"
   ]
  },
  {
   "cell_type": "code",
   "execution_count": 73,
   "metadata": {},
   "outputs": [
    {
     "name": "stdout",
     "output_type": "stream",
     "text": [
      "1.0    49794\n",
      "0.0     9168\n",
      "Name: ICU, dtype: int64\n",
      "0.0    50970\n",
      "1.0     7992\n",
      "Name: NICU, dtype: int64\n"
     ]
    }
   ],
   "source": [
    "# Verify NaN fix\n",
    "print(df.ICU.value_counts(dropna=False))\n",
    "print(df.NICU.value_counts(dropna=False))"
   ]
  },
  {
   "cell_type": "markdown",
   "metadata": {},
   "source": [
    "## Data Preprocessing"
   ]
  },
  {
   "cell_type": "code",
   "execution_count": 74,
   "metadata": {},
   "outputs": [
    {
     "name": "stdout",
     "output_type": "stream",
     "text": [
      "<class 'pandas.core.frame.DataFrame'>\n",
      "Int64Index: 58962 entries, 0 to 58961\n",
      "Data columns (total 38 columns):\n",
      " #   Column              Non-Null Count  Dtype         \n",
      "---  ------              --------------  -----         \n",
      " 0   SUBJECT_ID          58878 non-null  float64       \n",
      " 1   HADM_ID             58962 non-null  int64         \n",
      " 2   ADMITTIME           58878 non-null  datetime64[ns]\n",
      " 3   DEATHTIME           5774 non-null   object        \n",
      " 4   ADMISSION_TYPE      58878 non-null  object        \n",
      " 5   ADMISSION_LOCATION  58878 non-null  object        \n",
      " 6   DISCHARGE_LOCATION  58878 non-null  object        \n",
      " 7   INSURANCE           58878 non-null  object        \n",
      " 8   LANGUAGE            33606 non-null  object        \n",
      " 9   RELIGION            58878 non-null  object        \n",
      " 10  MARITAL_STATUS      58878 non-null  object        \n",
      " 11  ETHNICITY           58878 non-null  object        \n",
      " 12  DIAGNOSIS           58853 non-null  object        \n",
      " 13  LOS                 58878 non-null  float64       \n",
      " 14  DECEASED            58878 non-null  float64       \n",
      " 15  blood               58878 non-null  float64       \n",
      " 16  circulatory         58878 non-null  float64       \n",
      " 17  congenital          58878 non-null  float64       \n",
      " 18  digestive           58878 non-null  float64       \n",
      " 19  endocrine           58878 non-null  float64       \n",
      " 20  genitourinary       58878 non-null  float64       \n",
      " 21  infectious          58878 non-null  float64       \n",
      " 22  injury              58878 non-null  float64       \n",
      " 23  mental              58878 non-null  float64       \n",
      " 24  misc                58878 non-null  float64       \n",
      " 25  muscular            58878 non-null  float64       \n",
      " 26  neoplasms           58878 non-null  float64       \n",
      " 27  nervous             58878 non-null  float64       \n",
      " 28  pregnancy           58878 non-null  float64       \n",
      " 29  prenatal            58878 non-null  float64       \n",
      " 30  respiratory         58878 non-null  float64       \n",
      " 31  skin                58878 non-null  float64       \n",
      " 32  DOB                 58878 non-null  datetime64[ns]\n",
      " 33  GENDER              58878 non-null  float64       \n",
      " 34  ADMIT_MIN           58878 non-null  datetime64[ns]\n",
      " 35  age                 58878 non-null  object        \n",
      " 36  ICU                 58962 non-null  float64       \n",
      " 37  NICU                58962 non-null  float64       \n",
      "dtypes: datetime64[ns](3), float64(23), int64(1), object(11)\n",
      "memory usage: 17.5+ MB\n"
     ]
    }
   ],
   "source": [
    "# Look at what is no longer needed in the DataFrame\n",
    "df.info()"
   ]
  },
  {
   "cell_type": "code",
   "execution_count": 75,
   "metadata": {},
   "outputs": [],
   "source": [
    "# Remove deceased persons as they will skew LOS result\n",
    "df = df[df['DECEASED'] == 0]\n",
    "\n",
    "# Remove LOS with negative number, likely entry form error\n",
    "df = df[df['LOS'] > 0]"
   ]
  },
  {
   "cell_type": "code",
   "execution_count": 76,
   "metadata": {},
   "outputs": [
    {
     "name": "stdout",
     "output_type": "stream",
     "text": [
      "<class 'pandas.core.frame.DataFrame'>\n",
      "Int64Index: 53104 entries, 0 to 58877\n",
      "Data columns (total 27 columns):\n",
      " #   Column          Non-Null Count  Dtype  \n",
      "---  ------          --------------  -----  \n",
      " 0   ADMISSION_TYPE  53104 non-null  object \n",
      " 1   INSURANCE       53104 non-null  object \n",
      " 2   RELIGION        53104 non-null  object \n",
      " 3   MARITAL_STATUS  53104 non-null  object \n",
      " 4   ETHNICITY       53104 non-null  object \n",
      " 5   LOS             53104 non-null  float64\n",
      " 6   blood           53104 non-null  float64\n",
      " 7   circulatory     53104 non-null  float64\n",
      " 8   congenital      53104 non-null  float64\n",
      " 9   digestive       53104 non-null  float64\n",
      " 10  endocrine       53104 non-null  float64\n",
      " 11  genitourinary   53104 non-null  float64\n",
      " 12  infectious      53104 non-null  float64\n",
      " 13  injury          53104 non-null  float64\n",
      " 14  mental          53104 non-null  float64\n",
      " 15  misc            53104 non-null  float64\n",
      " 16  muscular        53104 non-null  float64\n",
      " 17  neoplasms       53104 non-null  float64\n",
      " 18  nervous         53104 non-null  float64\n",
      " 19  pregnancy       53104 non-null  float64\n",
      " 20  prenatal        53104 non-null  float64\n",
      " 21  respiratory     53104 non-null  float64\n",
      " 22  skin            53104 non-null  float64\n",
      " 23  GENDER          53104 non-null  float64\n",
      " 24  age             53104 non-null  object \n",
      " 25  ICU             53104 non-null  float64\n",
      " 26  NICU            53104 non-null  float64\n",
      "dtypes: float64(21), object(6)\n",
      "memory usage: 11.3+ MB\n"
     ]
    }
   ],
   "source": [
    "# Drop unused or no longer needed columns\n",
    "df.drop(columns=['SUBJECT_ID', 'HADM_ID', 'ADMITTIME', 'ADMISSION_LOCATION',\n",
    "                'DISCHARGE_LOCATION', 'LANGUAGE', 'ADMIT_MIN', 'DOB',\n",
    "                'DIAGNOSIS', 'DECEASED',  'DEATHTIME'], inplace=True)\n",
    "df_copy=df\n",
    "\n",
    "df.info()"
   ]
  },
  {
   "cell_type": "markdown",
   "metadata": {},
   "source": [
    "### Correlation Matrix"
   ]
  },
  {
   "cell_type": "code",
   "execution_count": 77,
   "metadata": {},
   "outputs": [
    {
     "data": {
      "image/png": "[encoded data removed]",
      "text/plain": [
       "<Figure size 720x576 with 2 Axes>"
      ]
     },
     "metadata": {},
     "output_type": "display_data"
    }
   ],
   "source": [
    "plt.subplots(figsize=(10,8))\n",
    "sns.heatmap(np.round(df_copy.corr(), decimals=2), annot=True)\n",
    "plt.title('Correlation', size=16);"
   ]
  },
  {
   "cell_type": "code",
   "execution_count": 78,
   "metadata": {},
   "outputs": [
    {
     "name": "stdout",
     "output_type": "stream",
     "text": [
      "<class 'pandas.core.frame.DataFrame'>\n",
      "Int64Index: 53104 entries, 0 to 58877\n",
      "Data columns (total 49 columns):\n",
      " #   Column                      Non-Null Count  Dtype  \n",
      "---  ------                      --------------  -----  \n",
      " 0   LOS                         53104 non-null  float64\n",
      " 1   blood                       53104 non-null  float64\n",
      " 2   circulatory                 53104 non-null  float64\n",
      " 3   congenital                  53104 non-null  float64\n",
      " 4   digestive                   53104 non-null  float64\n",
      " 5   endocrine                   53104 non-null  float64\n",
      " 6   genitourinary               53104 non-null  float64\n",
      " 7   infectious                  53104 non-null  float64\n",
      " 8   injury                      53104 non-null  float64\n",
      " 9   mental                      53104 non-null  float64\n",
      " 10  misc                        53104 non-null  float64\n",
      " 11  muscular                    53104 non-null  float64\n",
      " 12  neoplasms                   53104 non-null  float64\n",
      " 13  nervous                     53104 non-null  float64\n",
      " 14  pregnancy                   53104 non-null  float64\n",
      " 15  prenatal                    53104 non-null  float64\n",
      " 16  respiratory                 53104 non-null  float64\n",
      " 17  skin                        53104 non-null  float64\n",
      " 18  GENDER                      53104 non-null  float64\n",
      " 19  age                         53104 non-null  object \n",
      " 20  ICU                         53104 non-null  float64\n",
      " 21  NICU                        53104 non-null  float64\n",
      " 22  ADM_ELECTIVE                53104 non-null  uint8  \n",
      " 23  ADM_EMERGENCY               53104 non-null  uint8  \n",
      " 24  ADM_NEWBORN                 53104 non-null  uint8  \n",
      " 25  ADM_URGENT                  53104 non-null  uint8  \n",
      " 26  INS_Government              53104 non-null  uint8  \n",
      " 27  INS_Medicaid                53104 non-null  uint8  \n",
      " 28  INS_Medicare                53104 non-null  uint8  \n",
      " 29  INS_Private                 53104 non-null  uint8  \n",
      " 30  INS_Self Pay                53104 non-null  uint8  \n",
      " 31  REL_NOT SPECIFIED           53104 non-null  uint8  \n",
      " 32  REL_RELIGIOUS               53104 non-null  uint8  \n",
      " 33  REL_UNOBTAINABLE            53104 non-null  uint8  \n",
      " 34  ETH_ASIAN                   53104 non-null  uint8  \n",
      " 35  ETH_BLACK/AFRICAN AMERICAN  53104 non-null  uint8  \n",
      " 36  ETH_HISPANIC/LATINO         53104 non-null  uint8  \n",
      " 37  ETH_OTHER/UNKNOWN           53104 non-null  uint8  \n",
      " 38  ETH_WHITE                   53104 non-null  uint8  \n",
      " 39  MAR_DIVORCED                53104 non-null  uint8  \n",
      " 40  MAR_LIFE PARTNER            53104 non-null  uint8  \n",
      " 41  MAR_MARRIED                 53104 non-null  uint8  \n",
      " 42  MAR_SEPARATED               53104 non-null  uint8  \n",
      " 43  MAR_SINGLE                  53104 non-null  uint8  \n",
      " 44  MAR_UNKNOWN (DEFAULT)       53104 non-null  uint8  \n",
      " 45  MAR_WIDOWED                 53104 non-null  uint8  \n",
      " 46  RELIGION_NOT SPECIFIED      53104 non-null  uint8  \n",
      " 47  RELIGION_RELIGIOUS          53104 non-null  uint8  \n",
      " 48  RELIGION_UNOBTAINABLE       53104 non-null  uint8  \n",
      "dtypes: float64(21), object(1), uint8(27)\n",
      "memory usage: 10.7+ MB\n"
     ]
    }
   ],
   "source": [
    "# Create dummy columns for categorical variables\n",
    "prefix_cols = ['ADM', 'INS', 'REL', 'ETH', 'MAR', 'RELIGION']\n",
    "dummy_cols = ['ADMISSION_TYPE', 'INSURANCE', 'RELIGION',\n",
    "             'ETHNICITY', 'MARITAL_STATUS', 'RELIGION']\n",
    "df = pd.get_dummies(df, prefix=prefix_cols, columns=dummy_cols)\n",
    "df.info()"
   ]
  },
  {
   "cell_type": "code",
   "execution_count": 79,
   "metadata": {},
   "outputs": [
    {
     "data": {
      "text/html": [
       "<div>\n",
       "<style scoped>\n",
       "    .dataframe tbody tr th:only-of-type {\n",
       "        vertical-align: middle;\n",
       "    }\n",
       "\n",
       "    .dataframe tbody tr th {\n",
       "        vertical-align: top;\n",
       "    }\n",
       "\n",
       "    .dataframe thead th {\n",
       "        text-align: right;\n",
       "    }\n",
       "</style>\n",
       "<table border=\"1\" class=\"dataframe\">\n",
       "  <thead>\n",
       "    <tr style=\"text-align: right;\">\n",
       "      <th></th>\n",
       "      <th>LOS</th>\n",
       "      <th>blood</th>\n",
       "      <th>circulatory</th>\n",
       "      <th>congenital</th>\n",
       "      <th>digestive</th>\n",
       "      <th>endocrine</th>\n",
       "      <th>genitourinary</th>\n",
       "      <th>infectious</th>\n",
       "      <th>injury</th>\n",
       "      <th>mental</th>\n",
       "      <th>...</th>\n",
       "      <th>MAR_DIVORCED</th>\n",
       "      <th>MAR_LIFE PARTNER</th>\n",
       "      <th>MAR_MARRIED</th>\n",
       "      <th>MAR_SEPARATED</th>\n",
       "      <th>MAR_SINGLE</th>\n",
       "      <th>MAR_UNKNOWN (DEFAULT)</th>\n",
       "      <th>MAR_WIDOWED</th>\n",
       "      <th>RELIGION_NOT SPECIFIED</th>\n",
       "      <th>RELIGION_RELIGIOUS</th>\n",
       "      <th>RELIGION_UNOBTAINABLE</th>\n",
       "    </tr>\n",
       "  </thead>\n",
       "  <tbody>\n",
       "    <tr>\n",
       "      <th>0</th>\n",
       "      <td>1.144444</td>\n",
       "      <td>0.0</td>\n",
       "      <td>1.0</td>\n",
       "      <td>0.0</td>\n",
       "      <td>0.0</td>\n",
       "      <td>0.0</td>\n",
       "      <td>0.0</td>\n",
       "      <td>0.0</td>\n",
       "      <td>4.0</td>\n",
       "      <td>1.0</td>\n",
       "      <td>...</td>\n",
       "      <td>0</td>\n",
       "      <td>0</td>\n",
       "      <td>1</td>\n",
       "      <td>0</td>\n",
       "      <td>0</td>\n",
       "      <td>0</td>\n",
       "      <td>0</td>\n",
       "      <td>0</td>\n",
       "      <td>0</td>\n",
       "      <td>1</td>\n",
       "    </tr>\n",
       "    <tr>\n",
       "      <th>1</th>\n",
       "      <td>5.496528</td>\n",
       "      <td>0.0</td>\n",
       "      <td>4.0</td>\n",
       "      <td>0.0</td>\n",
       "      <td>0.0</td>\n",
       "      <td>1.0</td>\n",
       "      <td>1.0</td>\n",
       "      <td>0.0</td>\n",
       "      <td>1.0</td>\n",
       "      <td>0.0</td>\n",
       "      <td>...</td>\n",
       "      <td>0</td>\n",
       "      <td>0</td>\n",
       "      <td>1</td>\n",
       "      <td>0</td>\n",
       "      <td>0</td>\n",
       "      <td>0</td>\n",
       "      <td>0</td>\n",
       "      <td>0</td>\n",
       "      <td>1</td>\n",
       "      <td>0</td>\n",
       "    </tr>\n",
       "    <tr>\n",
       "      <th>2</th>\n",
       "      <td>6.768056</td>\n",
       "      <td>0.0</td>\n",
       "      <td>2.0</td>\n",
       "      <td>0.0</td>\n",
       "      <td>0.0</td>\n",
       "      <td>2.0</td>\n",
       "      <td>0.0</td>\n",
       "      <td>0.0</td>\n",
       "      <td>3.0</td>\n",
       "      <td>0.0</td>\n",
       "      <td>...</td>\n",
       "      <td>0</td>\n",
       "      <td>0</td>\n",
       "      <td>1</td>\n",
       "      <td>0</td>\n",
       "      <td>0</td>\n",
       "      <td>0</td>\n",
       "      <td>0</td>\n",
       "      <td>0</td>\n",
       "      <td>1</td>\n",
       "      <td>0</td>\n",
       "    </tr>\n",
       "    <tr>\n",
       "      <th>3</th>\n",
       "      <td>2.856944</td>\n",
       "      <td>0.0</td>\n",
       "      <td>2.0</td>\n",
       "      <td>0.0</td>\n",
       "      <td>1.0</td>\n",
       "      <td>1.0</td>\n",
       "      <td>0.0</td>\n",
       "      <td>0.0</td>\n",
       "      <td>0.0</td>\n",
       "      <td>0.0</td>\n",
       "      <td>...</td>\n",
       "      <td>0</td>\n",
       "      <td>0</td>\n",
       "      <td>0</td>\n",
       "      <td>0</td>\n",
       "      <td>1</td>\n",
       "      <td>0</td>\n",
       "      <td>0</td>\n",
       "      <td>0</td>\n",
       "      <td>1</td>\n",
       "      <td>0</td>\n",
       "    </tr>\n",
       "    <tr>\n",
       "      <th>4</th>\n",
       "      <td>3.534028</td>\n",
       "      <td>0.0</td>\n",
       "      <td>3.0</td>\n",
       "      <td>0.0</td>\n",
       "      <td>0.0</td>\n",
       "      <td>1.0</td>\n",
       "      <td>0.0</td>\n",
       "      <td>0.0</td>\n",
       "      <td>0.0</td>\n",
       "      <td>0.0</td>\n",
       "      <td>...</td>\n",
       "      <td>0</td>\n",
       "      <td>0</td>\n",
       "      <td>1</td>\n",
       "      <td>0</td>\n",
       "      <td>0</td>\n",
       "      <td>0</td>\n",
       "      <td>0</td>\n",
       "      <td>0</td>\n",
       "      <td>0</td>\n",
       "      <td>1</td>\n",
       "    </tr>\n",
       "  </tbody>\n",
       "</table>\n",
       "<p>5 rows × 49 columns</p>\n",
       "</div>"
      ],
      "text/plain": [
       "        LOS  blood  circulatory  congenital  digestive  endocrine  \\\n",
       "0  1.144444    0.0          1.0         0.0        0.0        0.0   \n",
       "1  5.496528    0.0          4.0         0.0        0.0        1.0   \n",
       "2  6.768056    0.0          2.0         0.0        0.0        2.0   \n",
       "3  2.856944    0.0          2.0         0.0        1.0        1.0   \n",
       "4  3.534028    0.0          3.0         0.0        0.0        1.0   \n",
       "\n",
       "   genitourinary  infectious  injury  mental  ...  MAR_DIVORCED  \\\n",
       "0            0.0         0.0     4.0     1.0  ...             0   \n",
       "1            1.0         0.0     1.0     0.0  ...             0   \n",
       "2            0.0         0.0     3.0     0.0  ...             0   \n",
       "3            0.0         0.0     0.0     0.0  ...             0   \n",
       "4            0.0         0.0     0.0     0.0  ...             0   \n",
       "\n",
       "   MAR_LIFE PARTNER  MAR_MARRIED  MAR_SEPARATED  MAR_SINGLE  \\\n",
       "0                 0            1              0           0   \n",
       "1                 0            1              0           0   \n",
       "2                 0            1              0           0   \n",
       "3                 0            0              0           1   \n",
       "4                 0            1              0           0   \n",
       "\n",
       "   MAR_UNKNOWN (DEFAULT)  MAR_WIDOWED  RELIGION_NOT SPECIFIED  \\\n",
       "0                      0            0                       0   \n",
       "1                      0            0                       0   \n",
       "2                      0            0                       0   \n",
       "3                      0            0                       0   \n",
       "4                      0            0                       0   \n",
       "\n",
       "   RELIGION_RELIGIOUS RELIGION_UNOBTAINABLE  \n",
       "0                   0                     1  \n",
       "1                   1                     0  \n",
       "2                   1                     0  \n",
       "3                   1                     0  \n",
       "4                   0                     1  \n",
       "\n",
       "[5 rows x 49 columns]"
      ]
     },
     "execution_count": 79,
     "metadata": {},
     "output_type": "execute_result"
    }
   ],
   "source": [
    "# Verify\n",
    "df.head()"
   ]
  },
  {
   "cell_type": "markdown",
   "metadata": {},
   "source": [
    "### Data Cleanup Function"
   ]
  },
  {
   "cell_type": "markdown",
   "metadata": {},
   "source": [
    "The mimic_los_cleanup performs all of the above data cleanup and feature engineering steps."
   ]
  },
  {
   "cell_type": "code",
   "execution_count": 80,
   "metadata": {},
   "outputs": [
    {
     "name": "stdout",
     "output_type": "stream",
     "text": [
      "(1/5) Completed .csv imports\n"
     ]
    },
    {
     "name": "stderr",
     "output_type": "stream",
     "text": [
      "C:\\Users\\Bita\\anaconda3\\lib\\site-packages\\pandas\\core\\indexing.py:670: SettingWithCopyWarning: \n",
      "A value is trying to be set on a copy of a slice from a DataFrame\n",
      "\n",
      "See the caveats in the documentation: https://pandas.pydata.org/pandas-docs/stable/user_guide/indexing.html#returning-a-view-versus-a-copy\n",
      "  iloc._setitem_with_indexer(indexer, value)\n"
     ]
    },
    {
     "name": "stdout",
     "output_type": "stream",
     "text": [
      "(2/5) Completed ADMISSIONS.csv cleanup and feature engineering.\n",
      "(3/5) Completed DIAGNOSES_ICD.csv cleanup and feature engineering.\n",
      "(4/5) Completed PATIENT.csv cleanup and feature engineering.\n",
      "(5/5) Completed ICUSTAYS.csv cleanup and feature engineering.\n",
      "Data Preprocessing complete.\n"
     ]
    }
   ],
   "source": [
    "def mimic_los_cleanup(adm_csv='ADMISSIONS.csv', patients_csv='PATIENTS.csv',\n",
    "                      diagcode_csv='DIAGNOSES_ICD.csv', icu_csv='ICUSTAYS.csv',\n",
    "                      verbose=True):\n",
    "    '''\n",
    "    This function take 4 csv files from the MIMIC-III database, converts them to\n",
    "    DataFrames for cleanup and feature engineering for use in a Length-of-Stay\n",
    "    regression model such as the sklearn GradientBoostingRegressor. \n",
    "    \n",
    "    INPUT:\n",
    "    adm_csv - Primary Admissions information\n",
    "    patients_csv - Patient specific info such as gender and DOB\n",
    "    diagcode_csv - ICD9 Diagnosis for each admission to hospital\n",
    "    icu_csv - Intensive Care Unit (ICU) data for each admission \n",
    "    \n",
    "    OUTPUT:\n",
    "    df - clean DataFrame for use in an regression model\n",
    "    actual_median_los - Median LOS for all admissions \n",
    "    actual_mean_los - Average LOS for all admissions\n",
    "    '''\n",
    "    \n",
    "    # Import CSV tables\n",
    "    df = pd.read_csv(adm_csv)\n",
    "    df_pat = pd.read_csv(patients_csv)\n",
    "    df_diagcode = pd.read_csv(diagcode_csv)\n",
    "    df_icu = pd.read_csv(icu_csv)\n",
    "    if verbose: \n",
    "        print('(1/5) Completed .csv imports')\n",
    "        \n",
    "    # Feature Engineering for Length of Stay (LOS) target variable\n",
    "    # Convert admission and discharge times to datatime type\n",
    "    df['ADMITTIME'] = pd.to_datetime(df['ADMITTIME'])\n",
    "    df['DISCHTIME'] = pd.to_datetime(df['DISCHTIME'])\n",
    "    # Convert timedelta type into float 'days', 86400 seconds in a day\n",
    "    df['LOS'] = (df['DISCHTIME'] - df['ADMITTIME']).dt.total_seconds()/86400\n",
    "    \n",
    "    # Drop columns that are not needed for next steps\n",
    "    df.drop(columns=['DISCHTIME', 'ROW_ID', \n",
    "                    'EDREGTIME', 'EDOUTTIME', 'HOSPITAL_EXPIRE_FLAG',\n",
    "                    'HAS_CHARTEVENTS_DATA'], inplace=True)\n",
    "    \n",
    "    # Track patients who died at the hospital by admission event\n",
    "    df['DECEASED'] = df['DEATHTIME'].notnull().map({True:1, False:0})\n",
    "    \n",
    "    # Hospital LOS metrics\n",
    "    actual_mean_los = df['LOS'].loc[df['DECEASED'] == 0].mean() \n",
    "    actual_median_los = df['LOS'].loc[df['DECEASED'] == 0].median() \n",
    "    \n",
    "    # Compress the number of ethnicity categories\n",
    "    df['ETHNICITY'].replace(regex=r'^ASIAN\\D*', value='ASIAN', inplace=True)\n",
    "    df['ETHNICITY'].replace(regex=r'^WHITE\\D*', value='WHITE', inplace=True)\n",
    "    df['ETHNICITY'].replace(regex=r'^HISPANIC\\D*', value='HISPANIC/LATINO', inplace=True)\n",
    "    df['ETHNICITY'].replace(regex=r'^BLACK\\D*', value='BLACK/AFRICAN AMERICAN', inplace=True)\n",
    "    df['ETHNICITY'].replace(['UNABLE TO OBTAIN', 'OTHER', 'PATIENT DECLINED TO ANSWER', \n",
    "                             'UNKNOWN/NOT SPECIFIED'], value='OTHER/UNKNOWN', inplace=True)\n",
    "    df['ETHNICITY'].loc[~df['ETHNICITY'].isin(df['ETHNICITY'].value_counts().nlargest(5).index.tolist())] = 'OTHER/UNKNOWN'\n",
    "\n",
    "    # Reduce categories to terms of religious or not\n",
    "    df['RELIGION'].loc[~df['RELIGION'].isin(['NOT SPECIFIED', 'UNOBTAINABLE'])] = 'RELIGIOUS'\n",
    "\n",
    "    # Re-categorize NaNs into 'Unknown'\n",
    "    df['MARITAL_STATUS'] = df['MARITAL_STATUS'].fillna('UNKNOWN (DEFAULT)')\n",
    "    \n",
    "    if verbose: \n",
    "        print('(2/5) Completed ADMISSIONS.csv cleanup and feature engineering.')\n",
    "        \n",
    "    # Feature Engineering for ICD9 code categories\n",
    "    # Filter out E and V codes since processing will be done on the numeric first 3 values\n",
    "    df_diagcode['recode'] = df_diagcode['ICD9_CODE']\n",
    "    df_diagcode['recode'] = df_diagcode['recode'][~df_diagcode['recode'].str.contains(\"[a-zA-Z]\").fillna(False)]\n",
    "    df_diagcode['recode'].fillna(value='999', inplace=True)\n",
    "    df_diagcode['recode'] = df_diagcode['recode'].str.slice(start=0, stop=3, step=1)\n",
    "    df_diagcode['recode'] = df_diagcode['recode'].astype(int)\n",
    "    \n",
    "    # ICD-9 Main Category ranges\n",
    "    icd9_ranges = [(1, 140), (140, 240), (240, 280), (280, 290), (290, 320), (320, 390), \n",
    "                   (390, 460), (460, 520), (520, 580), (580, 630), (630, 680), (680, 710),\n",
    "                   (710, 740), (740, 760), (760, 780), (780, 800), (800, 1000), (1000, 2000)]\n",
    "\n",
    "    # Associated category names\n",
    "    diag_dict = {0: 'infectious', 1: 'neoplasms', 2: 'endocrine', 3: 'blood',\n",
    "                 4: 'mental', 5: 'nervous', 6: 'circulatory', 7: 'respiratory',\n",
    "                 8: 'digestive', 9: 'genitourinary', 10: 'pregnancy', 11: 'skin', \n",
    "                 12: 'muscular', 13: 'congenital', 14: 'prenatal', 15: 'misc',\n",
    "                 16: 'injury', 17: 'misc'}\n",
    "\n",
    "    # Re-code in terms of integer\n",
    "    for num, cat_range in enumerate(icd9_ranges):\n",
    "        df_diagcode['recode'] = np.where(df_diagcode['recode'].between(cat_range[0],cat_range[1]), \n",
    "                num, df_diagcode['recode'])\n",
    "\n",
    "    # Convert integer to category name using diag_dict\n",
    "    df_diagcode['recode'] = df_diagcode['recode']\n",
    "    df_diagcode['cat'] = df_diagcode['recode'].replace(diag_dict)\n",
    "    \n",
    "    # Create list of diagnoses for each admission\n",
    "    hadm_list = df_diagcode.groupby('HADM_ID')['cat'].apply(list).reset_index()\n",
    "    \n",
    "    # Convert diagnoses list into hospital admission-item matrix\n",
    "    hadm_item = pd.get_dummies(hadm_list['cat'].apply(pd.Series).stack()).sum(level=0)\n",
    "    \n",
    "    # Join back with HADM_ID, will merge with main admissions DF later\n",
    "    hadm_item = hadm_item.join(hadm_list['HADM_ID'], how=\"outer\")\n",
    "\n",
    "    # Merge with main admissions df\n",
    "    df = df.merge(hadm_item, how='inner', on='HADM_ID')\n",
    "    \n",
    "    if verbose: \n",
    "        print('(3/5) Completed DIAGNOSES_ICD.csv cleanup and feature engineering.')\n",
    "    \n",
    "    # Feature Engineering for Age and Gender\n",
    "    # Convert to datetime type\n",
    "    df_pat['DOB'] = pd.to_datetime(df_pat['DOB'])\n",
    "    df_pat = df_pat[['SUBJECT_ID', 'DOB', 'GENDER']]\n",
    "    df = df.merge(df_pat, how='inner', on='SUBJECT_ID')\n",
    "    \n",
    "    # Find the first admission time for each patient\n",
    "    df_age_min = df[['SUBJECT_ID', 'ADMITTIME']].groupby('SUBJECT_ID').min().reset_index()\n",
    "    df_age_min.columns = ['SUBJECT_ID', 'ADMIT_MIN']\n",
    "    df = df.merge(df_age_min, how='outer', on='SUBJECT_ID')\n",
    "    \n",
    "    # Age is decode by finding the difference in admission date and date of birth\n",
    "    #df['age'] = (df['ADMIT_MIN'] - df['DOB']).dt.days // 365\n",
    "    #df['age'] = np.where(df['age'] > 100, 100, df['age'])\n",
    "    \n",
    "    df['age'] = df['ADMITTIME'].dt.year-df['DOB'].dt.year\n",
    "    df['age'] = np.where(df['age'] > 100, 100, df['age'])\n",
    "    \n",
    "    # Create age categories\n",
    "    age_ranges = [(0, 13), (13, 36), (36, 56), (56, 100)]\n",
    "    for num, cat_range in enumerate(age_ranges):\n",
    "        df['age'] = np.where(df['age'].between(cat_range[0],cat_range[1]), \n",
    "                num, df['age'])\n",
    "    age_dict = {0: 'newborn', 1: 'young_adult', 2: 'middle_adult', 3: 'senior'}\n",
    "    df['age'] = df['age'].replace(age_dict)\n",
    "    \n",
    "    # Re-map Gender to boolean type\n",
    "    df['GENDER'].replace({'M': 0, 'F':1}, inplace=True)\n",
    "    \n",
    "    if verbose: \n",
    "        print('(4/5) Completed PATIENT.csv cleanup and feature engineering.')\n",
    "    \n",
    "    # Feature engineering for Intensive Care Unit (ICU) category\n",
    "    # Reduce ICU categories to just ICU or NICU\n",
    "    df_icu['FIRST_CAREUNIT'].replace({'CCU': 'ICU', 'CSRU': 'ICU', 'MICU': 'ICU',\n",
    "                                  'SICU': 'ICU', 'TSICU': 'ICU'}, inplace=True)\n",
    "    df_icu['cat'] = df_icu['FIRST_CAREUNIT']\n",
    "    icu_list = df_icu.groupby('HADM_ID')['cat'].apply(list).reset_index()\n",
    "    icu_item = pd.get_dummies(icu_list['cat'].apply(pd.Series).stack()).sum(level=0)\n",
    "    icu_item[icu_item >= 1] = 1\n",
    "    icu_item = icu_item.join(icu_list['HADM_ID'], how=\"outer\")\n",
    "    df = df.merge(icu_item, how='outer', on='HADM_ID')\n",
    "    \n",
    "    # Cleanup NaNs\n",
    "    df['ICU'].fillna(value=0, inplace=True)\n",
    "    df['NICU'].fillna(value=0, inplace=True)\n",
    "    \n",
    "    if verbose: \n",
    "        print('(5/5) Completed ICUSTAYS.csv cleanup and feature engineering.')\n",
    "        \n",
    "    # Remove deceased persons as they will skew LOS result\n",
    "    df = df[df['DECEASED'] == 0]\n",
    "\n",
    "    # Remove LOS with negative number, likely entry form error\n",
    "    df = df[df['LOS'] > 0]    \n",
    "    \n",
    "    # Drop unused columns, e.g. not used to predict LOS\n",
    "    df.drop(columns=['SUBJECT_ID', 'HADM_ID', 'ADMITTIME', 'ADMISSION_LOCATION',\n",
    "                'DISCHARGE_LOCATION', 'LANGUAGE', 'ADMIT_MIN', 'DOB',\n",
    "                'DIAGNOSIS', 'DECEASED', 'DEATHTIME'], inplace=True)\n",
    "    \n",
    "    prefix_cols = ['ADM', 'INS', 'REL', 'ETH','AGE', 'MAR']\n",
    "    dummy_cols = ['ADMISSION_TYPE', 'INSURANCE', 'RELIGION',\n",
    "                 'ETHNICITY','age','MARITAL_STATUS']\n",
    "    df = pd.get_dummies(df, prefix=prefix_cols, columns=dummy_cols)\n",
    "    \n",
    "    if verbose: \n",
    "        print('Data Preprocessing complete.')\n",
    "    \n",
    "    return df, actual_median_los, actual_mean_los\n",
    "\n",
    "df_clean, actual_median_los, actual_mean_los = mimic_los_cleanup(adm_csv='input_data/ADMISSIONS.csv', \n",
    "                                                                 patients_csv='input_data/PATIENTS.csv',\n",
    "                                                                 diagcode_csv='input_data/DIAGNOSES_ICD.csv', \n",
    "                                                                 icu_csv='input_data/ICUSTAYS.csv')\n"
   ]
  },
  {
   "cell_type": "code",
   "execution_count": 81,
   "metadata": {},
   "outputs": [],
   "source": [
    "df_clean.to_csv(\"clean_data/clean_data.csv\",  encoding='utf-8', header='true')"
   ]
  },
  {
   "cell_type": "code",
   "execution_count": 82,
   "metadata": {},
   "outputs": [
    {
     "name": "stdout",
     "output_type": "stream",
     "text": [
      "actual_median_los:  6.5628472222222225\n",
      "actual_mean_los:  10.134654296817752\n"
     ]
    }
   ],
   "source": [
    "print('actual_median_los: ',actual_median_los)\n",
    "print('actual_mean_los: ', actual_mean_los)"
   ]
  },
  {
   "cell_type": "code",
   "execution_count": 83,
   "metadata": {},
   "outputs": [
    {
     "name": "stdout",
     "output_type": "stream",
     "text": [
      "<class 'pandas.core.frame.DataFrame'>\n",
      "Int64Index: 53104 entries, 0 to 58975\n",
      "Data columns (total 49 columns):\n",
      " #   Column                      Non-Null Count  Dtype  \n",
      "---  ------                      --------------  -----  \n",
      " 0   LOS                         53104 non-null  float64\n",
      " 1   blood                       53104 non-null  uint8  \n",
      " 2   circulatory                 53104 non-null  uint8  \n",
      " 3   congenital                  53104 non-null  uint8  \n",
      " 4   digestive                   53104 non-null  uint8  \n",
      " 5   endocrine                   53104 non-null  uint8  \n",
      " 6   genitourinary               53104 non-null  uint8  \n",
      " 7   infectious                  53104 non-null  uint8  \n",
      " 8   injury                      53104 non-null  uint8  \n",
      " 9   mental                      53104 non-null  uint8  \n",
      " 10  misc                        53104 non-null  uint8  \n",
      " 11  muscular                    53104 non-null  uint8  \n",
      " 12  neoplasms                   53104 non-null  uint8  \n",
      " 13  nervous                     53104 non-null  uint8  \n",
      " 14  pregnancy                   53104 non-null  uint8  \n",
      " 15  prenatal                    53104 non-null  uint8  \n",
      " 16  respiratory                 53104 non-null  uint8  \n",
      " 17  skin                        53104 non-null  uint8  \n",
      " 18  GENDER                      53104 non-null  int64  \n",
      " 19  ICU                         53104 non-null  float64\n",
      " 20  NICU                        53104 non-null  float64\n",
      " 21  ADM_ELECTIVE                53104 non-null  uint8  \n",
      " 22  ADM_EMERGENCY               53104 non-null  uint8  \n",
      " 23  ADM_NEWBORN                 53104 non-null  uint8  \n",
      " 24  ADM_URGENT                  53104 non-null  uint8  \n",
      " 25  INS_Government              53104 non-null  uint8  \n",
      " 26  INS_Medicaid                53104 non-null  uint8  \n",
      " 27  INS_Medicare                53104 non-null  uint8  \n",
      " 28  INS_Private                 53104 non-null  uint8  \n",
      " 29  INS_Self Pay                53104 non-null  uint8  \n",
      " 30  REL_NOT SPECIFIED           53104 non-null  uint8  \n",
      " 31  REL_RELIGIOUS               53104 non-null  uint8  \n",
      " 32  REL_UNOBTAINABLE            53104 non-null  uint8  \n",
      " 33  ETH_ASIAN                   53104 non-null  uint8  \n",
      " 34  ETH_BLACK/AFRICAN AMERICAN  53104 non-null  uint8  \n",
      " 35  ETH_HISPANIC/LATINO         53104 non-null  uint8  \n",
      " 36  ETH_OTHER/UNKNOWN           53104 non-null  uint8  \n",
      " 37  ETH_WHITE                   53104 non-null  uint8  \n",
      " 38  AGE_middle_adult            53104 non-null  uint8  \n",
      " 39  AGE_newborn                 53104 non-null  uint8  \n",
      " 40  AGE_senior                  53104 non-null  uint8  \n",
      " 41  AGE_young_adult             53104 non-null  uint8  \n",
      " 42  MAR_DIVORCED                53104 non-null  uint8  \n",
      " 43  MAR_LIFE PARTNER            53104 non-null  uint8  \n",
      " 44  MAR_MARRIED                 53104 non-null  uint8  \n",
      " 45  MAR_SEPARATED               53104 non-null  uint8  \n",
      " 46  MAR_SINGLE                  53104 non-null  uint8  \n",
      " 47  MAR_UNKNOWN (DEFAULT)       53104 non-null  uint8  \n",
      " 48  MAR_WIDOWED                 53104 non-null  uint8  \n",
      "dtypes: float64(3), int64(1), uint8(45)\n",
      "memory usage: 4.3 MB\n"
     ]
    }
   ],
   "source": [
    "df_clean.info(verbose=1)"
   ]
  },
  {
   "cell_type": "code",
   "execution_count": 84,
   "metadata": {},
   "outputs": [
    {
     "data": {
      "text/plain": [
       "0"
      ]
     },
     "execution_count": 84,
     "metadata": {},
     "output_type": "execute_result"
    }
   ],
   "source": [
    "# Check for any remaining NaNs\n",
    "df_clean.isnull().values.sum()"
   ]
  }
 ],
 "metadata": {
  "kernelspec": {
   "display_name": "Python 3",
   "language": "python",
   "name": "python3"
  },
  "language_info": {
   "codemirror_mode": {
    "name": "ipython",
    "version": 3
   },
   "file_extension": ".py",
   "mimetype": "text/x-python",
   "name": "python",
   "nbconvert_exporter": "python",
   "pygments_lexer": "ipython3",
   "version": "3.8.5"
  },
  "toc": {
   "base_numbering": 1,
   "nav_menu": {},
   "number_sections": true,
   "sideBar": true,
   "skip_h1_title": true,
   "title_cell": "Table of Contents",
   "title_sidebar": "Contents",
   "toc_cell": true,
   "toc_position": {
    "height": "671.804px",
    "left": "477px",
    "top": "408.284px",
    "width": "349.091px"
   },
   "toc_section_display": true,
   "toc_window_display": true
  }
 },
 "nbformat": 4,
 "nbformat_minor": 4
}
