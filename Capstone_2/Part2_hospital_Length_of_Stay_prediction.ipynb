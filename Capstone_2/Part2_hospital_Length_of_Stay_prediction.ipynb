{
 "cells": [
  {
   "cell_type": "markdown",
   "metadata": {},
   "source": [
    "# Predicting Length-of-Stay at time of Hospital admission"
   ]
  },
  {
   "cell_type": "markdown",
   "metadata": {},
   "source": [
    "In this section I'll walkthrough the implementation and selection of the supervised learning prediction model using the Scikit-Learn machine learning library."
   ]
  },
  {
   "cell_type": "code",
   "execution_count": 1,
   "metadata": {},
   "outputs": [],
   "source": [
    "# Imports\n",
    "import pandas as pd\n",
    "import numpy as np\n",
    "import matplotlib.pyplot as plt\n",
    "import seaborn as sns\n",
    "from sklearn.model_selection import train_test_split\n",
    "from sklearn.metrics import r2_score, mean_squared_error\n",
    "from sklearn.preprocessing import MinMaxScaler\n",
    "from sklearn.neighbors import KNeighborsRegressor\n",
    "from sklearn.linear_model import LinearRegression\n",
    "from sklearn.svm import SVR\n",
    "from sklearn.ensemble import RandomForestRegressor\n",
    "from sklearn.tree import DecisionTreeRegressor\n",
    "from scipy.stats import pearsonr\n",
    "from sklearn.ensemble import GradientBoostingRegressor\n",
    "from sklearn.linear_model import SGDRegressor\n",
    "import statsmodels.api as sm\n",
    "from sklearn.model_selection import GridSearchCV\n",
    "import seaborn as sns\n"
   ]
  },
  {
   "cell_type": "code",
   "execution_count": 2,
   "metadata": {},
   "outputs": [
    {
     "data": {
      "text/plain": [
       "<Figure size 1008x504 with 0 Axes>"
      ]
     },
     "metadata": {},
     "output_type": "display_data"
    }
   ],
   "source": [
    "plt.figure(figsize=(14,7)) # Make it 14x7 inch\n",
    "plt.style.use('seaborn-whitegrid') # nice and clean grid"
   ]
  },
  {
   "cell_type": "markdown",
   "metadata": {},
   "source": [
    "The mimic_los_cleanup performs all of the above data cleanup and feature engineering steps."
   ]
  },
  {
   "cell_type": "code",
   "execution_count": 3,
   "metadata": {},
   "outputs": [],
   "source": [
    "df_clean=pd.read_csv(\"clean_data/clean_data.csv\")  \n",
    "# Remove column name 'age'\n",
    "#df_clean.drop(['age'], axis = 1)"
   ]
  },
  {
   "cell_type": "code",
   "execution_count": 4,
   "metadata": {},
   "outputs": [],
   "source": [
    "actual_median_los=6.5628472222222225\n",
    "actual_mean_los=10.134654296817752\n"
   ]
  },
  {
   "cell_type": "code",
   "execution_count": 5,
   "metadata": {},
   "outputs": [],
   "source": [
    "df_clean = df_clean.iloc[: , 1:]"
   ]
  },
  {
   "cell_type": "code",
   "execution_count": 6,
   "metadata": {},
   "outputs": [
    {
     "name": "stdout",
     "output_type": "stream",
     "text": [
      "<class 'pandas.core.frame.DataFrame'>\n",
      "RangeIndex: 53104 entries, 0 to 53103\n",
      "Data columns (total 61 columns):\n",
      " #   Column                      Non-Null Count  Dtype  \n",
      "---  ------                      --------------  -----  \n",
      " 0   LOS                         53104 non-null  float64\n",
      " 1   blood                       53104 non-null  int64  \n",
      " 2   circulatory                 53104 non-null  int64  \n",
      " 3   congenital                  53104 non-null  int64  \n",
      " 4   digestive                   53104 non-null  int64  \n",
      " 5   endocrine                   53104 non-null  int64  \n",
      " 6   genitourinary               53104 non-null  int64  \n",
      " 7   infectious                  53104 non-null  int64  \n",
      " 8   injury                      53104 non-null  int64  \n",
      " 9   mental                      53104 non-null  int64  \n",
      " 10  misc                        53104 non-null  int64  \n",
      " 11  muscular                    53104 non-null  int64  \n",
      " 12  neoplasms                   53104 non-null  int64  \n",
      " 13  nervous                     53104 non-null  int64  \n",
      " 14  pregnancy                   53104 non-null  int64  \n",
      " 15  prenatal                    53104 non-null  int64  \n",
      " 16  respiratory                 53104 non-null  int64  \n",
      " 17  skin                        53104 non-null  int64  \n",
      " 18  GENDER                      53104 non-null  int64  \n",
      " 19  ICU                         53104 non-null  float64\n",
      " 20  NICU                        53104 non-null  float64\n",
      " 21  ADM_ELECTIVE                53104 non-null  int64  \n",
      " 22  ADM_EMERGENCY               53104 non-null  int64  \n",
      " 23  ADM_NEWBORN                 53104 non-null  int64  \n",
      " 24  ADM_URGENT                  53104 non-null  int64  \n",
      " 25  INS_Government              53104 non-null  int64  \n",
      " 26  INS_Medicaid                53104 non-null  int64  \n",
      " 27  INS_Medicare                53104 non-null  int64  \n",
      " 28  INS_Private                 53104 non-null  int64  \n",
      " 29  INS_Self Pay                53104 non-null  int64  \n",
      " 30  REL_NOT SPECIFIED           53104 non-null  int64  \n",
      " 31  REL_RELIGIOUS               53104 non-null  int64  \n",
      " 32  REL_UNOBTAINABLE            53104 non-null  int64  \n",
      " 33  ETH_ASIAN                   53104 non-null  int64  \n",
      " 34  ETH_BLACK/AFRICAN AMERICAN  53104 non-null  int64  \n",
      " 35  ETH_HISPANIC/LATINO         53104 non-null  int64  \n",
      " 36  ETH_OTHER/UNKNOWN           53104 non-null  int64  \n",
      " 37  ETH_WHITE                   53104 non-null  int64  \n",
      " 38  AGE_300                     53104 non-null  int64  \n",
      " 39  AGE_301                     53104 non-null  int64  \n",
      " 40  AGE_302                     53104 non-null  int64  \n",
      " 41  AGE_303                     53104 non-null  int64  \n",
      " 42  AGE_304                     53104 non-null  int64  \n",
      " 43  AGE_305                     53104 non-null  int64  \n",
      " 44  AGE_306                     53104 non-null  int64  \n",
      " 45  AGE_307                     53104 non-null  int64  \n",
      " 46  AGE_308                     53104 non-null  int64  \n",
      " 47  AGE_309                     53104 non-null  int64  \n",
      " 48  AGE_310                     53104 non-null  int64  \n",
      " 49  AGE_311                     53104 non-null  int64  \n",
      " 50  AGE_middle_adult            53104 non-null  int64  \n",
      " 51  AGE_newborn                 53104 non-null  int64  \n",
      " 52  AGE_senior                  53104 non-null  int64  \n",
      " 53  AGE_young_adult             53104 non-null  int64  \n",
      " 54  MAR_DIVORCED                53104 non-null  int64  \n",
      " 55  MAR_LIFE PARTNER            53104 non-null  int64  \n",
      " 56  MAR_MARRIED                 53104 non-null  int64  \n",
      " 57  MAR_SEPARATED               53104 non-null  int64  \n",
      " 58  MAR_SINGLE                  53104 non-null  int64  \n",
      " 59  MAR_UNKNOWN (DEFAULT)       53104 non-null  int64  \n",
      " 60  MAR_WIDOWED                 53104 non-null  int64  \n",
      "dtypes: float64(3), int64(58)\n",
      "memory usage: 24.7 MB\n"
     ]
    }
   ],
   "source": [
    "df_clean.info(verbose=1)"
   ]
  },
  {
   "cell_type": "code",
   "execution_count": 7,
   "metadata": {},
   "outputs": [
    {
     "data": {
      "text/plain": [
       "0"
      ]
     },
     "execution_count": 7,
     "metadata": {},
     "output_type": "execute_result"
    }
   ],
   "source": [
    "# Check for any remaining NaNs\n",
    "df_clean.isnull().values.sum()"
   ]
  },
  {
   "cell_type": "markdown",
   "metadata": {},
   "source": [
    "# Length-of-Stay Prediction Model"
   ]
  },
  {
   "cell_type": "markdown",
   "metadata": {},
   "source": [
    "## Model Implementation"
   ]
  },
  {
   "cell_type": "markdown",
   "metadata": {},
   "source": [
    "To implement the prediction model, I split the LOS target variable and features into training and test sets at an 80:20 ratio using the scikit-learn train_test_split function. Using the training set, I'll fit five different regression models (from the scikit-learn library) using default settings to see what the R2 score comparison looked like."
   ]
  },
  {
   "cell_type": "code",
   "execution_count": 8,
   "metadata": {},
   "outputs": [],
   "source": [
    "# Target Variable (Length-of-Stay)\n",
    "LOS = df_clean['LOS']\n",
    "# Prediction Features\n",
    "features = df_clean.drop(columns=['LOS'])"
   ]
  },
  {
   "cell_type": "code",
   "execution_count": 9,
   "metadata": {},
   "outputs": [
    {
     "name": "stdout",
     "output_type": "stream",
     "text": [
      "Training set has 42483 samples.\n",
      "Testing set has 10621 samples.\n"
     ]
    }
   ],
   "source": [
    "# Split into train 80% and test 20%\n",
    "X_train, X_test, y_train, y_test = train_test_split(features, \n",
    "                                                    LOS, \n",
    "                                                    test_size = .20, \n",
    "                                                    random_state = 0)\n",
    "\n",
    "# Show the results of the split\n",
    "print(\"Training set has {} samples.\".format(X_train.shape[0]))\n",
    "print(\"Testing set has {} samples.\".format(X_test.shape[0]))"
   ]
  },
  {
   "cell_type": "code",
   "execution_count": 10,
   "metadata": {},
   "outputs": [
    {
     "name": "stdout",
     "output_type": "stream",
     "text": [
      "SGDRegressor done.\n",
      "GradientBoostingRegressor done.\n",
      "LinearRegression done.\n",
      "KNeighborsRegressor done.\n",
      "RandomForestRegressor done.\n"
     ]
    }
   ],
   "source": [
    "# Regression models for comparison\n",
    "models = [SGDRegressor(random_state = 0), \n",
    "          GradientBoostingRegressor(random_state = 0), \n",
    "          LinearRegression(),\n",
    "          KNeighborsRegressor(),\n",
    "          RandomForestRegressor(random_state = 0)]\n",
    "\n",
    "results = {}\n",
    "\n",
    "for model in models:\n",
    "    \n",
    "    # Instantiate and fit Regressor Model\n",
    "    reg_model = model\n",
    "    reg_model.fit(X_train, y_train)\n",
    "    \n",
    "    # Make predictions with model\n",
    "    y_test_preds = reg_model.predict(X_test)\n",
    "    \n",
    "    # Grab model name and store results associated with model\n",
    "    name = str(model).split(\"(\")[0]\n",
    "\n",
    "    results[name] = r2_score(y_test, y_test_preds)\n",
    "    print('{} done.'.format(name))"
   ]
  },
  {
   "cell_type": "code",
   "execution_count": 11,
   "metadata": {},
   "outputs": [
    {
     "data": {
      "image/png": "[encoded data removed]",
      "text/plain": [
       "<Figure size 432x288 with 1 Axes>"
      ]
     },
     "metadata": {},
     "output_type": "display_data"
    }
   ],
   "source": [
    "# R2 score results\n",
    "\n",
    "plt.style.use('seaborn-whitegrid')\n",
    "fig, ax = plt.subplots()\n",
    "\n",
    "\n",
    "ind = range(len(results))\n",
    "ax.barh(ind, list(results.values()), align='center', color = '#55a868', alpha=0.8)\n",
    "ax.set_yticks(ind)\n",
    "ax.set_yticklabels(results.keys())\n",
    "ax.set_xlabel('R-squared score')\n",
    "ax.tick_params(left=False, top=False, right=False) \n",
    "ax.set_title('Comparison of Regression Models')\n",
    "fig.savefig('images/compare_models.png', bbox_inches = 'tight')"
   ]
  },
  {
   "cell_type": "markdown",
   "metadata": {},
   "source": [
    "The GradientBoostingRegressor took the win with an R2 score of ~36% so I decided to focus on refining this particular model. "
   ]
  },
  {
   "cell_type": "code",
   "execution_count": 12,
   "metadata": {},
   "outputs": [
    {
     "name": "stdout",
     "output_type": "stream",
     "text": [
      "R2 score is: 0.357191\n"
     ]
    }
   ],
   "source": [
    "# GradientBoostingRegressor will be used as the LOS prediction model\n",
    "reg_model = GradientBoostingRegressor(random_state=0)   \n",
    "reg_model.fit(X_train, y_train)\n",
    "y_test_preds = reg_model.predict(X_test)\n",
    "r2_not_refined = r2_score(y_test, y_test_preds)\n",
    "print(\"R2 score is: {:2f}\".format(r2_not_refined))"
   ]
  },
  {
   "cell_type": "markdown",
   "metadata": {},
   "source": [
    "##  Model Refinement"
   ]
  },
  {
   "cell_type": "markdown",
   "metadata": {},
   "source": [
    "The GradientBoostingRegressor performed well versus the other regression model. To refine the GradientBoostingRegressor model, I used the GridSearchCV function from scikit-learn to test out various permutations of parameters such as n_estimators, max_depth, and loss. The best estimator result from GridSearchCV was n_estimators=200, max_depth=4, and loss=l"
   ]
  },
  {
   "cell_type": "code",
   "execution_count": 13,
   "metadata": {},
   "outputs": [
    {
     "name": "stdout",
     "output_type": "stream",
     "text": [
      "0.4116283380149476\n",
      "GradientBoostingRegressor(n_estimators=300)\n"
     ]
    }
   ],
   "source": [
    "# Split into train 80% and test 20%\n",
    "X_train, X_test, y_train, y_test = train_test_split(features, \n",
    "                                                    LOS, \n",
    "                                                    test_size = .20, \n",
    "                                                    random_state = 42)\n",
    "\n",
    "#Set the parameters by cross-validation\n",
    "#tuned_parameters = [{'n_estimators': [100, 200, 300],\n",
    "#                     'max_depth' : [2, 3, 4, None],\n",
    "#                     'loss': ['ls', 'lad', 'huber']}]\n",
    "    \n",
    "tuned_parameters = [{'n_estimators': [200, 300],\n",
    "                     'max_depth' : [3, 4],\n",
    "                     'loss': ['ls', 'lad']}]\n",
    "   \n",
    "\n",
    "\n",
    "# create and fit a ridge regression model, testing each alpha\n",
    "reg_model = GradientBoostingRegressor()  \n",
    "grid = GridSearchCV(reg_model, tuned_parameters)\n",
    "grid.fit(X_train, y_train)\n",
    "reg_model_optimized = grid.best_estimator_\n",
    "\n",
    "# summarize the results of the grid search\n",
    "print(grid.best_score_)\n",
    "print(grid.best_estimator_)"
   ]
  },
  {
   "cell_type": "code",
   "execution_count": 14,
   "metadata": {},
   "outputs": [
    {
     "name": "stdout",
     "output_type": "stream",
     "text": [
      "Optimized R2 score is: 0.376913\n"
     ]
    }
   ],
   "source": [
    "#reg_model = GradientBoostingRegressor(n_estimators = 200, max_depth=4, random_state=0)   \n",
    "#reg_model.fit(X_train, y_train)\n",
    "y_test_preds = reg_model_optimized.predict(X_test)\n",
    "r2_optimized = r2_score(y_test, y_test_preds)\n",
    "print(\"Optimized R2 score is: {:2f}\".format(r2_optimized))"
   ]
  },
  {
   "cell_type": "code",
   "execution_count": 15,
   "metadata": {},
   "outputs": [
    {
     "name": "stdout",
     "output_type": "stream",
     "text": [
      "Model refinement improved R2 score by 0.0197\n"
     ]
    }
   ],
   "source": [
    "print('Model refinement improved R2 score by {:.4f}'.format(r2_optimized-r2_not_refined))"
   ]
  },
  {
   "cell_type": "markdown",
   "metadata": {},
   "source": [
    "# Results"
   ]
  },
  {
   "cell_type": "code",
   "execution_count": 16,
   "metadata": {},
   "outputs": [],
   "source": [
    "# https://towardsdatascience.com/running-random-forests-inspect-the-feature-importances-with-this-code-2b00dd72b92e\n",
    "feature_imp = pd.DataFrame(reg_model_optimized.feature_importances_,\n",
    "                                   index = X_train.columns,\n",
    "                                   columns=['importance']).sort_values('importance', ascending=False)\n",
    "\n",
    "#feature_imp.head(20)"
   ]
  },
  {
   "cell_type": "code",
   "execution_count": 17,
   "metadata": {},
   "outputs": [
    {
     "data": {
      "text/plain": [
       "['prenatal',\n",
       " 'respiratory',\n",
       " 'infectious',\n",
       " 'nervous',\n",
       " 'digestive',\n",
       " 'injury',\n",
       " 'skin',\n",
       " 'congenital',\n",
       " 'genitourinary',\n",
       " 'circulatory']"
      ]
     },
     "execution_count": 17,
     "metadata": {},
     "output_type": "execute_result"
    }
   ],
   "source": [
    "feature_imp.index[0:10].tolist()"
   ]
  },
  {
   "cell_type": "markdown",
   "metadata": {},
   "source": [
    "##  Feature Importance"
   ]
  },
  {
   "cell_type": "code",
   "execution_count": 18,
   "metadata": {},
   "outputs": [
    {
     "data": {
      "image/png": "[encoded data removed]",
      "text/plain": [
       "<Figure size 720x360 with 1 Axes>"
      ]
     },
     "metadata": {},
     "output_type": "display_data"
    }
   ],
   "source": [
    "# Plot feature importance\n",
    "fig, ax = plt.subplots(figsize=(10, 5))\n",
    "\n",
    "plt.style.use('seaborn-whitegrid')\n",
    "ind = range(0,10)\n",
    "ax.barh(ind, feature_imp['importance'].values[0:10], \n",
    "        align='center', color='#c44e52', alpha=0.9)\n",
    "ax.set_yticks(ind)\n",
    "ax.set_yticklabels(feature_imp.index[0:10].tolist())\n",
    "ax.tick_params(left=False, top=False, right=False) \n",
    "ax.set_title(\"Top 10 features for predicting LOS\")\n",
    "ax.set_xlabel('Feature Importance Coefficient \\n(GradientBoostingRegressor)')\n",
    "plt.gca().invert_yaxis()\n",
    "fig.savefig('images/feature_importance.png', bbox_inches = 'tight')"
   ]
  },
  {
   "cell_type": "code",
   "execution_count": 19,
   "metadata": {},
   "outputs": [],
   "source": [
    "#LOS1= pd.DataFrame(df_clean['LOS'],columns=['LOS']).sort_values('LOS', ascending=False)\n",
    "#LOS_a=LOS1['LOS'].values\n",
    "#LOS_a.tolist()"
   ]
  },
  {
   "cell_type": "code",
   "execution_count": 20,
   "metadata": {},
   "outputs": [],
   "source": [
    "LOS_a1 = pd.DataFrame(reg_model_optimized.feature_importances_,\n",
    "                                   index = X_train.columns,\n",
    "                                   columns=['LOS']).sort_values('LOS', ascending=False)\n",
    "LOS_p1 = pd.DataFrame(reg_model_optimized.feature_importances_,\n",
    "                                   index = X_test.columns,\n",
    "                                   columns=['LOS']).sort_values('LOS', ascending=False)\n",
    "LOS_a2=LOS_a1['LOS'].mean\n",
    "LOS_p2=LOS_p1['LOS'].mean"
   ]
  },
  {
   "cell_type": "code",
   "execution_count": null,
   "metadata": {},
   "outputs": [],
   "source": []
  },
  {
   "cell_type": "code",
   "execution_count": 21,
   "metadata": {},
   "outputs": [],
   "source": [
    "#LOS_a2.tolist()"
   ]
  },
  {
   "cell_type": "code",
   "execution_count": 22,
   "metadata": {},
   "outputs": [],
   "source": [
    "#LOS_p2.tolist()"
   ]
  },
  {
   "cell_type": "code",
   "execution_count": 23,
   "metadata": {},
   "outputs": [],
   "source": [
    "# LoS_Predictions\tTesting set with the predicted dates of the two trained models for discharge \n",
    "# LoS\t Analytical data set: cleaned data with new features\n",
    "\n",
    "#LOS_actual=LOS_a2 #.tolist()\n",
    "#LOS_predict=LOS_p2 #.tolist()"
   ]
  },
  {
   "cell_type": "code",
   "execution_count": 24,
   "metadata": {},
   "outputs": [
    {
     "ename": "NotFittedError",
     "evalue": "This GradientBoostingRegressor instance is not fitted yet. Call 'fit' with appropriate arguments before using this estimator.",
     "output_type": "error",
     "traceback": [
      "\u001b[1;31m---------------------------------------------------------------------------\u001b[0m",
      "\u001b[1;31mNotFittedError\u001b[0m                            Traceback (most recent call last)",
      "\u001b[1;32m<ipython-input-24-351d20481a9a>\u001b[0m in \u001b[0;36m<module>\u001b[1;34m\u001b[0m\n\u001b[1;32m----> 1\u001b[1;33m \u001b[0my_test_preds\u001b[0m \u001b[1;33m=\u001b[0m \u001b[0mreg_model\u001b[0m\u001b[1;33m.\u001b[0m\u001b[0mpredict\u001b[0m\u001b[1;33m(\u001b[0m\u001b[0mX_test\u001b[0m\u001b[1;33m)\u001b[0m\u001b[1;33m\u001b[0m\u001b[1;33m\u001b[0m\u001b[0m\n\u001b[0m\u001b[0;32m      2\u001b[0m \u001b[1;33m\u001b[0m\u001b[0m\n\u001b[0;32m      3\u001b[0m \u001b[0mml_count\u001b[0m\u001b[1;33m,\u001b[0m \u001b[0mmd_count\u001b[0m\u001b[1;33m,\u001b[0m \u001b[0mavg_count\u001b[0m  \u001b[1;33m=\u001b[0m \u001b[1;36m0\u001b[0m\u001b[1;33m,\u001b[0m \u001b[1;36m0\u001b[0m\u001b[1;33m,\u001b[0m \u001b[1;36m0\u001b[0m\u001b[1;33m\u001b[0m\u001b[1;33m\u001b[0m\u001b[0m\n\u001b[0;32m      4\u001b[0m \u001b[0mml_days\u001b[0m\u001b[1;33m,\u001b[0m \u001b[0mmd_days\u001b[0m\u001b[1;33m,\u001b[0m \u001b[0mavg_days\u001b[0m  \u001b[1;33m=\u001b[0m \u001b[1;36m0\u001b[0m\u001b[1;33m,\u001b[0m \u001b[1;36m0\u001b[0m\u001b[1;33m,\u001b[0m \u001b[1;36m0\u001b[0m\u001b[1;33m\u001b[0m\u001b[1;33m\u001b[0m\u001b[0m\n\u001b[0;32m      5\u001b[0m \u001b[0mml_days_rms\u001b[0m\u001b[1;33m,\u001b[0m \u001b[0mmd_days_rms\u001b[0m\u001b[1;33m,\u001b[0m \u001b[0mavg_days_rms\u001b[0m  \u001b[1;33m=\u001b[0m \u001b[1;36m0\u001b[0m\u001b[1;33m,\u001b[0m \u001b[1;36m0\u001b[0m\u001b[1;33m,\u001b[0m \u001b[1;36m0\u001b[0m\u001b[1;33m\u001b[0m\u001b[1;33m\u001b[0m\u001b[0m\n",
      "\u001b[1;32m~\\anaconda3\\lib\\site-packages\\sklearn\\ensemble\\_gb.py\u001b[0m in \u001b[0;36mpredict\u001b[1;34m(self, X)\u001b[0m\n\u001b[0;32m   1609\u001b[0m         \u001b[0mX\u001b[0m \u001b[1;33m=\u001b[0m \u001b[0mcheck_array\u001b[0m\u001b[1;33m(\u001b[0m\u001b[0mX\u001b[0m\u001b[1;33m,\u001b[0m \u001b[0mdtype\u001b[0m\u001b[1;33m=\u001b[0m\u001b[0mDTYPE\u001b[0m\u001b[1;33m,\u001b[0m \u001b[0morder\u001b[0m\u001b[1;33m=\u001b[0m\u001b[1;34m\"C\"\u001b[0m\u001b[1;33m,\u001b[0m \u001b[0maccept_sparse\u001b[0m\u001b[1;33m=\u001b[0m\u001b[1;34m'csr'\u001b[0m\u001b[1;33m)\u001b[0m\u001b[1;33m\u001b[0m\u001b[1;33m\u001b[0m\u001b[0m\n\u001b[0;32m   1610\u001b[0m         \u001b[1;31m# In regression we can directly return the raw value from the trees.\u001b[0m\u001b[1;33m\u001b[0m\u001b[1;33m\u001b[0m\u001b[1;33m\u001b[0m\u001b[0m\n\u001b[1;32m-> 1611\u001b[1;33m         \u001b[1;32mreturn\u001b[0m \u001b[0mself\u001b[0m\u001b[1;33m.\u001b[0m\u001b[0m_raw_predict\u001b[0m\u001b[1;33m(\u001b[0m\u001b[0mX\u001b[0m\u001b[1;33m)\u001b[0m\u001b[1;33m.\u001b[0m\u001b[0mravel\u001b[0m\u001b[1;33m(\u001b[0m\u001b[1;33m)\u001b[0m\u001b[1;33m\u001b[0m\u001b[1;33m\u001b[0m\u001b[0m\n\u001b[0m\u001b[0;32m   1612\u001b[0m \u001b[1;33m\u001b[0m\u001b[0m\n\u001b[0;32m   1613\u001b[0m     \u001b[1;32mdef\u001b[0m \u001b[0mstaged_predict\u001b[0m\u001b[1;33m(\u001b[0m\u001b[0mself\u001b[0m\u001b[1;33m,\u001b[0m \u001b[0mX\u001b[0m\u001b[1;33m)\u001b[0m\u001b[1;33m:\u001b[0m\u001b[1;33m\u001b[0m\u001b[1;33m\u001b[0m\u001b[0m\n",
      "\u001b[1;32m~\\anaconda3\\lib\\site-packages\\sklearn\\ensemble\\_gb.py\u001b[0m in \u001b[0;36m_raw_predict\u001b[1;34m(self, X)\u001b[0m\n\u001b[0;32m    616\u001b[0m     \u001b[1;32mdef\u001b[0m \u001b[0m_raw_predict\u001b[0m\u001b[1;33m(\u001b[0m\u001b[0mself\u001b[0m\u001b[1;33m,\u001b[0m \u001b[0mX\u001b[0m\u001b[1;33m)\u001b[0m\u001b[1;33m:\u001b[0m\u001b[1;33m\u001b[0m\u001b[1;33m\u001b[0m\u001b[0m\n\u001b[0;32m    617\u001b[0m         \u001b[1;34m\"\"\"Return the sum of the trees raw predictions (+ init estimator).\"\"\"\u001b[0m\u001b[1;33m\u001b[0m\u001b[1;33m\u001b[0m\u001b[0m\n\u001b[1;32m--> 618\u001b[1;33m         \u001b[0mraw_predictions\u001b[0m \u001b[1;33m=\u001b[0m \u001b[0mself\u001b[0m\u001b[1;33m.\u001b[0m\u001b[0m_raw_predict_init\u001b[0m\u001b[1;33m(\u001b[0m\u001b[0mX\u001b[0m\u001b[1;33m)\u001b[0m\u001b[1;33m\u001b[0m\u001b[1;33m\u001b[0m\u001b[0m\n\u001b[0m\u001b[0;32m    619\u001b[0m         predict_stages(self.estimators_, X, self.learning_rate,\n\u001b[0;32m    620\u001b[0m                        raw_predictions)\n",
      "\u001b[1;32m~\\anaconda3\\lib\\site-packages\\sklearn\\ensemble\\_gb.py\u001b[0m in \u001b[0;36m_raw_predict_init\u001b[1;34m(self, X)\u001b[0m\n\u001b[0;32m    601\u001b[0m     \u001b[1;32mdef\u001b[0m \u001b[0m_raw_predict_init\u001b[0m\u001b[1;33m(\u001b[0m\u001b[0mself\u001b[0m\u001b[1;33m,\u001b[0m \u001b[0mX\u001b[0m\u001b[1;33m)\u001b[0m\u001b[1;33m:\u001b[0m\u001b[1;33m\u001b[0m\u001b[1;33m\u001b[0m\u001b[0m\n\u001b[0;32m    602\u001b[0m         \u001b[1;34m\"\"\"Check input and compute raw predictions of the init estimator.\"\"\"\u001b[0m\u001b[1;33m\u001b[0m\u001b[1;33m\u001b[0m\u001b[0m\n\u001b[1;32m--> 603\u001b[1;33m         \u001b[0mself\u001b[0m\u001b[1;33m.\u001b[0m\u001b[0m_check_initialized\u001b[0m\u001b[1;33m(\u001b[0m\u001b[1;33m)\u001b[0m\u001b[1;33m\u001b[0m\u001b[1;33m\u001b[0m\u001b[0m\n\u001b[0m\u001b[0;32m    604\u001b[0m         \u001b[0mX\u001b[0m \u001b[1;33m=\u001b[0m \u001b[0mself\u001b[0m\u001b[1;33m.\u001b[0m\u001b[0mestimators_\u001b[0m\u001b[1;33m[\u001b[0m\u001b[1;36m0\u001b[0m\u001b[1;33m,\u001b[0m \u001b[1;36m0\u001b[0m\u001b[1;33m]\u001b[0m\u001b[1;33m.\u001b[0m\u001b[0m_validate_X_predict\u001b[0m\u001b[1;33m(\u001b[0m\u001b[0mX\u001b[0m\u001b[1;33m,\u001b[0m \u001b[0mcheck_input\u001b[0m\u001b[1;33m=\u001b[0m\u001b[1;32mTrue\u001b[0m\u001b[1;33m)\u001b[0m\u001b[1;33m\u001b[0m\u001b[1;33m\u001b[0m\u001b[0m\n\u001b[0;32m    605\u001b[0m         \u001b[1;32mif\u001b[0m \u001b[0mX\u001b[0m\u001b[1;33m.\u001b[0m\u001b[0mshape\u001b[0m\u001b[1;33m[\u001b[0m\u001b[1;36m1\u001b[0m\u001b[1;33m]\u001b[0m \u001b[1;33m!=\u001b[0m \u001b[0mself\u001b[0m\u001b[1;33m.\u001b[0m\u001b[0mn_features_\u001b[0m\u001b[1;33m:\u001b[0m\u001b[1;33m\u001b[0m\u001b[1;33m\u001b[0m\u001b[0m\n",
      "\u001b[1;32m~\\anaconda3\\lib\\site-packages\\sklearn\\ensemble\\_gb.py\u001b[0m in \u001b[0;36m_check_initialized\u001b[1;34m(self)\u001b[0m\n\u001b[0;32m    362\u001b[0m     \u001b[1;32mdef\u001b[0m \u001b[0m_check_initialized\u001b[0m\u001b[1;33m(\u001b[0m\u001b[0mself\u001b[0m\u001b[1;33m)\u001b[0m\u001b[1;33m:\u001b[0m\u001b[1;33m\u001b[0m\u001b[1;33m\u001b[0m\u001b[0m\n\u001b[0;32m    363\u001b[0m         \u001b[1;34m\"\"\"Check that the estimator is initialized, raising an error if not.\"\"\"\u001b[0m\u001b[1;33m\u001b[0m\u001b[1;33m\u001b[0m\u001b[0m\n\u001b[1;32m--> 364\u001b[1;33m         \u001b[0mcheck_is_fitted\u001b[0m\u001b[1;33m(\u001b[0m\u001b[0mself\u001b[0m\u001b[1;33m)\u001b[0m\u001b[1;33m\u001b[0m\u001b[1;33m\u001b[0m\u001b[0m\n\u001b[0m\u001b[0;32m    365\u001b[0m \u001b[1;33m\u001b[0m\u001b[0m\n\u001b[0;32m    366\u001b[0m     \u001b[1;32mdef\u001b[0m \u001b[0mfit\u001b[0m\u001b[1;33m(\u001b[0m\u001b[0mself\u001b[0m\u001b[1;33m,\u001b[0m \u001b[0mX\u001b[0m\u001b[1;33m,\u001b[0m \u001b[0my\u001b[0m\u001b[1;33m,\u001b[0m \u001b[0msample_weight\u001b[0m\u001b[1;33m=\u001b[0m\u001b[1;32mNone\u001b[0m\u001b[1;33m,\u001b[0m \u001b[0mmonitor\u001b[0m\u001b[1;33m=\u001b[0m\u001b[1;32mNone\u001b[0m\u001b[1;33m)\u001b[0m\u001b[1;33m:\u001b[0m\u001b[1;33m\u001b[0m\u001b[1;33m\u001b[0m\u001b[0m\n",
      "\u001b[1;32m~\\anaconda3\\lib\\site-packages\\sklearn\\utils\\validation.py\u001b[0m in \u001b[0;36minner_f\u001b[1;34m(*args, **kwargs)\u001b[0m\n\u001b[0;32m     70\u001b[0m                           FutureWarning)\n\u001b[0;32m     71\u001b[0m         \u001b[0mkwargs\u001b[0m\u001b[1;33m.\u001b[0m\u001b[0mupdate\u001b[0m\u001b[1;33m(\u001b[0m\u001b[1;33m{\u001b[0m\u001b[0mk\u001b[0m\u001b[1;33m:\u001b[0m \u001b[0marg\u001b[0m \u001b[1;32mfor\u001b[0m \u001b[0mk\u001b[0m\u001b[1;33m,\u001b[0m \u001b[0marg\u001b[0m \u001b[1;32min\u001b[0m \u001b[0mzip\u001b[0m\u001b[1;33m(\u001b[0m\u001b[0msig\u001b[0m\u001b[1;33m.\u001b[0m\u001b[0mparameters\u001b[0m\u001b[1;33m,\u001b[0m \u001b[0margs\u001b[0m\u001b[1;33m)\u001b[0m\u001b[1;33m}\u001b[0m\u001b[1;33m)\u001b[0m\u001b[1;33m\u001b[0m\u001b[1;33m\u001b[0m\u001b[0m\n\u001b[1;32m---> 72\u001b[1;33m         \u001b[1;32mreturn\u001b[0m \u001b[0mf\u001b[0m\u001b[1;33m(\u001b[0m\u001b[1;33m**\u001b[0m\u001b[0mkwargs\u001b[0m\u001b[1;33m)\u001b[0m\u001b[1;33m\u001b[0m\u001b[1;33m\u001b[0m\u001b[0m\n\u001b[0m\u001b[0;32m     73\u001b[0m     \u001b[1;32mreturn\u001b[0m \u001b[0minner_f\u001b[0m\u001b[1;33m\u001b[0m\u001b[1;33m\u001b[0m\u001b[0m\n\u001b[0;32m     74\u001b[0m \u001b[1;33m\u001b[0m\u001b[0m\n",
      "\u001b[1;32m~\\anaconda3\\lib\\site-packages\\sklearn\\utils\\validation.py\u001b[0m in \u001b[0;36mcheck_is_fitted\u001b[1;34m(estimator, attributes, msg, all_or_any)\u001b[0m\n\u001b[0;32m   1017\u001b[0m \u001b[1;33m\u001b[0m\u001b[0m\n\u001b[0;32m   1018\u001b[0m     \u001b[1;32mif\u001b[0m \u001b[1;32mnot\u001b[0m \u001b[0mattrs\u001b[0m\u001b[1;33m:\u001b[0m\u001b[1;33m\u001b[0m\u001b[1;33m\u001b[0m\u001b[0m\n\u001b[1;32m-> 1019\u001b[1;33m         \u001b[1;32mraise\u001b[0m \u001b[0mNotFittedError\u001b[0m\u001b[1;33m(\u001b[0m\u001b[0mmsg\u001b[0m \u001b[1;33m%\u001b[0m \u001b[1;33m{\u001b[0m\u001b[1;34m'name'\u001b[0m\u001b[1;33m:\u001b[0m \u001b[0mtype\u001b[0m\u001b[1;33m(\u001b[0m\u001b[0mestimator\u001b[0m\u001b[1;33m)\u001b[0m\u001b[1;33m.\u001b[0m\u001b[0m__name__\u001b[0m\u001b[1;33m}\u001b[0m\u001b[1;33m)\u001b[0m\u001b[1;33m\u001b[0m\u001b[1;33m\u001b[0m\u001b[0m\n\u001b[0m\u001b[0;32m   1020\u001b[0m \u001b[1;33m\u001b[0m\u001b[0m\n\u001b[0;32m   1021\u001b[0m \u001b[1;33m\u001b[0m\u001b[0m\n",
      "\u001b[1;31mNotFittedError\u001b[0m: This GradientBoostingRegressor instance is not fitted yet. Call 'fit' with appropriate arguments before using this estimator."
     ]
    }
   ],
   "source": [
    "y_test_preds = reg_model.predict(X_test)\n",
    "\n",
    "ml_count, md_count, avg_count  = 0, 0, 0\n",
    "ml_days, md_days, avg_days  = 0, 0, 0\n",
    "ml_days_rms, md_days_rms, avg_days_rms  = 0, 0, 0\n",
    "\n",
    "for i in range(y_test_preds.shape[0]):\n",
    "    ml_model = abs(y_test_preds[i] - y_test[i])\n",
    "    median_model = abs(actual_median_los - y_test[i])\n",
    "    average_model = abs(actual_avg_los - y_test[i])\n",
    "    \n",
    "    ml_days += ml_model\n",
    "    md_days += median_model\n",
    "    avg_days += average_model\n",
    "    \n",
    "    ml_model_rms = (y_test_preds[i] - y_test[i])**2\n",
    "    median_model_rms = (actual_median_los - y_test[i])**2\n",
    "    average_model_rms = (actual_avg_los - y_test[i])**2\n",
    "    \n",
    "    ml_days_rms += ml_model_rms\n",
    "    md_days_rms += median_model_rms\n",
    "    avg_days_rms += average_model_rms\n",
    "\n",
    "print(\"Prediction Model days {}\".format(ml_days/y_test_preds.shape[0]))\n",
    "print(\"Median Model days {}\".format(md_days/y_test_preds.shape[0]))\n",
    "print(\"Average Model days {}\".format(avg_days/y_test_preds.shape[0]))\n",
    "\n",
    "print(\"Prediction Model RMS {}\".format((ml_days_rms**0.5)/y_test_preds.shape[0]))\n",
    "print(\"Median Model RMS {}\".format((md_days_rms**0.5)/y_test_preds.shape[0]))\n",
    "print(\"Average Model RMS {}\".format((avg_days_rms**0.5)/y_test_preds.shape[0]))"
   ]
  },
  {
   "cell_type": "code",
   "execution_count": null,
   "metadata": {},
   "outputs": [],
   "source": []
  },
  {
   "cell_type": "code",
   "execution_count": null,
   "metadata": {},
   "outputs": [],
   "source": []
  },
  {
   "cell_type": "markdown",
   "metadata": {},
   "source": [
    "### Acknowledgments"
   ]
  },
  {
   "cell_type": "markdown",
   "metadata": {},
   "source": [
    "MIMIC-III, a freely accessible critical care database. Johnson AEW, Pollard TJ, Shen L, Lehman L, Feng M, Ghassemi M, Moody B, Szolovits P, Celi LA, and Mark RG. Scientific Data (2016). DOI: 10.1038/sdata.2016.35.<br>\n",
    "Available from: http://www.nature.com/articles/sdata201635"
   ]
  },
  {
   "cell_type": "markdown",
   "metadata": {},
   "source": [
    "I found these resources particularly helpful for this project:\n",
    "\n",
    "- https://towardsdatascience.com/running-random-forests-inspect-the-feature-importances-with-this-code-2b00dd72b92e\n",
    "- https://matplotlib.org/examples/api/barchart_demo.html\n",
    "- https://stackoverflow.com/questions/46168450/replace-specific-range-of-values-in-data-frame-pandas\n",
    "- https://en.wikipedia.org/wiki/Root-mean-square_deviation\n",
    "- https://en.wikipedia.org/wiki/Coefficient_of_determination\n",
    "- https://www.theanalysisfactor.com/assessing-the-fit-of-regression-models/\n",
    "- https://www.healthcatalyst.com/success_stories/reducing-length-of-stay-in-hospital\n",
    "- http://bok.ahima.org/Pages/Long%20Term%20Care%20Guidelines%20TOC/Practice%20Guidelines/Reporting"
   ]
  },
  {
   "cell_type": "code",
   "execution_count": null,
   "metadata": {},
   "outputs": [],
   "source": []
  }
 ],
 "metadata": {
  "kernelspec": {
   "display_name": "Python 3",
   "language": "python",
   "name": "python3"
  },
  "language_info": {
   "codemirror_mode": {
    "name": "ipython",
    "version": 3
   },
   "file_extension": ".py",
   "mimetype": "text/x-python",
   "name": "python",
   "nbconvert_exporter": "python",
   "pygments_lexer": "ipython3",
   "version": "3.8.5"
  },
  "toc": {
   "base_numbering": 1,
   "nav_menu": {},
   "number_sections": true,
   "sideBar": true,
   "skip_h1_title": false,
   "title_cell": "Table of Contents",
   "title_sidebar": "Contents",
   "toc_cell": false,
   "toc_position": {},
   "toc_section_display": true,
   "toc_window_display": false
  }
 },
 "nbformat": 4,
 "nbformat_minor": 4
}
